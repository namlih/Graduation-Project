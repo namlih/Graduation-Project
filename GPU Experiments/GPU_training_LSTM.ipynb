{
  "nbformat": 4,
  "nbformat_minor": 0,
  "metadata": {
    "colab": {
      "name": "GPU training_LSTM.ipynb",
      "version": "0.3.2",
      "provenance": [],
      "collapsed_sections": []
    },
    "kernelspec": {
      "name": "python3",
      "display_name": "Python 3"
    },
    "accelerator": "GPU"
  },
  "cells": [
    {
      "metadata": {
        "id": "SGKjLQHDqhxA",
        "colab_type": "code",
        "colab": {}
      },
      "cell_type": "code",
      "source": [
        "import sys\n",
        "sys.path.insert(0, 'drive/Graduation Project/Colaboratory')"
      ],
      "execution_count": 0,
      "outputs": []
    },
    {
      "metadata": {
        "id": "CjnI_FGostkq",
        "colab_type": "code",
        "colab": {
          "base_uri": "https://localhost:8080/",
          "height": 34
        },
        "outputId": "bc241d78-b9ac-4ac7-d713-0159a33f6aff"
      },
      "cell_type": "code",
      "source": [
        "import tensorflow as tf\n",
        "tf.test.gpu_device_name()"
      ],
      "execution_count": 2,
      "outputs": [
        {
          "output_type": "execute_result",
          "data": {
            "text/plain": [
              "'/device:GPU:0'"
            ]
          },
          "metadata": {
            "tags": []
          },
          "execution_count": 2
        }
      ]
    },
    {
      "metadata": {
        "id": "F0jLbWcBsrKk",
        "colab_type": "code",
        "colab": {
          "base_uri": "https://localhost:8080/",
          "height": 278
        },
        "outputId": "7147fa3a-f9e7-4d47-b164-189f6daa4ccd"
      },
      "cell_type": "code",
      "source": [
        "from tensorflow.python.client import device_lib\n",
        "device_lib.list_local_devices()"
      ],
      "execution_count": 3,
      "outputs": [
        {
          "output_type": "execute_result",
          "data": {
            "text/plain": [
              "[name: \"/device:CPU:0\"\n",
              " device_type: \"CPU\"\n",
              " memory_limit: 268435456\n",
              " locality {\n",
              " }\n",
              " incarnation: 725476945310217342, name: \"/device:GPU:0\"\n",
              " device_type: \"GPU\"\n",
              " memory_limit: 191234048\n",
              " locality {\n",
              "   bus_id: 1\n",
              "   links {\n",
              "   }\n",
              " }\n",
              " incarnation: 709964908004901152\n",
              " physical_device_desc: \"device: 0, name: Tesla K80, pci bus id: 0000:00:04.0, compute capability: 3.7\"]"
            ]
          },
          "metadata": {
            "tags": []
          },
          "execution_count": 3
        }
      ]
    },
    {
      "metadata": {
        "id": "jbI0tyUdo4YS",
        "colab_type": "code",
        "colab": {}
      },
      "cell_type": "code",
      "source": [
        "import pandas as pd\n",
        "import numpy as np\n",
        "from matplotlib import pyplot as plt"
      ],
      "execution_count": 0,
      "outputs": []
    },
    {
      "metadata": {
        "id": "h2pasgJwhIjz",
        "colab_type": "code",
        "colab": {}
      },
      "cell_type": "code",
      "source": [
        "df = pd.read_csv('drive/Graduation Project/Colaboratory/user_data_anonymized.csv')\n",
        "df = df.drop([df.columns[0]],axis=1)"
      ],
      "execution_count": 0,
      "outputs": []
    },
    {
      "metadata": {
        "id": "uAlBQMoCGKtD",
        "colab_type": "code",
        "colab": {
          "base_uri": "https://localhost:8080/",
          "height": 206
        },
        "outputId": "e6a12644-bcc2-4c44-ac2a-308eccb76919"
      },
      "cell_type": "code",
      "source": [
        "df.head()"
      ],
      "execution_count": 6,
      "outputs": [
        {
          "output_type": "execute_result",
          "data": {
            "text/html": [
              "<div>\n",
              "<style scoped>\n",
              "    .dataframe tbody tr th:only-of-type {\n",
              "        vertical-align: middle;\n",
              "    }\n",
              "\n",
              "    .dataframe tbody tr th {\n",
              "        vertical-align: top;\n",
              "    }\n",
              "\n",
              "    .dataframe thead th {\n",
              "        text-align: right;\n",
              "    }\n",
              "</style>\n",
              "<table border=\"1\" class=\"dataframe\">\n",
              "  <thead>\n",
              "    <tr style=\"text-align: right;\">\n",
              "      <th></th>\n",
              "      <th>user_id</th>\n",
              "      <th>username</th>\n",
              "      <th>acc_x</th>\n",
              "      <th>acc_y</th>\n",
              "      <th>acc_z</th>\n",
              "      <th>gyro_x</th>\n",
              "      <th>gyro_y</th>\n",
              "      <th>gyro_z</th>\n",
              "      <th>type</th>\n",
              "      <th>ntrial</th>\n",
              "      <th>timestamp</th>\n",
              "    </tr>\n",
              "  </thead>\n",
              "  <tbody>\n",
              "    <tr>\n",
              "      <th>0</th>\n",
              "      <td>0</td>\n",
              "      <td>User_1</td>\n",
              "      <td>0.032867</td>\n",
              "      <td>-0.011398</td>\n",
              "      <td>-0.989441</td>\n",
              "      <td>0.001340</td>\n",
              "      <td>-0.004726</td>\n",
              "      <td>0.000653</td>\n",
              "      <td>0</td>\n",
              "      <td>3</td>\n",
              "      <td>2018-03-15 21:49:02.853</td>\n",
              "    </tr>\n",
              "    <tr>\n",
              "      <th>1</th>\n",
              "      <td>0</td>\n",
              "      <td>User_1</td>\n",
              "      <td>0.036270</td>\n",
              "      <td>-0.646866</td>\n",
              "      <td>-0.749863</td>\n",
              "      <td>0.001340</td>\n",
              "      <td>-0.004726</td>\n",
              "      <td>0.000653</td>\n",
              "      <td>0</td>\n",
              "      <td>3</td>\n",
              "      <td>2018-03-15 21:49:02.876</td>\n",
              "    </tr>\n",
              "    <tr>\n",
              "      <th>2</th>\n",
              "      <td>0</td>\n",
              "      <td>User_1</td>\n",
              "      <td>0.036270</td>\n",
              "      <td>-0.646866</td>\n",
              "      <td>-0.749863</td>\n",
              "      <td>0.001340</td>\n",
              "      <td>-0.004726</td>\n",
              "      <td>0.000653</td>\n",
              "      <td>0</td>\n",
              "      <td>3</td>\n",
              "      <td>2018-03-15 21:49:02.903</td>\n",
              "    </tr>\n",
              "    <tr>\n",
              "      <th>3</th>\n",
              "      <td>0</td>\n",
              "      <td>User_1</td>\n",
              "      <td>-0.061005</td>\n",
              "      <td>-0.691040</td>\n",
              "      <td>-0.748917</td>\n",
              "      <td>0.320133</td>\n",
              "      <td>0.039149</td>\n",
              "      <td>-0.234852</td>\n",
              "      <td>0</td>\n",
              "      <td>3</td>\n",
              "      <td>2018-03-15 21:49:03.052</td>\n",
              "    </tr>\n",
              "    <tr>\n",
              "      <th>4</th>\n",
              "      <td>0</td>\n",
              "      <td>User_1</td>\n",
              "      <td>-0.140427</td>\n",
              "      <td>-0.746765</td>\n",
              "      <td>-0.741333</td>\n",
              "      <td>0.381414</td>\n",
              "      <td>0.046364</td>\n",
              "      <td>-0.343133</td>\n",
              "      <td>0</td>\n",
              "      <td>3</td>\n",
              "      <td>2018-03-15 21:49:03.074</td>\n",
              "    </tr>\n",
              "  </tbody>\n",
              "</table>\n",
              "</div>"
            ],
            "text/plain": [
              "   user_id username     acc_x     acc_y     acc_z    gyro_x    gyro_y  \\\n",
              "0        0   User_1  0.032867 -0.011398 -0.989441  0.001340 -0.004726   \n",
              "1        0   User_1  0.036270 -0.646866 -0.749863  0.001340 -0.004726   \n",
              "2        0   User_1  0.036270 -0.646866 -0.749863  0.001340 -0.004726   \n",
              "3        0   User_1 -0.061005 -0.691040 -0.748917  0.320133  0.039149   \n",
              "4        0   User_1 -0.140427 -0.746765 -0.741333  0.381414  0.046364   \n",
              "\n",
              "     gyro_z  type  ntrial                timestamp  \n",
              "0  0.000653     0       3  2018-03-15 21:49:02.853  \n",
              "1  0.000653     0       3  2018-03-15 21:49:02.876  \n",
              "2  0.000653     0       3  2018-03-15 21:49:02.903  \n",
              "3 -0.234852     0       3  2018-03-15 21:49:03.052  \n",
              "4 -0.343133     0       3  2018-03-15 21:49:03.074  "
            ]
          },
          "metadata": {
            "tags": []
          },
          "execution_count": 6
        }
      ]
    },
    {
      "metadata": {
        "id": "9Ii5dscyo4cI",
        "colab_type": "code",
        "colab": {}
      },
      "cell_type": "code",
      "source": [
        "cols = ['sensor_type','trial','name','type','set']\n",
        "SEQ_LENGTH = 303\n",
        "OVERLAP = 0\n",
        "for i in range(SEQ_LENGTH):\n",
        "    cols.append('x'+str(i))\n",
        "moving_window_x = pd.DataFrame(columns = cols)\n",
        "\n",
        "label = pd.DataFrame(columns = ['sensor_type','set','type1','type2','type3','type4'])\n",
        "s_index = 0\n",
        "for trial in np.sort(df['ntrial'].unique()):\n",
        "    nt = df.loc[df['ntrial'] == trial]\n",
        "\n",
        "    names = df['username'].unique()\n",
        "    for name in names:\n",
        "        n = nt.loc[nt['username'] == name]\n",
        "        \n",
        "        types = np.array([1,2,3,4])\n",
        "        for type_ in types:\n",
        "            t = n.loc[n['type'] == type_]\n",
        "            \n",
        "            sensors = t.columns[2:8]\n",
        "            for sensor in sensors:  \n",
        "                s = t\n",
        "                \n",
        "                if trial == 5: text=\"test\"\n",
        "                else: text=\"train\"\n",
        "                    \n",
        "                row = np.array([sensor])\n",
        "                row = np.append(row,[trial])\n",
        "                row = np.append(row,[name])\n",
        "                row = np.append(row,[type_])\n",
        "                row = np.append(row,[text])\n",
        "                if s[sensor].values.shape[0] > SEQ_LENGTH:\n",
        "                    row = np.append(row,s[sensor].values[:SEQ_LENGTH].astype(float))\n",
        "                    #print(s[sensor].values[:SEQ_LENGTH])\n",
        "                elif s[sensor].values.shape[0] <= SEQ_LENGTH:\n",
        "                    padded_row = np.append(s[sensor].values[:].astype(float),np.array([s[sensor].values[-1].astype(float) for i in range(SEQ_LENGTH-s[sensor].values.shape[0])]))\n",
        "                    row = np.append(row,padded_row)\n",
        "                moving_window_x = moving_window_x.append(pd.DataFrame([row],columns=moving_window_x.columns))\n",
        "                \n",
        "                row_label = np.array([sensor])\n",
        "                row_label = np.append(row_label,[text])\n",
        "                row_label = np.append(row_label,np.zeros((types.shape[0],)))\n",
        "                row_label[type_+1] = 1.0\n",
        "                label = label.append(pd.DataFrame([row_label],columns=label.columns))\n",
        "                \n",
        "    s_index += s[sensor].shape[0]"
      ],
      "execution_count": 0,
      "outputs": []
    },
    {
      "metadata": {
        "id": "nxxJ5wa6o4fG",
        "colab_type": "code",
        "colab": {}
      },
      "cell_type": "code",
      "source": [
        "moving_window_x['index'] = [i for i in range(moving_window_x.shape[0])]\n",
        "moving_window_x = moving_window_x.set_index(['index'])\n",
        "\n",
        "label['index'] = [i for i in range(label.shape[0])]\n",
        "label = label.set_index(['index'])"
      ],
      "execution_count": 0,
      "outputs": []
    },
    {
      "metadata": {
        "id": "yIkdGcPHo4hK",
        "colab_type": "code",
        "colab": {}
      },
      "cell_type": "code",
      "source": [
        "train_len = int(moving_window_x.loc[moving_window_x['set'] == 'train'].shape[0]/6)\n",
        "test_len = int(moving_window_x.loc[moving_window_x['set'] == 'test'].shape[0]/6)"
      ],
      "execution_count": 0,
      "outputs": []
    },
    {
      "metadata": {
        "id": "fhR2eFAKo4hY",
        "colab_type": "code",
        "colab": {}
      },
      "cell_type": "code",
      "source": [
        "x_train = np.zeros((train_len,SEQ_LENGTH,6))\n",
        "y_train = np.zeros((train_len,4))\n",
        "\n",
        "x_test = np.zeros((test_len,SEQ_LENGTH,6))\n",
        "y_test = np.zeros((test_len,4))"
      ],
      "execution_count": 0,
      "outputs": []
    },
    {
      "metadata": {
        "id": "x2PdDR_Bo4he",
        "colab_type": "code",
        "colab": {}
      },
      "cell_type": "code",
      "source": [
        "shuffle_data = np.zeros((train_len+test_len,SEQ_LENGTH,6+4))"
      ],
      "execution_count": 0,
      "outputs": []
    },
    {
      "metadata": {
        "id": "3Y2dqKSio4ho",
        "colab_type": "code",
        "colab": {
          "base_uri": "https://localhost:8080/",
          "height": 86
        },
        "outputId": "679af408-4bd0-4dac-b6aa-a4dc60f5b6c5"
      },
      "cell_type": "code",
      "source": [
        "for i,sensor in enumerate(moving_window_x['sensor_type'].unique()):\n",
        "    s_train = moving_window_x.loc[moving_window_x['sensor_type'] == sensor]\n",
        "    s_train = s_train.loc[s_train['set'] == \"train\"]\n",
        "    s_test = moving_window_x.loc[moving_window_x['sensor_type'] == sensor]\n",
        "    s_test = s_test.loc[s_test['set'] == \"test\"]\n",
        "\n",
        "    x_train[:,:,i] = s_train.drop(['sensor_type','trial','name','type','set'],axis=1)\n",
        "    x_test[:,:,i] = s_test.drop(['sensor_type','trial','name','type','set'],axis=1)\n",
        "    if i == 0:\n",
        "        l = label.loc[label['sensor_type'] == sensor]\n",
        "        l_train = l.loc[l['set'] == \"train\"]\n",
        "        l_test = l.loc[l['set'] == \"test\"]\n",
        "        \n",
        "        y_train[:,:] = l_train.drop(['sensor_type','set'],axis=1)\n",
        "        y_test[:,:] = l_test.drop(['sensor_type','set'],axis=1)\n",
        "\n",
        "print(\"x_train.shape: \"+str(x_train.shape))\n",
        "print(\"y_train.shape: \"+str(y_train.shape))\n",
        "print(\"x_test.shape: \"+str(x_test.shape))\n",
        "print(\"y_test.shape: \"+str(y_test.shape))"
      ],
      "execution_count": 12,
      "outputs": [
        {
          "output_type": "stream",
          "text": [
            "x_train.shape: (32, 303, 6)\n",
            "y_train.shape: (32, 4)\n",
            "x_test.shape: (8, 303, 6)\n",
            "y_test.shape: (8, 4)\n"
          ],
          "name": "stdout"
        }
      ]
    },
    {
      "metadata": {
        "id": "0ecd71Oeo4mK",
        "colab_type": "code",
        "colab": {
          "base_uri": "https://localhost:8080/",
          "height": 34
        },
        "outputId": "e95e2259-2903-4459-a4ac-4224ebe885f5"
      },
      "cell_type": "code",
      "source": [
        "from keras.models import Sequential\n",
        "from keras.layers import Dense, LSTM\n",
        "from keras.callbacks import History\n",
        "import seaborn as sn\n",
        "import time"
      ],
      "execution_count": 13,
      "outputs": [
        {
          "output_type": "stream",
          "text": [
            "Using TensorFlow backend.\n"
          ],
          "name": "stderr"
        }
      ]
    },
    {
      "metadata": {
        "id": "lLWBP-ojcBzI",
        "colab_type": "code",
        "colab": {
          "base_uri": "https://localhost:8080/",
          "height": 3525
        },
        "outputId": "e6444f23-1394-4b47-9720-d024a8afb3e5"
      },
      "cell_type": "code",
      "source": [
        "y_train_ = np.zeros((32,303,4))\n",
        "y_train_[:,0,:] = y_train\n",
        "\n",
        "y_test_ = np.zeros((8,303,4))\n",
        "y_test_[:,0,:] = y_test\n",
        "\n",
        "shuffle_data[:32,:,:6] = x_train\n",
        "shuffle_data[:32,:,6:] = y_train_\n",
        "\n",
        "shuffle_data[32:,:,:6] = x_test\n",
        "shuffle_data[32:,:,6:] = y_test_\n",
        "\n",
        "\n",
        "while True:\n",
        "  np.random.shuffle(shuffle_data)\n",
        "\n",
        "  x_train = shuffle_data[:32,:,:6]\n",
        "  x_test = shuffle_data[32:,:,:6]\n",
        "  y_train = shuffle_data[:32,0,6:].reshape(32,4)\n",
        "  y_test = shuffle_data[32:,0,6:].reshape(8,4)\n",
        "  if np.sum(y_test[:,0]) == 2:\n",
        "      if np.sum(y_test[:,1]) == 2:\n",
        "          if np.sum(y_test[:,2]) == 2:\n",
        "              if np.sum(y_test[:,3]) == 2:\n",
        "                  break\n",
        "\n",
        "\n",
        "batch_size = 1\n",
        "timesteps = SEQ_LENGTH\n",
        "data_dim = 6\n",
        "\n",
        "model = Sequential()\n",
        "model.add(LSTM(128, return_sequences=True, \n",
        "               batch_input_shape=(batch_size, timesteps, data_dim)))\n",
        "model.add(LSTM(64))\n",
        "model.add(Dense(32))\n",
        "model.add(Dense(4, activation='softmax'))\n",
        "\n",
        "model.compile(loss='categorical_crossentropy',\n",
        "              optimizer='adam',\n",
        "              metrics=['accuracy'])\n",
        "\n",
        "\n",
        "st = time.time()\n",
        "history = model.fit(x_train, y_train,\n",
        "          batch_size=batch_size, epochs=100, shuffle=False,\n",
        "          validation_data=(x_test, y_test),verbose=1)\n",
        "ft = time.time()\n",
        "\n",
        "print(\"batch size : %d -> %d seconds for training with CPU\"%(batch_size,ft-st))\n"
      ],
      "execution_count": 14,
      "outputs": [
        {
          "output_type": "stream",
          "text": [
            "Train on 32 samples, validate on 8 samples\n",
            "Epoch 1/100\n",
            "32/32 [==============================] - 40s 1s/step - loss: 1.4603 - acc: 0.2188 - val_loss: 1.4013 - val_acc: 0.1250\n",
            "Epoch 2/100\n",
            "32/32 [==============================] - 40s 1s/step - loss: 1.3561 - acc: 0.3750 - val_loss: 1.4117 - val_acc: 0.1250\n",
            "Epoch 3/100\n",
            "32/32 [==============================] - 39s 1s/step - loss: 1.3135 - acc: 0.4062 - val_loss: 1.3714 - val_acc: 0.1250\n",
            "Epoch 4/100\n",
            "32/32 [==============================] - 39s 1s/step - loss: 1.2762 - acc: 0.2812 - val_loss: 1.4087 - val_acc: 0.1250\n",
            "Epoch 5/100\n",
            "32/32 [==============================] - 39s 1s/step - loss: 1.2571 - acc: 0.4375 - val_loss: 1.4687 - val_acc: 0.1250\n",
            "Epoch 6/100\n",
            "32/32 [==============================] - 39s 1s/step - loss: 1.3042 - acc: 0.4062 - val_loss: 3.2717 - val_acc: 0.1250\n",
            "Epoch 7/100\n",
            " 8/32 [======>.......................] - ETA: 26s - loss: 2.8002 - acc: 0.2500"
          ],
          "name": "stdout"
        },
        {
          "output_type": "stream",
          "text": [
            "32/32 [==============================] - 39s 1s/step - loss: 1.9299 - acc: 0.1562 - val_loss: 1.7078 - val_acc: 0.1250\n",
            "Epoch 8/100\n",
            "32/32 [==============================] - 39s 1s/step - loss: 1.3559 - acc: 0.2812 - val_loss: 1.3545 - val_acc: 0.2500\n",
            "Epoch 9/100\n",
            "32/32 [==============================] - 39s 1s/step - loss: 1.2049 - acc: 0.5000 - val_loss: 1.3613 - val_acc: 0.2500\n",
            "Epoch 10/100\n",
            "32/32 [==============================] - 38s 1s/step - loss: 1.1339 - acc: 0.4375 - val_loss: 1.3122 - val_acc: 0.2500\n",
            "Epoch 11/100\n",
            "32/32 [==============================] - 39s 1s/step - loss: 1.0430 - acc: 0.5000 - val_loss: 1.2202 - val_acc: 0.2500\n",
            "Epoch 12/100\n",
            "32/32 [==============================] - 39s 1s/step - loss: 0.9490 - acc: 0.4688 - val_loss: 1.0581 - val_acc: 0.3750\n",
            "Epoch 13/100\n",
            "22/32 [===================>..........] - ETA: 11s - loss: 0.7967 - acc: 0.5000"
          ],
          "name": "stdout"
        },
        {
          "output_type": "stream",
          "text": [
            "32/32 [==============================] - 39s 1s/step - loss: 0.9772 - acc: 0.5000 - val_loss: 2.1849 - val_acc: 0.1250\n",
            "Epoch 14/100\n",
            "32/32 [==============================] - 39s 1s/step - loss: 2.1839 - acc: 0.2500 - val_loss: 1.3932 - val_acc: 0.1250\n",
            "Epoch 15/100\n",
            "32/32 [==============================] - 39s 1s/step - loss: 1.3663 - acc: 0.3438 - val_loss: 1.3590 - val_acc: 0.1250\n",
            "Epoch 16/100\n",
            "32/32 [==============================] - 39s 1s/step - loss: 1.3346 - acc: 0.3125 - val_loss: 1.3282 - val_acc: 0.1250\n",
            "Epoch 17/100\n",
            "32/32 [==============================] - 39s 1s/step - loss: 1.2914 - acc: 0.2500 - val_loss: 1.3688 - val_acc: 0.1250\n",
            "Epoch 18/100\n",
            "32/32 [==============================] - 39s 1s/step - loss: 1.2707 - acc: 0.3125 - val_loss: 1.4072 - val_acc: 0.1250\n",
            "Epoch 19/100\n",
            "23/32 [====================>.........] - ETA: 10s - loss: 1.2688 - acc: 0.3478"
          ],
          "name": "stdout"
        },
        {
          "output_type": "stream",
          "text": [
            "32/32 [==============================] - 39s 1s/step - loss: 1.2403 - acc: 0.3750 - val_loss: 1.4407 - val_acc: 0.1250\n",
            "Epoch 20/100\n",
            "32/32 [==============================] - 39s 1s/step - loss: 1.1570 - acc: 0.5625 - val_loss: 1.3581 - val_acc: 0.2500\n",
            "Epoch 21/100\n",
            "32/32 [==============================] - 39s 1s/step - loss: 1.5208 - acc: 0.3438 - val_loss: 1.4443 - val_acc: 0.2500\n",
            "Epoch 22/100\n",
            "32/32 [==============================] - 39s 1s/step - loss: 1.4592 - acc: 0.2500 - val_loss: 1.4137 - val_acc: 0.2500\n",
            "Epoch 23/100\n",
            "32/32 [==============================] - 39s 1s/step - loss: 1.4274 - acc: 0.3438 - val_loss: 1.4004 - val_acc: 0.2500\n",
            "Epoch 24/100\n",
            "32/32 [==============================] - 39s 1s/step - loss: 1.3962 - acc: 0.3125 - val_loss: 1.3922 - val_acc: 0.3750\n",
            "Epoch 25/100\n",
            "23/32 [====================>.........] - ETA: 10s - loss: 1.4138 - acc: 0.2609"
          ],
          "name": "stdout"
        },
        {
          "output_type": "stream",
          "text": [
            "32/32 [==============================] - 39s 1s/step - loss: 1.3624 - acc: 0.3750 - val_loss: 1.2939 - val_acc: 0.3750\n",
            "Epoch 26/100\n",
            "32/32 [==============================] - 39s 1s/step - loss: 1.3069 - acc: 0.2188 - val_loss: 1.7660 - val_acc: 0.1250\n",
            "Epoch 27/100\n",
            "32/32 [==============================] - 39s 1s/step - loss: 1.2539 - acc: 0.4375 - val_loss: 1.6206 - val_acc: 0.2500\n",
            "Epoch 28/100\n",
            "32/32 [==============================] - 39s 1s/step - loss: 1.4781 - acc: 0.3750 - val_loss: 1.4744 - val_acc: 0.2500\n",
            "Epoch 29/100\n",
            "32/32 [==============================] - 39s 1s/step - loss: 1.2677 - acc: 0.4062 - val_loss: 1.4618 - val_acc: 0.3750\n",
            "Epoch 30/100\n",
            "32/32 [==============================] - 38s 1s/step - loss: 1.1780 - acc: 0.4688 - val_loss: 1.4820 - val_acc: 0.3750\n",
            "Epoch 31/100\n",
            "23/32 [====================>.........] - ETA: 10s - loss: 1.1617 - acc: 0.4348"
          ],
          "name": "stdout"
        },
        {
          "output_type": "stream",
          "text": [
            "32/32 [==============================] - 39s 1s/step - loss: 1.0726 - acc: 0.5312 - val_loss: 1.4724 - val_acc: 0.3750\n",
            "Epoch 32/100\n",
            "32/32 [==============================] - 39s 1s/step - loss: 0.9840 - acc: 0.5625 - val_loss: 1.3952 - val_acc: 0.3750\n",
            "Epoch 33/100\n",
            "32/32 [==============================] - 38s 1s/step - loss: 0.9605 - acc: 0.6250 - val_loss: 1.7452 - val_acc: 0.0000e+00\n",
            "Epoch 34/100\n",
            "32/32 [==============================] - 38s 1s/step - loss: 1.4993 - acc: 0.2188 - val_loss: 1.3606 - val_acc: 0.2500\n",
            "Epoch 35/100\n",
            "32/32 [==============================] - 38s 1s/step - loss: 1.4456 - acc: 0.2188 - val_loss: 1.4263 - val_acc: 0.3750\n",
            "Epoch 36/100\n",
            "32/32 [==============================] - 39s 1s/step - loss: 1.4777 - acc: 0.2500 - val_loss: 1.3688 - val_acc: 0.2500\n",
            "Epoch 37/100\n",
            "22/32 [===================>..........] - ETA: 11s - loss: 1.4499 - acc: 0.1818"
          ],
          "name": "stdout"
        },
        {
          "output_type": "stream",
          "text": [
            "32/32 [==============================] - 39s 1s/step - loss: 1.3879 - acc: 0.2188 - val_loss: 1.2871 - val_acc: 0.2500\n",
            "Epoch 38/100\n",
            "32/32 [==============================] - 39s 1s/step - loss: 1.2884 - acc: 0.2812 - val_loss: 1.4116 - val_acc: 0.5000\n",
            "Epoch 39/100\n",
            "32/32 [==============================] - 39s 1s/step - loss: 1.3979 - acc: 0.1562 - val_loss: 1.1503 - val_acc: 0.7500\n",
            "Epoch 40/100\n",
            "32/32 [==============================] - 40s 1s/step - loss: 1.3250 - acc: 0.2188 - val_loss: 1.3315 - val_acc: 0.2500\n",
            "Epoch 41/100\n",
            "32/32 [==============================] - 40s 1s/step - loss: 1.3377 - acc: 0.3438 - val_loss: 1.4681 - val_acc: 0.1250\n",
            "Epoch 42/100\n",
            "32/32 [==============================] - 40s 1s/step - loss: 1.2799 - acc: 0.3438 - val_loss: 1.3305 - val_acc: 0.1250\n",
            "Epoch 43/100\n",
            "23/32 [====================>.........] - ETA: 10s - loss: 1.3733 - acc: 0.2609"
          ],
          "name": "stdout"
        },
        {
          "output_type": "stream",
          "text": [
            "32/32 [==============================] - 40s 1s/step - loss: 1.3444 - acc: 0.3438 - val_loss: 1.3657 - val_acc: 0.1250\n",
            "Epoch 44/100\n",
            "32/32 [==============================] - 39s 1s/step - loss: 1.2991 - acc: 0.3438 - val_loss: 1.1153 - val_acc: 0.5000\n",
            "Epoch 45/100\n",
            "32/32 [==============================] - 39s 1s/step - loss: 1.3971 - acc: 0.2812 - val_loss: 1.4502 - val_acc: 0.2500\n",
            "Epoch 46/100\n",
            "32/32 [==============================] - 40s 1s/step - loss: 1.5087 - acc: 0.0938 - val_loss: 1.3872 - val_acc: 0.2500\n",
            "Epoch 47/100\n",
            "32/32 [==============================] - 39s 1s/step - loss: 1.4602 - acc: 0.1562 - val_loss: 1.3883 - val_acc: 0.2500\n",
            "Epoch 48/100\n",
            "32/32 [==============================] - 40s 1s/step - loss: 1.4425 - acc: 0.1562 - val_loss: 1.3858 - val_acc: 0.2500\n",
            "Epoch 49/100\n",
            "23/32 [====================>.........] - ETA: 10s - loss: 1.4487 - acc: 0.0870"
          ],
          "name": "stdout"
        },
        {
          "output_type": "stream",
          "text": [
            "32/32 [==============================] - 39s 1s/step - loss: 1.4325 - acc: 0.1250 - val_loss: 1.3849 - val_acc: 0.2500\n",
            "Epoch 50/100\n",
            "32/32 [==============================] - 39s 1s/step - loss: 1.4259 - acc: 0.1562 - val_loss: 1.3838 - val_acc: 0.2500\n",
            "Epoch 51/100\n",
            "32/32 [==============================] - 39s 1s/step - loss: 1.4201 - acc: 0.2188 - val_loss: 1.3825 - val_acc: 0.2500\n",
            "Epoch 52/100\n",
            "32/32 [==============================] - 39s 1s/step - loss: 1.4163 - acc: 0.2500 - val_loss: 1.3803 - val_acc: 0.2500\n",
            "Epoch 53/100\n",
            "32/32 [==============================] - 39s 1s/step - loss: 1.4105 - acc: 0.2188 - val_loss: 1.3770 - val_acc: 0.3750\n",
            "Epoch 54/100\n",
            "32/32 [==============================] - 39s 1s/step - loss: 1.4060 - acc: 0.2812 - val_loss: 1.3680 - val_acc: 0.3750\n",
            "Epoch 55/100\n",
            "23/32 [====================>.........] - ETA: 10s - loss: 1.4182 - acc: 0.1739"
          ],
          "name": "stdout"
        },
        {
          "output_type": "stream",
          "text": [
            "32/32 [==============================] - 39s 1s/step - loss: 1.3960 - acc: 0.2500 - val_loss: 1.3465 - val_acc: 0.3750\n",
            "Epoch 56/100\n",
            "32/32 [==============================] - 39s 1s/step - loss: 1.3860 - acc: 0.2812 - val_loss: 1.3352 - val_acc: 0.2500\n",
            "Epoch 57/100\n",
            "32/32 [==============================] - 39s 1s/step - loss: 1.3959 - acc: 0.2188 - val_loss: 1.3603 - val_acc: 0.3750\n",
            "Epoch 58/100\n",
            "32/32 [==============================] - 39s 1s/step - loss: 1.4249 - acc: 0.2812 - val_loss: 1.3637 - val_acc: 0.2500\n",
            "Epoch 59/100\n",
            "32/32 [==============================] - 39s 1s/step - loss: 1.3966 - acc: 0.2500 - val_loss: 1.3250 - val_acc: 0.3750\n",
            "Epoch 60/100\n",
            "32/32 [==============================] - 39s 1s/step - loss: 1.3754 - acc: 0.2500 - val_loss: 1.3059 - val_acc: 0.3750\n",
            "Epoch 61/100\n",
            "23/32 [====================>.........] - ETA: 10s - loss: 1.3906 - acc: 0.1304"
          ],
          "name": "stdout"
        },
        {
          "output_type": "stream",
          "text": [
            "32/32 [==============================] - 40s 1s/step - loss: 1.3521 - acc: 0.2500 - val_loss: 1.2854 - val_acc: 0.3750\n",
            "Epoch 62/100\n",
            "32/32 [==============================] - 40s 1s/step - loss: 1.5186 - acc: 0.3125 - val_loss: 1.3861 - val_acc: 0.2500\n",
            "Epoch 63/100\n",
            "32/32 [==============================] - 41s 1s/step - loss: 1.4063 - acc: 0.1250 - val_loss: 1.3875 - val_acc: 0.0000e+00\n",
            "Epoch 64/100\n",
            "32/32 [==============================] - 41s 1s/step - loss: 1.4094 - acc: 0.2188 - val_loss: 1.3822 - val_acc: 0.0000e+00\n",
            "Epoch 65/100\n",
            "32/32 [==============================] - 41s 1s/step - loss: 1.4007 - acc: 0.2812 - val_loss: 1.3799 - val_acc: 0.0000e+00\n",
            "Epoch 66/100\n",
            "32/32 [==============================] - 41s 1s/step - loss: 1.3956 - acc: 0.3125 - val_loss: 1.3750 - val_acc: 0.0000e+00\n",
            "Epoch 67/100\n",
            "21/32 [==================>...........] - ETA: 12s - loss: 1.4078 - acc: 0.1905"
          ],
          "name": "stdout"
        },
        {
          "output_type": "stream",
          "text": [
            "32/32 [==============================] - 40s 1s/step - loss: 1.3873 - acc: 0.3125 - val_loss: 1.3634 - val_acc: 0.2500\n",
            "Epoch 68/100\n",
            "32/32 [==============================] - 40s 1s/step - loss: 1.3755 - acc: 0.3438 - val_loss: 1.3483 - val_acc: 0.3750\n",
            "Epoch 69/100\n",
            "32/32 [==============================] - 40s 1s/step - loss: 1.3638 - acc: 0.3750 - val_loss: 1.3266 - val_acc: 0.3750\n",
            "Epoch 70/100\n",
            "32/32 [==============================] - 40s 1s/step - loss: 1.3504 - acc: 0.3750 - val_loss: 1.2634 - val_acc: 0.3750\n",
            "Epoch 71/100\n",
            "32/32 [==============================] - 39s 1s/step - loss: 1.3467 - acc: 0.3125 - val_loss: 1.1291 - val_acc: 0.6250\n",
            "Epoch 72/100\n",
            "32/32 [==============================] - 39s 1s/step - loss: 1.2362 - acc: 0.4375 - val_loss: 1.5345 - val_acc: 0.2500\n",
            "Epoch 73/100\n",
            "23/32 [====================>.........] - ETA: 10s - loss: 1.4610 - acc: 0.2174"
          ],
          "name": "stdout"
        },
        {
          "output_type": "stream",
          "text": [
            "32/32 [==============================] - 39s 1s/step - loss: 1.4170 - acc: 0.2812 - val_loss: 1.3524 - val_acc: 0.5000\n",
            "Epoch 74/100\n",
            "32/32 [==============================] - 39s 1s/step - loss: 1.3713 - acc: 0.2812 - val_loss: 1.3389 - val_acc: 0.1250\n",
            "Epoch 75/100\n",
            "32/32 [==============================] - 39s 1s/step - loss: 1.3472 - acc: 0.2812 - val_loss: 1.3053 - val_acc: 0.3750\n",
            "Epoch 76/100\n",
            "32/32 [==============================] - 39s 1s/step - loss: 1.3373 - acc: 0.2812 - val_loss: 1.3403 - val_acc: 0.3750\n",
            "Epoch 77/100\n",
            "32/32 [==============================] - 40s 1s/step - loss: 1.4151 - acc: 0.2812 - val_loss: 1.3838 - val_acc: 0.1250\n",
            "Epoch 78/100\n",
            "32/32 [==============================] - 39s 1s/step - loss: 1.2182 - acc: 0.4375 - val_loss: 1.0711 - val_acc: 0.6250\n",
            "Epoch 79/100\n",
            "23/32 [====================>.........] - ETA: 10s - loss: 1.0969 - acc: 0.4783"
          ],
          "name": "stdout"
        },
        {
          "output_type": "stream",
          "text": [
            "32/32 [==============================] - 39s 1s/step - loss: 1.0220 - acc: 0.5312 - val_loss: 0.8939 - val_acc: 0.6250\n",
            "Epoch 80/100\n",
            "32/32 [==============================] - 39s 1s/step - loss: 1.4021 - acc: 0.2812 - val_loss: 1.3440 - val_acc: 0.3750\n",
            "Epoch 81/100\n",
            "32/32 [==============================] - 39s 1s/step - loss: 1.3494 - acc: 0.2812 - val_loss: 1.2282 - val_acc: 0.3750\n",
            "Epoch 82/100\n",
            "32/32 [==============================] - 39s 1s/step - loss: 1.3465 - acc: 0.2188 - val_loss: 1.2455 - val_acc: 0.1250\n",
            "Epoch 83/100\n",
            "32/32 [==============================] - 39s 1s/step - loss: 1.3730 - acc: 0.1875 - val_loss: 1.2973 - val_acc: 0.1250\n",
            "Epoch 84/100\n",
            "32/32 [==============================] - 39s 1s/step - loss: 1.3299 - acc: 0.2812 - val_loss: 1.2230 - val_acc: 0.3750\n",
            "Epoch 85/100\n",
            "23/32 [====================>.........] - ETA: 10s - loss: 1.3519 - acc: 0.2609"
          ],
          "name": "stdout"
        },
        {
          "output_type": "stream",
          "text": [
            "32/32 [==============================] - 39s 1s/step - loss: 1.3030 - acc: 0.3438 - val_loss: 1.2275 - val_acc: 0.3750\n",
            "Epoch 86/100\n",
            "32/32 [==============================] - 39s 1s/step - loss: 1.3152 - acc: 0.2500 - val_loss: 1.2147 - val_acc: 0.1250\n",
            "Epoch 87/100\n",
            "32/32 [==============================] - 39s 1s/step - loss: 1.3094 - acc: 0.2188 - val_loss: 1.2161 - val_acc: 0.1250\n",
            "Epoch 88/100\n",
            "32/32 [==============================] - 39s 1s/step - loss: 1.3052 - acc: 0.2188 - val_loss: 1.2193 - val_acc: 0.1250\n",
            "Epoch 89/100\n",
            "32/32 [==============================] - 39s 1s/step - loss: 1.3105 - acc: 0.3438 - val_loss: 1.2190 - val_acc: 0.1250\n",
            "Epoch 90/100\n",
            "32/32 [==============================] - 39s 1s/step - loss: 1.2730 - acc: 0.1875 - val_loss: 1.2383 - val_acc: 0.3750\n",
            "Epoch 91/100\n",
            "23/32 [====================>.........] - ETA: 10s - loss: 1.4777 - acc: 0.2174"
          ],
          "name": "stdout"
        },
        {
          "output_type": "stream",
          "text": [
            "32/32 [==============================] - 39s 1s/step - loss: 1.4021 - acc: 0.2812 - val_loss: 1.2682 - val_acc: 0.3750\n",
            "Epoch 92/100\n",
            "32/32 [==============================] - 40s 1s/step - loss: 1.3480 - acc: 0.3125 - val_loss: 1.2330 - val_acc: 0.1250\n",
            "Epoch 93/100\n",
            "32/32 [==============================] - 40s 1s/step - loss: 1.3133 - acc: 0.3125 - val_loss: 1.2454 - val_acc: 0.1250\n",
            "Epoch 94/100\n",
            "32/32 [==============================] - 40s 1s/step - loss: 1.3071 - acc: 0.3438 - val_loss: 1.2605 - val_acc: 0.1250\n",
            "Epoch 95/100\n",
            "32/32 [==============================] - 41s 1s/step - loss: 1.2988 - acc: 0.2812 - val_loss: 1.2833 - val_acc: 0.1250\n",
            "Epoch 96/100\n",
            "32/32 [==============================] - 40s 1s/step - loss: 1.3091 - acc: 0.2500 - val_loss: 1.2421 - val_acc: 0.1250\n",
            "Epoch 97/100\n",
            "23/32 [====================>.........] - ETA: 10s - loss: 1.3483 - acc: 0.2609"
          ],
          "name": "stdout"
        },
        {
          "output_type": "stream",
          "text": [
            "32/32 [==============================] - 41s 1s/step - loss: 1.2958 - acc: 0.3750 - val_loss: 1.2577 - val_acc: 0.1250\n",
            "Epoch 98/100\n",
            "32/32 [==============================] - 41s 1s/step - loss: 1.2881 - acc: 0.2812 - val_loss: 1.2385 - val_acc: 0.3750\n",
            "Epoch 99/100\n",
            "32/32 [==============================] - 40s 1s/step - loss: 1.2694 - acc: 0.3125 - val_loss: 1.2794 - val_acc: 0.3750\n",
            "Epoch 100/100\n",
            "32/32 [==============================] - 42s 1s/step - loss: 1.3024 - acc: 0.3438 - val_loss: 1.2401 - val_acc: 0.1250\n",
            "batch size : 1 -> 3936 seconds for training with CPU\n"
          ],
          "name": "stdout"
        }
      ]
    },
    {
      "metadata": {
        "id": "3wfqYPKSh-c8",
        "colab_type": "code",
        "colab": {
          "base_uri": "https://localhost:8080/",
          "height": 3525
        },
        "outputId": "e2beafe5-d051-4544-b319-d7dd1dc0a852"
      },
      "cell_type": "code",
      "source": [
        "y_train_ = np.zeros((32,303,4))\n",
        "y_train_[:,0,:] = y_train\n",
        "\n",
        "y_test_ = np.zeros((8,303,4))\n",
        "y_test_[:,0,:] = y_test\n",
        "\n",
        "shuffle_data[:32,:,:6] = x_train\n",
        "shuffle_data[:32,:,6:] = y_train_\n",
        "\n",
        "shuffle_data[32:,:,:6] = x_test\n",
        "shuffle_data[32:,:,6:] = y_test_\n",
        "\n",
        "\n",
        "while True:\n",
        "  np.random.shuffle(shuffle_data)\n",
        "\n",
        "  x_train = shuffle_data[:32,:,:6]\n",
        "  x_test = shuffle_data[32:,:,:6]\n",
        "  y_train = shuffle_data[:32,0,6:].reshape(32,4)\n",
        "  y_test = shuffle_data[32:,0,6:].reshape(8,4)\n",
        "  if np.sum(y_test[:,0]) == 2:\n",
        "      if np.sum(y_test[:,1]) == 2:\n",
        "          if np.sum(y_test[:,2]) == 2:\n",
        "              if np.sum(y_test[:,3]) == 2:\n",
        "                  break\n",
        "\n",
        "\n",
        "batch_size = 8\n",
        "timesteps = SEQ_LENGTH\n",
        "data_dim = 6\n",
        "\n",
        "model = Sequential()\n",
        "model.add(LSTM(128, return_sequences=True, \n",
        "               batch_input_shape=(batch_size, timesteps, data_dim)))\n",
        "model.add(LSTM(64))\n",
        "model.add(Dense(32))\n",
        "model.add(Dense(4, activation='softmax'))\n",
        "\n",
        "model.compile(loss='categorical_crossentropy',\n",
        "              optimizer='adam',\n",
        "              metrics=['accuracy'])\n",
        "\n",
        "\n",
        "st = time.time()\n",
        "history = model.fit(x_train, y_train,\n",
        "          batch_size=batch_size, epochs=100, shuffle=False,\n",
        "          validation_data=(x_test, y_test),verbose=1)\n",
        "ft = time.time()\n",
        "\n",
        "print(\"batch size : %d -> %d seconds for training with CPU\"%(batch_size,ft-st))\n"
      ],
      "execution_count": 15,
      "outputs": [
        {
          "output_type": "stream",
          "text": [
            "Train on 32 samples, validate on 8 samples\n",
            "Epoch 1/100\n",
            "32/32 [==============================] - 6s 182ms/step - loss: 1.4285 - acc: 0.2188 - val_loss: 1.4022 - val_acc: 0.2500\n",
            "Epoch 2/100\n",
            "32/32 [==============================] - 5s 159ms/step - loss: 1.3751 - acc: 0.2812 - val_loss: 1.3914 - val_acc: 0.1250\n",
            "Epoch 3/100\n",
            "32/32 [==============================] - 5s 158ms/step - loss: 1.3480 - acc: 0.3750 - val_loss: 1.3814 - val_acc: 0.1250\n",
            "Epoch 4/100\n",
            "32/32 [==============================] - 5s 160ms/step - loss: 1.3180 - acc: 0.4375 - val_loss: 1.3730 - val_acc: 0.1250\n",
            "Epoch 5/100\n",
            "32/32 [==============================] - 5s 157ms/step - loss: 1.2732 - acc: 0.5312 - val_loss: 1.3667 - val_acc: 0.2500\n",
            "Epoch 6/100\n",
            "32/32 [==============================] - 5s 164ms/step - loss: 1.2006 - acc: 0.4688 - val_loss: 1.2037 - val_acc: 0.3750\n",
            "Epoch 7/100\n",
            "32/32 [==============================] - 5s 161ms/step - loss: 1.0846 - acc: 0.4062 - val_loss: 0.9871 - val_acc: 0.3750\n",
            "Epoch 8/100\n",
            "32/32 [==============================] - 5s 161ms/step - loss: 0.8799 - acc: 0.5000 - val_loss: 0.8691 - val_acc: 0.3750\n",
            "Epoch 9/100\n",
            "32/32 [==============================] - 5s 158ms/step - loss: 0.9510 - acc: 0.6250 - val_loss: 0.7785 - val_acc: 0.6250\n",
            "Epoch 10/100\n",
            "32/32 [==============================] - 5s 157ms/step - loss: 0.7544 - acc: 0.5312 - val_loss: 0.8578 - val_acc: 0.3750\n",
            "Epoch 11/100\n",
            "32/32 [==============================] - 5s 157ms/step - loss: 0.6621 - acc: 0.6875 - val_loss: 0.6875 - val_acc: 0.6250\n",
            "Epoch 12/100\n",
            "32/32 [==============================] - 5s 163ms/step - loss: 0.6058 - acc: 0.7188 - val_loss: 0.7285 - val_acc: 0.5000\n",
            "Epoch 13/100\n",
            "32/32 [==============================] - 5s 158ms/step - loss: 0.5552 - acc: 0.7812 - val_loss: 0.8270 - val_acc: 0.5000\n",
            "Epoch 14/100\n",
            "32/32 [==============================] - 5s 161ms/step - loss: 0.6350 - acc: 0.6562 - val_loss: 0.8963 - val_acc: 0.6250\n",
            "Epoch 15/100\n",
            "32/32 [==============================] - 5s 158ms/step - loss: 0.7957 - acc: 0.7500 - val_loss: 1.3700 - val_acc: 0.7500\n",
            "Epoch 16/100\n",
            "32/32 [==============================] - 5s 158ms/step - loss: 1.5694 - acc: 0.5312 - val_loss: 1.4375 - val_acc: 0.7500\n",
            "Epoch 17/100\n",
            "24/32 [=====================>........] - ETA: 1s - loss: 1.0722 - acc: 0.5417"
          ],
          "name": "stdout"
        },
        {
          "output_type": "stream",
          "text": [
            "\b\b\b\b\b\b\b\b\b\b\b\b\b\b\b\b\b\b\b\b\b\b\b\b\b\b\b\b\b\b\b\b\b\b\b\b\b\b\b\b\b\b\b\b\b\b\b\b\b\b\b\b\b\b\b\b\b\b\b\b\b\b\b\b\b\b\b\b\b\b\b\b\b\b\b\b\b\r32/32 [==============================] - 5s 158ms/step - loss: 1.1924 - acc: 0.5625 - val_loss: 1.4062 - val_acc: 0.7500\n",
            "Epoch 18/100\n",
            "32/32 [==============================] - 5s 160ms/step - loss: 0.8736 - acc: 0.5000 - val_loss: 1.5381 - val_acc: 0.3750\n",
            "Epoch 19/100\n",
            "32/32 [==============================] - 5s 158ms/step - loss: 0.6619 - acc: 0.6562 - val_loss: 1.4384 - val_acc: 0.3750\n",
            "Epoch 20/100\n",
            "32/32 [==============================] - 5s 159ms/step - loss: 0.6270 - acc: 0.7188 - val_loss: 1.4711 - val_acc: 0.3750\n",
            "Epoch 21/100\n",
            "32/32 [==============================] - 5s 159ms/step - loss: 0.5241 - acc: 0.7812 - val_loss: 1.5210 - val_acc: 0.6250\n",
            "Epoch 22/100\n",
            "32/32 [==============================] - 5s 160ms/step - loss: 0.5005 - acc: 0.8438 - val_loss: 1.5560 - val_acc: 0.6250\n",
            "Epoch 23/100\n",
            "32/32 [==============================] - 5s 153ms/step - loss: 0.4778 - acc: 0.9062 - val_loss: 1.5878 - val_acc: 0.6250\n",
            "Epoch 24/100\n",
            "32/32 [==============================] - 5s 155ms/step - loss: 0.4407 - acc: 0.9062 - val_loss: 1.6153 - val_acc: 0.6250\n",
            "Epoch 25/100\n",
            "32/32 [==============================] - 5s 160ms/step - loss: 0.4027 - acc: 0.9062 - val_loss: 1.6440 - val_acc: 0.6250\n",
            "Epoch 26/100\n",
            "32/32 [==============================] - 5s 163ms/step - loss: 0.3747 - acc: 0.9062 - val_loss: 1.6667 - val_acc: 0.6250\n",
            "Epoch 27/100\n",
            "32/32 [==============================] - 5s 165ms/step - loss: 0.3497 - acc: 0.8750 - val_loss: 1.9750 - val_acc: 0.5000\n",
            "Epoch 28/100\n",
            "32/32 [==============================] - 5s 162ms/step - loss: 0.3128 - acc: 0.9375 - val_loss: 1.6603 - val_acc: 0.6250\n",
            "Epoch 29/100\n",
            "32/32 [==============================] - 5s 160ms/step - loss: 0.5528 - acc: 0.7812 - val_loss: 1.8606 - val_acc: 0.5000\n",
            "Epoch 30/100\n",
            "32/32 [==============================] - 5s 159ms/step - loss: 0.7963 - acc: 0.7812 - val_loss: 1.5970 - val_acc: 0.6250\n",
            "Epoch 31/100\n",
            "32/32 [==============================] - 5s 160ms/step - loss: 0.5208 - acc: 0.8750 - val_loss: 1.0508 - val_acc: 0.7500\n",
            "Epoch 32/100\n",
            "32/32 [==============================] - 5s 160ms/step - loss: 0.3348 - acc: 0.9375 - val_loss: 0.9460 - val_acc: 0.8750\n",
            "Epoch 33/100\n",
            "16/32 [==============>...............] - ETA: 2s - loss: 0.3401 - acc: 0.8750"
          ],
          "name": "stdout"
        },
        {
          "output_type": "stream",
          "text": [
            "32/32 [==============================] - 5s 159ms/step - loss: 0.4328 - acc: 0.8125 - val_loss: 1.0999 - val_acc: 0.7500\n",
            "Epoch 34/100\n",
            "32/32 [==============================] - 5s 159ms/step - loss: 0.3841 - acc: 0.8438 - val_loss: 1.1031 - val_acc: 0.7500\n",
            "Epoch 35/100\n",
            "32/32 [==============================] - 5s 163ms/step - loss: 0.3743 - acc: 0.8750 - val_loss: 1.1368 - val_acc: 0.6250\n",
            "Epoch 36/100\n",
            "32/32 [==============================] - 5s 167ms/step - loss: 0.2928 - acc: 0.9375 - val_loss: 1.1624 - val_acc: 0.6250\n",
            "Epoch 37/100\n",
            "32/32 [==============================] - 5s 166ms/step - loss: 0.2814 - acc: 0.9375 - val_loss: 1.2930 - val_acc: 0.6250\n",
            "Epoch 38/100\n",
            "32/32 [==============================] - 5s 167ms/step - loss: 0.2812 - acc: 0.8750 - val_loss: 1.3199 - val_acc: 0.6250\n",
            "Epoch 39/100\n",
            "32/32 [==============================] - 5s 162ms/step - loss: 0.2308 - acc: 0.9375 - val_loss: 1.3224 - val_acc: 0.6250\n",
            "Epoch 40/100\n",
            "32/32 [==============================] - 5s 165ms/step - loss: 0.2345 - acc: 0.9062 - val_loss: 1.3906 - val_acc: 0.5000\n",
            "Epoch 41/100\n",
            "32/32 [==============================] - 5s 161ms/step - loss: 0.2019 - acc: 0.9375 - val_loss: 1.5005 - val_acc: 0.6250\n",
            "Epoch 42/100\n",
            "32/32 [==============================] - 5s 162ms/step - loss: 0.1632 - acc: 0.9375 - val_loss: 1.4147 - val_acc: 0.6250\n",
            "Epoch 43/100\n",
            "32/32 [==============================] - 5s 162ms/step - loss: 0.2623 - acc: 0.8750 - val_loss: 1.4517 - val_acc: 0.5000\n",
            "Epoch 44/100\n",
            "32/32 [==============================] - 5s 162ms/step - loss: 0.2169 - acc: 0.9062 - val_loss: 1.5936 - val_acc: 0.6250\n",
            "Epoch 45/100\n",
            "32/32 [==============================] - 5s 161ms/step - loss: 0.1807 - acc: 0.9375 - val_loss: 1.7218 - val_acc: 0.5000\n",
            "Epoch 46/100\n",
            "32/32 [==============================] - 5s 161ms/step - loss: 0.3010 - acc: 0.8438 - val_loss: 1.4182 - val_acc: 0.6250\n",
            "Epoch 47/100\n",
            "32/32 [==============================] - 5s 162ms/step - loss: 0.2566 - acc: 0.9062 - val_loss: 1.2700 - val_acc: 0.7500\n",
            "Epoch 48/100\n",
            "32/32 [==============================] - 5s 161ms/step - loss: 0.2487 - acc: 0.8750 - val_loss: 1.3658 - val_acc: 0.6250\n",
            "Epoch 49/100\n",
            "32/32 [==============================] - 5s 165ms/step - loss: 0.1451 - acc: 0.9375 - val_loss: 1.5297 - val_acc: 0.6250\n",
            "Epoch 50/100\n"
          ],
          "name": "stdout"
        },
        {
          "output_type": "stream",
          "text": [
            "32/32 [==============================] - 5s 165ms/step - loss: 0.6712 - acc: 0.8125 - val_loss: 1.8179 - val_acc: 0.6250\n",
            "Epoch 51/100\n",
            "32/32 [==============================] - 5s 165ms/step - loss: 0.4210 - acc: 0.8438 - val_loss: 1.7639 - val_acc: 0.5000\n",
            "Epoch 52/100\n",
            "32/32 [==============================] - 5s 162ms/step - loss: 0.2501 - acc: 0.9062 - val_loss: 1.4120 - val_acc: 0.7500\n",
            "Epoch 53/100\n",
            "32/32 [==============================] - 5s 162ms/step - loss: 0.1604 - acc: 0.9375 - val_loss: 1.4270 - val_acc: 0.6250\n",
            "Epoch 54/100\n",
            "32/32 [==============================] - 5s 164ms/step - loss: 0.1486 - acc: 0.9688 - val_loss: 1.3938 - val_acc: 0.6250\n",
            "Epoch 55/100\n",
            "32/32 [==============================] - 5s 164ms/step - loss: 0.1176 - acc: 0.9688 - val_loss: 1.5664 - val_acc: 0.6250\n",
            "Epoch 56/100\n",
            "32/32 [==============================] - 5s 162ms/step - loss: 0.0999 - acc: 0.9688 - val_loss: 1.5717 - val_acc: 0.5000\n",
            "Epoch 57/100\n",
            "32/32 [==============================] - 5s 163ms/step - loss: 0.0864 - acc: 1.0000 - val_loss: 1.7038 - val_acc: 0.5000\n",
            "Epoch 58/100\n",
            "32/32 [==============================] - 5s 164ms/step - loss: 0.0620 - acc: 1.0000 - val_loss: 1.7771 - val_acc: 0.6250\n",
            "Epoch 59/100\n",
            "32/32 [==============================] - 5s 163ms/step - loss: 0.0506 - acc: 1.0000 - val_loss: 1.7928 - val_acc: 0.6250\n",
            "Epoch 60/100\n",
            "32/32 [==============================] - 5s 163ms/step - loss: 0.0452 - acc: 1.0000 - val_loss: 1.8069 - val_acc: 0.6250\n",
            "Epoch 61/100\n",
            "32/32 [==============================] - 5s 165ms/step - loss: 0.0383 - acc: 1.0000 - val_loss: 1.8514 - val_acc: 0.6250\n",
            "Epoch 62/100\n",
            "32/32 [==============================] - 5s 166ms/step - loss: 0.0324 - acc: 1.0000 - val_loss: 1.9898 - val_acc: 0.5000\n",
            "Epoch 63/100\n",
            "32/32 [==============================] - 5s 163ms/step - loss: 0.0281 - acc: 1.0000 - val_loss: 2.0792 - val_acc: 0.5000\n",
            "Epoch 64/100\n",
            "32/32 [==============================] - 5s 165ms/step - loss: 0.0249 - acc: 1.0000 - val_loss: 2.1211 - val_acc: 0.5000\n",
            "Epoch 65/100\n",
            "32/32 [==============================] - 5s 162ms/step - loss: 0.0223 - acc: 1.0000 - val_loss: 2.1461 - val_acc: 0.5000\n",
            "Epoch 66/100\n",
            "32/32 [==============================] - 5s 163ms/step - loss: 0.0201 - acc: 1.0000 - val_loss: 2.1717 - val_acc: 0.5000\n",
            "Epoch 67/100\n"
          ],
          "name": "stdout"
        },
        {
          "output_type": "stream",
          "text": [
            "32/32 [==============================] - 5s 164ms/step - loss: 0.0182 - acc: 1.0000 - val_loss: 2.2035 - val_acc: 0.5000\n",
            "Epoch 68/100\n",
            "32/32 [==============================] - 5s 163ms/step - loss: 0.0165 - acc: 1.0000 - val_loss: 2.2356 - val_acc: 0.5000\n",
            "Epoch 69/100\n",
            "32/32 [==============================] - 5s 162ms/step - loss: 0.0151 - acc: 1.0000 - val_loss: 2.2610 - val_acc: 0.5000\n",
            "Epoch 70/100\n",
            "32/32 [==============================] - 5s 167ms/step - loss: 0.0139 - acc: 1.0000 - val_loss: 2.2804 - val_acc: 0.5000\n",
            "Epoch 71/100\n",
            "32/32 [==============================] - 5s 163ms/step - loss: 0.0128 - acc: 1.0000 - val_loss: 2.2991 - val_acc: 0.5000\n",
            "Epoch 72/100\n",
            "32/32 [==============================] - 5s 164ms/step - loss: 0.0118 - acc: 1.0000 - val_loss: 2.3201 - val_acc: 0.5000\n",
            "Epoch 73/100\n",
            "32/32 [==============================] - 5s 163ms/step - loss: 0.0110 - acc: 1.0000 - val_loss: 2.3426 - val_acc: 0.5000\n",
            "Epoch 74/100\n",
            "32/32 [==============================] - 5s 164ms/step - loss: 0.0102 - acc: 1.0000 - val_loss: 2.3648 - val_acc: 0.5000\n",
            "Epoch 75/100\n",
            "32/32 [==============================] - 5s 162ms/step - loss: 0.0096 - acc: 1.0000 - val_loss: 2.3855 - val_acc: 0.5000\n",
            "Epoch 76/100\n",
            "32/32 [==============================] - 5s 164ms/step - loss: 0.0090 - acc: 1.0000 - val_loss: 2.4054 - val_acc: 0.5000\n",
            "Epoch 77/100\n",
            "32/32 [==============================] - 5s 164ms/step - loss: 0.0085 - acc: 1.0000 - val_loss: 2.4255 - val_acc: 0.5000\n",
            "Epoch 78/100\n",
            "32/32 [==============================] - 5s 164ms/step - loss: 0.0080 - acc: 1.0000 - val_loss: 2.4460 - val_acc: 0.5000\n",
            "Epoch 79/100\n",
            "32/32 [==============================] - 5s 162ms/step - loss: 0.0075 - acc: 1.0000 - val_loss: 2.4669 - val_acc: 0.5000\n",
            "Epoch 80/100\n",
            "32/32 [==============================] - 5s 163ms/step - loss: 0.0071 - acc: 1.0000 - val_loss: 2.4879 - val_acc: 0.5000\n",
            "Epoch 81/100\n",
            "32/32 [==============================] - 5s 164ms/step - loss: 0.0068 - acc: 1.0000 - val_loss: 2.5085 - val_acc: 0.5000\n",
            "Epoch 82/100\n",
            "32/32 [==============================] - 5s 161ms/step - loss: 0.0065 - acc: 1.0000 - val_loss: 2.5285 - val_acc: 0.5000\n",
            "Epoch 83/100\n",
            "32/32 [==============================] - 5s 162ms/step - loss: 0.0062 - acc: 1.0000 - val_loss: 2.5479 - val_acc: 0.5000\n",
            "Epoch 84/100\n"
          ],
          "name": "stdout"
        },
        {
          "output_type": "stream",
          "text": [
            "32/32 [==============================] - 5s 165ms/step - loss: 0.0059 - acc: 1.0000 - val_loss: 2.5670 - val_acc: 0.5000\n",
            "Epoch 85/100\n",
            "32/32 [==============================] - 5s 164ms/step - loss: 0.0056 - acc: 1.0000 - val_loss: 2.5857 - val_acc: 0.5000\n",
            "Epoch 86/100\n",
            "32/32 [==============================] - 5s 164ms/step - loss: 0.0054 - acc: 1.0000 - val_loss: 2.6042 - val_acc: 0.5000\n",
            "Epoch 87/100\n",
            "32/32 [==============================] - 5s 162ms/step - loss: 0.0052 - acc: 1.0000 - val_loss: 2.6225 - val_acc: 0.5000\n",
            "Epoch 88/100\n",
            "32/32 [==============================] - 5s 165ms/step - loss: 0.0050 - acc: 1.0000 - val_loss: 2.6404 - val_acc: 0.5000\n",
            "Epoch 89/100\n",
            "32/32 [==============================] - 5s 164ms/step - loss: 0.0048 - acc: 1.0000 - val_loss: 2.6579 - val_acc: 0.5000\n",
            "Epoch 90/100\n",
            "32/32 [==============================] - 5s 163ms/step - loss: 0.0046 - acc: 1.0000 - val_loss: 2.6751 - val_acc: 0.5000\n",
            "Epoch 91/100\n",
            "32/32 [==============================] - 5s 163ms/step - loss: 0.0044 - acc: 1.0000 - val_loss: 2.6920 - val_acc: 0.5000\n",
            "Epoch 92/100\n",
            "32/32 [==============================] - 5s 161ms/step - loss: 0.0043 - acc: 1.0000 - val_loss: 2.7085 - val_acc: 0.5000\n",
            "Epoch 93/100\n",
            "32/32 [==============================] - 5s 161ms/step - loss: 0.0041 - acc: 1.0000 - val_loss: 2.7247 - val_acc: 0.5000\n",
            "Epoch 94/100\n",
            "32/32 [==============================] - 5s 162ms/step - loss: 0.0040 - acc: 1.0000 - val_loss: 2.7406 - val_acc: 0.5000\n",
            "Epoch 95/100\n",
            "32/32 [==============================] - 5s 163ms/step - loss: 0.0038 - acc: 1.0000 - val_loss: 2.7563 - val_acc: 0.5000\n",
            "Epoch 96/100\n",
            "32/32 [==============================] - 5s 164ms/step - loss: 0.0037 - acc: 1.0000 - val_loss: 2.7717 - val_acc: 0.5000\n",
            "Epoch 97/100\n",
            "32/32 [==============================] - 5s 162ms/step - loss: 0.0036 - acc: 1.0000 - val_loss: 2.7868 - val_acc: 0.5000\n",
            "Epoch 98/100\n",
            "32/32 [==============================] - 5s 161ms/step - loss: 0.0035 - acc: 1.0000 - val_loss: 2.8017 - val_acc: 0.5000\n",
            "Epoch 99/100\n",
            "32/32 [==============================] - 5s 162ms/step - loss: 0.0034 - acc: 1.0000 - val_loss: 2.8162 - val_acc: 0.5000\n",
            "Epoch 100/100\n",
            "32/32 [==============================] - 5s 164ms/step - loss: 0.0033 - acc: 1.0000 - val_loss: 2.8306 - val_acc: 0.5000\n",
            "batch size : 8 -> 520 seconds for training with CPU\n"
          ],
          "name": "stdout"
        }
      ]
    },
    {
      "metadata": {
        "id": "QD_5nMeOGm1b",
        "colab_type": "code",
        "colab": {}
      },
      "cell_type": "code",
      "source": [
        ""
      ],
      "execution_count": 0,
      "outputs": []
    }
  ]
}