{
  "nbformat": 4,
  "nbformat_minor": 0,
  "metadata": {
    "colab": {
      "name": "GPU training_CuDNNLSTM.ipynb",
      "version": "0.3.2",
      "provenance": [],
      "collapsed_sections": []
    },
    "kernelspec": {
      "name": "python3",
      "display_name": "Python 3"
    },
    "accelerator": "GPU"
  },
  "cells": [
    {
      "metadata": {
        "id": "X5rxzkp0o9X0",
        "colab_type": "code",
        "colab": {
          "base_uri": "https://localhost:8080/",
          "height": 106
        },
        "outputId": "bcbf6538-d421-4f4a-d99c-b70715501e33"
      },
      "cell_type": "code",
      "source": [
        "!apt-get install -y -qq software-properties-common python-software-properties module-init-tools\n",
        "!add-apt-repository -y ppa:alessandro-strada/ppa 2>&1 > /dev/null\n",
        "!apt-get update -qq 2>&1 > /dev/null\n",
        "!apt-get -y install -qq google-drive-ocamlfuse fuse\n",
        "from google.colab import auth\n",
        "auth.authenticate_user()\n",
        "from oauth2client.client import GoogleCredentials\n",
        "creds = GoogleCredentials.get_application_default()\n",
        "import getpass\n",
        "!google-drive-ocamlfuse -headless -id={creds.client_id} -secret={creds.client_secret} < /dev/null 2>&1 | grep URL\n",
        "vcode = getpass.getpass()\n",
        "!echo {vcode} | google-drive-ocamlfuse -headless -id={creds.client_id} -secret={creds.client_secret}"
      ],
      "execution_count": 2,
      "outputs": [
        {
          "output_type": "stream",
          "text": [
            "Please, open the following URL in a web browser: https://accounts.google.com/o/oauth2/auth?client_id=32555940559.apps.googleusercontent.com&redirect_uri=urn%3Aietf%3Awg%3Aoauth%3A2.0%3Aoob&scope=https%3A%2F%2Fwww.googleapis.com%2Fauth%2Fdrive&response_type=code&access_type=offline&approval_prompt=force\r\n",
            "··········\n",
            "Please, open the following URL in a web browser: https://accounts.google.com/o/oauth2/auth?client_id=32555940559.apps.googleusercontent.com&redirect_uri=urn%3Aietf%3Awg%3Aoauth%3A2.0%3Aoob&scope=https%3A%2F%2Fwww.googleapis.com%2Fauth%2Fdrive&response_type=code&access_type=offline&approval_prompt=force\n",
            "Please enter the verification code: Access token retrieved correctly.\n"
          ],
          "name": "stdout"
        }
      ]
    },
    {
      "metadata": {
        "id": "W9uIKPexpc7I",
        "colab_type": "code",
        "colab": {}
      },
      "cell_type": "code",
      "source": [
        "!mkdir -p drive\n",
        "!google-drive-ocamlfuse drive"
      ],
      "execution_count": 0,
      "outputs": []
    },
    {
      "metadata": {
        "id": "SGKjLQHDqhxA",
        "colab_type": "code",
        "colab": {}
      },
      "cell_type": "code",
      "source": [
        "import sys\n",
        "sys.path.insert(0, 'drive/Graduation Project/Colaboratory')"
      ],
      "execution_count": 0,
      "outputs": []
    },
    {
      "metadata": {
        "id": "CjnI_FGostkq",
        "colab_type": "code",
        "colab": {
          "base_uri": "https://localhost:8080/",
          "height": 34
        },
        "outputId": "6ad0ca23-cc37-4ebd-bc5b-541f3631581e"
      },
      "cell_type": "code",
      "source": [
        "import tensorflow as tf\n",
        "tf.test.gpu_device_name()"
      ],
      "execution_count": 5,
      "outputs": [
        {
          "output_type": "execute_result",
          "data": {
            "text/plain": [
              "'/device:GPU:0'"
            ]
          },
          "metadata": {
            "tags": []
          },
          "execution_count": 5
        }
      ]
    },
    {
      "metadata": {
        "id": "F0jLbWcBsrKk",
        "colab_type": "code",
        "colab": {
          "base_uri": "https://localhost:8080/",
          "height": 278
        },
        "outputId": "feb65218-3936-4b34-c201-1b5a38aec1cf"
      },
      "cell_type": "code",
      "source": [
        "from tensorflow.python.client import device_lib\n",
        "device_lib.list_local_devices()"
      ],
      "execution_count": 6,
      "outputs": [
        {
          "output_type": "execute_result",
          "data": {
            "text/plain": [
              "[name: \"/device:CPU:0\"\n",
              " device_type: \"CPU\"\n",
              " memory_limit: 268435456\n",
              " locality {\n",
              " }\n",
              " incarnation: 11332833682080485363, name: \"/device:GPU:0\"\n",
              " device_type: \"GPU\"\n",
              " memory_limit: 11288962663\n",
              " locality {\n",
              "   bus_id: 1\n",
              "   links {\n",
              "   }\n",
              " }\n",
              " incarnation: 3074035257072341949\n",
              " physical_device_desc: \"device: 0, name: Tesla K80, pci bus id: 0000:00:04.0, compute capability: 3.7\"]"
            ]
          },
          "metadata": {
            "tags": []
          },
          "execution_count": 6
        }
      ]
    },
    {
      "metadata": {
        "id": "jbI0tyUdo4YS",
        "colab_type": "code",
        "colab": {}
      },
      "cell_type": "code",
      "source": [
        "import pandas as pd\n",
        "import numpy as np\n",
        "from matplotlib import pyplot as plt"
      ],
      "execution_count": 0,
      "outputs": []
    },
    {
      "metadata": {
        "id": "h2pasgJwhIjz",
        "colab_type": "code",
        "colab": {}
      },
      "cell_type": "code",
      "source": [
        "df = pd.read_csv('drive/Graduation Project/Colaboratory/user_data_anonymized.csv')\n",
        "df = df.drop([df.columns[0]],axis=1)"
      ],
      "execution_count": 0,
      "outputs": []
    },
    {
      "metadata": {
        "id": "uAlBQMoCGKtD",
        "colab_type": "code",
        "colab": {
          "base_uri": "https://localhost:8080/",
          "height": 206
        },
        "outputId": "0e09d97a-5ff8-4a09-aa32-ffb2d803aff9"
      },
      "cell_type": "code",
      "source": [
        "df.head()"
      ],
      "execution_count": 9,
      "outputs": [
        {
          "output_type": "execute_result",
          "data": {
            "text/html": [
              "<div>\n",
              "<style scoped>\n",
              "    .dataframe tbody tr th:only-of-type {\n",
              "        vertical-align: middle;\n",
              "    }\n",
              "\n",
              "    .dataframe tbody tr th {\n",
              "        vertical-align: top;\n",
              "    }\n",
              "\n",
              "    .dataframe thead th {\n",
              "        text-align: right;\n",
              "    }\n",
              "</style>\n",
              "<table border=\"1\" class=\"dataframe\">\n",
              "  <thead>\n",
              "    <tr style=\"text-align: right;\">\n",
              "      <th></th>\n",
              "      <th>user_id</th>\n",
              "      <th>username</th>\n",
              "      <th>acc_x</th>\n",
              "      <th>acc_y</th>\n",
              "      <th>acc_z</th>\n",
              "      <th>gyro_x</th>\n",
              "      <th>gyro_y</th>\n",
              "      <th>gyro_z</th>\n",
              "      <th>type</th>\n",
              "      <th>ntrial</th>\n",
              "      <th>timestamp</th>\n",
              "    </tr>\n",
              "  </thead>\n",
              "  <tbody>\n",
              "    <tr>\n",
              "      <th>0</th>\n",
              "      <td>0</td>\n",
              "      <td>User_1</td>\n",
              "      <td>0.032867</td>\n",
              "      <td>-0.011398</td>\n",
              "      <td>-0.989441</td>\n",
              "      <td>0.001340</td>\n",
              "      <td>-0.004726</td>\n",
              "      <td>0.000653</td>\n",
              "      <td>0</td>\n",
              "      <td>3</td>\n",
              "      <td>2018-03-15 21:49:02.853</td>\n",
              "    </tr>\n",
              "    <tr>\n",
              "      <th>1</th>\n",
              "      <td>0</td>\n",
              "      <td>User_1</td>\n",
              "      <td>0.036270</td>\n",
              "      <td>-0.646866</td>\n",
              "      <td>-0.749863</td>\n",
              "      <td>0.001340</td>\n",
              "      <td>-0.004726</td>\n",
              "      <td>0.000653</td>\n",
              "      <td>0</td>\n",
              "      <td>3</td>\n",
              "      <td>2018-03-15 21:49:02.876</td>\n",
              "    </tr>\n",
              "    <tr>\n",
              "      <th>2</th>\n",
              "      <td>0</td>\n",
              "      <td>User_1</td>\n",
              "      <td>0.036270</td>\n",
              "      <td>-0.646866</td>\n",
              "      <td>-0.749863</td>\n",
              "      <td>0.001340</td>\n",
              "      <td>-0.004726</td>\n",
              "      <td>0.000653</td>\n",
              "      <td>0</td>\n",
              "      <td>3</td>\n",
              "      <td>2018-03-15 21:49:02.903</td>\n",
              "    </tr>\n",
              "    <tr>\n",
              "      <th>3</th>\n",
              "      <td>0</td>\n",
              "      <td>User_1</td>\n",
              "      <td>-0.061005</td>\n",
              "      <td>-0.691040</td>\n",
              "      <td>-0.748917</td>\n",
              "      <td>0.320133</td>\n",
              "      <td>0.039149</td>\n",
              "      <td>-0.234852</td>\n",
              "      <td>0</td>\n",
              "      <td>3</td>\n",
              "      <td>2018-03-15 21:49:03.052</td>\n",
              "    </tr>\n",
              "    <tr>\n",
              "      <th>4</th>\n",
              "      <td>0</td>\n",
              "      <td>User_1</td>\n",
              "      <td>-0.140427</td>\n",
              "      <td>-0.746765</td>\n",
              "      <td>-0.741333</td>\n",
              "      <td>0.381414</td>\n",
              "      <td>0.046364</td>\n",
              "      <td>-0.343133</td>\n",
              "      <td>0</td>\n",
              "      <td>3</td>\n",
              "      <td>2018-03-15 21:49:03.074</td>\n",
              "    </tr>\n",
              "  </tbody>\n",
              "</table>\n",
              "</div>"
            ],
            "text/plain": [
              "   user_id username     acc_x     acc_y     acc_z    gyro_x    gyro_y  \\\n",
              "0        0   User_1  0.032867 -0.011398 -0.989441  0.001340 -0.004726   \n",
              "1        0   User_1  0.036270 -0.646866 -0.749863  0.001340 -0.004726   \n",
              "2        0   User_1  0.036270 -0.646866 -0.749863  0.001340 -0.004726   \n",
              "3        0   User_1 -0.061005 -0.691040 -0.748917  0.320133  0.039149   \n",
              "4        0   User_1 -0.140427 -0.746765 -0.741333  0.381414  0.046364   \n",
              "\n",
              "     gyro_z  type  ntrial                timestamp  \n",
              "0  0.000653     0       3  2018-03-15 21:49:02.853  \n",
              "1  0.000653     0       3  2018-03-15 21:49:02.876  \n",
              "2  0.000653     0       3  2018-03-15 21:49:02.903  \n",
              "3 -0.234852     0       3  2018-03-15 21:49:03.052  \n",
              "4 -0.343133     0       3  2018-03-15 21:49:03.074  "
            ]
          },
          "metadata": {
            "tags": []
          },
          "execution_count": 9
        }
      ]
    },
    {
      "metadata": {
        "id": "9Ii5dscyo4cI",
        "colab_type": "code",
        "colab": {}
      },
      "cell_type": "code",
      "source": [
        "cols = ['sensor_type','trial','name','type','set']\n",
        "SEQ_LENGTH = 303\n",
        "OVERLAP = 0\n",
        "for i in range(SEQ_LENGTH):\n",
        "    cols.append('x'+str(i))\n",
        "moving_window_x = pd.DataFrame(columns = cols)\n",
        "\n",
        "label = pd.DataFrame(columns = ['sensor_type','set','type1','type2','type3','type4'])\n",
        "s_index = 0\n",
        "for trial in np.sort(df['ntrial'].unique()):\n",
        "    nt = df.loc[df['ntrial'] == trial]\n",
        "\n",
        "    names = df['username'].unique()\n",
        "    for name in names:\n",
        "        n = nt.loc[nt['username'] == name]\n",
        "        \n",
        "        types = np.array([1,2,3,4])\n",
        "        for type_ in types:\n",
        "            t = n.loc[n['type'] == type_]\n",
        "            \n",
        "            sensors = t.columns[2:8]\n",
        "            for sensor in sensors:  \n",
        "                s = t\n",
        "                \n",
        "                if trial == 5: text=\"test\"\n",
        "                else: text=\"train\"\n",
        "                    \n",
        "                row = np.array([sensor])\n",
        "                row = np.append(row,[trial])\n",
        "                row = np.append(row,[name])\n",
        "                row = np.append(row,[type_])\n",
        "                row = np.append(row,[text])\n",
        "                if s[sensor].values.shape[0] > SEQ_LENGTH:\n",
        "                    row = np.append(row,s[sensor].values[:SEQ_LENGTH].astype(float))\n",
        "                    #print(s[sensor].values[:SEQ_LENGTH])\n",
        "                elif s[sensor].values.shape[0] <= SEQ_LENGTH:\n",
        "                    padded_row = np.append(s[sensor].values[:].astype(float),np.array([s[sensor].values[-1].astype(float) for i in range(SEQ_LENGTH-s[sensor].values.shape[0])]))\n",
        "                    row = np.append(row,padded_row)\n",
        "                moving_window_x = moving_window_x.append(pd.DataFrame([row],columns=moving_window_x.columns))\n",
        "                \n",
        "                row_label = np.array([sensor])\n",
        "                row_label = np.append(row_label,[text])\n",
        "                row_label = np.append(row_label,np.zeros((types.shape[0],)))\n",
        "                row_label[type_+1] = 1.0\n",
        "                label = label.append(pd.DataFrame([row_label],columns=label.columns))\n",
        "                \n",
        "    s_index += s[sensor].shape[0]"
      ],
      "execution_count": 0,
      "outputs": []
    },
    {
      "metadata": {
        "id": "nxxJ5wa6o4fG",
        "colab_type": "code",
        "colab": {}
      },
      "cell_type": "code",
      "source": [
        "moving_window_x['index'] = [i for i in range(moving_window_x.shape[0])]\n",
        "moving_window_x = moving_window_x.set_index(['index'])\n",
        "\n",
        "label['index'] = [i for i in range(label.shape[0])]\n",
        "label = label.set_index(['index'])"
      ],
      "execution_count": 0,
      "outputs": []
    },
    {
      "metadata": {
        "id": "yIkdGcPHo4hK",
        "colab_type": "code",
        "colab": {}
      },
      "cell_type": "code",
      "source": [
        "train_len = int(moving_window_x.loc[moving_window_x['set'] == 'train'].shape[0]/6)\n",
        "test_len = int(moving_window_x.loc[moving_window_x['set'] == 'test'].shape[0]/6)"
      ],
      "execution_count": 0,
      "outputs": []
    },
    {
      "metadata": {
        "id": "fhR2eFAKo4hY",
        "colab_type": "code",
        "colab": {}
      },
      "cell_type": "code",
      "source": [
        "x_train = np.zeros((train_len,SEQ_LENGTH,6))\n",
        "y_train = np.zeros((train_len,4))\n",
        "\n",
        "x_test = np.zeros((test_len,SEQ_LENGTH,6))\n",
        "y_test = np.zeros((test_len,4))"
      ],
      "execution_count": 0,
      "outputs": []
    },
    {
      "metadata": {
        "id": "x2PdDR_Bo4he",
        "colab_type": "code",
        "colab": {}
      },
      "cell_type": "code",
      "source": [
        "shuffle_data = np.zeros((train_len+test_len,SEQ_LENGTH,6+4))"
      ],
      "execution_count": 0,
      "outputs": []
    },
    {
      "metadata": {
        "id": "3Y2dqKSio4ho",
        "colab_type": "code",
        "colab": {
          "base_uri": "https://localhost:8080/",
          "height": 86
        },
        "outputId": "7d854397-32c3-40d2-e21f-6aa5b40f88d1"
      },
      "cell_type": "code",
      "source": [
        "for i,sensor in enumerate(moving_window_x['sensor_type'].unique()):\n",
        "    s_train = moving_window_x.loc[moving_window_x['sensor_type'] == sensor]\n",
        "    s_train = s_train.loc[s_train['set'] == \"train\"]\n",
        "    s_test = moving_window_x.loc[moving_window_x['sensor_type'] == sensor]\n",
        "    s_test = s_test.loc[s_test['set'] == \"test\"]\n",
        "\n",
        "    x_train[:,:,i] = s_train.drop(['sensor_type','trial','name','type','set'],axis=1)\n",
        "    x_test[:,:,i] = s_test.drop(['sensor_type','trial','name','type','set'],axis=1)\n",
        "    if i == 0:\n",
        "        l = label.loc[label['sensor_type'] == sensor]\n",
        "        l_train = l.loc[l['set'] == \"train\"]\n",
        "        l_test = l.loc[l['set'] == \"test\"]\n",
        "        \n",
        "        y_train[:,:] = l_train.drop(['sensor_type','set'],axis=1)\n",
        "        y_test[:,:] = l_test.drop(['sensor_type','set'],axis=1)\n",
        "\n",
        "print(\"x_train.shape: \"+str(x_train.shape))\n",
        "print(\"y_train.shape: \"+str(y_train.shape))\n",
        "print(\"x_test.shape: \"+str(x_test.shape))\n",
        "print(\"y_test.shape: \"+str(y_test.shape))"
      ],
      "execution_count": 15,
      "outputs": [
        {
          "output_type": "stream",
          "text": [
            "x_train.shape: (32, 303, 6)\n",
            "y_train.shape: (32, 4)\n",
            "x_test.shape: (8, 303, 6)\n",
            "y_test.shape: (8, 4)\n"
          ],
          "name": "stdout"
        }
      ]
    },
    {
      "metadata": {
        "id": "0ecd71Oeo4mK",
        "colab_type": "code",
        "colab": {
          "base_uri": "https://localhost:8080/",
          "height": 34
        },
        "outputId": "3801afe2-7531-4f58-fb8b-f9f383b72bdc"
      },
      "cell_type": "code",
      "source": [
        "from keras.models import Sequential\n",
        "from keras.layers import Dense, CuDNNLSTM\n",
        "from keras.callbacks import History\n",
        "import seaborn as sn\n",
        "import time"
      ],
      "execution_count": 16,
      "outputs": [
        {
          "output_type": "stream",
          "text": [
            "Using TensorFlow backend.\n"
          ],
          "name": "stderr"
        }
      ]
    },
    {
      "metadata": {
        "id": "lLWBP-ojcBzI",
        "colab_type": "code",
        "colab": {
          "base_uri": "https://localhost:8080/",
          "height": 3525
        },
        "outputId": "3dee37de-93e9-447f-8b80-feb3dcf621bb"
      },
      "cell_type": "code",
      "source": [
        "y_train_ = np.zeros((32,303,4))\n",
        "y_train_[:,0,:] = y_train\n",
        "\n",
        "y_test_ = np.zeros((8,303,4))\n",
        "y_test_[:,0,:] = y_test\n",
        "\n",
        "shuffle_data[:32,:,:6] = x_train\n",
        "shuffle_data[:32,:,6:] = y_train_\n",
        "\n",
        "shuffle_data[32:,:,:6] = x_test\n",
        "shuffle_data[32:,:,6:] = y_test_\n",
        "\n",
        "\n",
        "while True:\n",
        "  np.random.shuffle(shuffle_data)\n",
        "\n",
        "  x_train = shuffle_data[:32,:,:6]\n",
        "  x_test = shuffle_data[32:,:,:6]\n",
        "  y_train = shuffle_data[:32,0,6:].reshape(32,4)\n",
        "  y_test = shuffle_data[32:,0,6:].reshape(8,4)\n",
        "  if np.sum(y_test[:,0]) == 2:\n",
        "      if np.sum(y_test[:,1]) == 2:\n",
        "          if np.sum(y_test[:,2]) == 2:\n",
        "              if np.sum(y_test[:,3]) == 2:\n",
        "                  break\n",
        "\n",
        "\n",
        "batch_size = 1\n",
        "timesteps = SEQ_LENGTH\n",
        "data_dim = 6\n",
        "\n",
        "model = Sequential()\n",
        "model.add(CuDNNLSTM(128, return_sequences=True, \n",
        "               batch_input_shape=(batch_size, timesteps, data_dim)))\n",
        "model.add(CuDNNLSTM(64))\n",
        "model.add(Dense(32))\n",
        "model.add(Dense(4, activation='softmax'))\n",
        "\n",
        "model.compile(loss='categorical_crossentropy',\n",
        "              optimizer='adam',\n",
        "              metrics=['accuracy'])\n",
        "\n",
        "\n",
        "st = time.time()\n",
        "history = model.fit(x_train, y_train,\n",
        "          batch_size=batch_size, epochs=100, shuffle=False,\n",
        "          validation_data=(x_test, y_test),verbose=1)\n",
        "ft = time.time()\n",
        "\n",
        "print(\"batch size : %d -> %d seconds for training with GPU\"%(batch_size,ft-st))\n"
      ],
      "execution_count": 17,
      "outputs": [
        {
          "output_type": "stream",
          "text": [
            "Train on 32 samples, validate on 8 samples\n",
            "Epoch 1/100\n",
            "32/32 [==============================] - 4s 114ms/step - loss: 1.4876 - acc: 0.1875 - val_loss: 1.4368 - val_acc: 0.1250\n",
            "Epoch 2/100\n",
            "32/32 [==============================] - 2s 74ms/step - loss: 1.3481 - acc: 0.4062 - val_loss: 1.4721 - val_acc: 0.1250\n",
            "Epoch 3/100\n",
            "32/32 [==============================] - 2s 74ms/step - loss: 1.3670 - acc: 0.4062 - val_loss: 1.4558 - val_acc: 0.1250\n",
            "Epoch 4/100\n",
            "32/32 [==============================] - 2s 75ms/step - loss: 1.2849 - acc: 0.4062 - val_loss: 1.3615 - val_acc: 0.2500\n",
            "Epoch 5/100\n",
            "32/32 [==============================] - 2s 77ms/step - loss: 1.0152 - acc: 0.3438 - val_loss: 1.4512 - val_acc: 0.0000e+00\n",
            "Epoch 6/100\n",
            "32/32 [==============================] - 2s 75ms/step - loss: 0.9526 - acc: 0.4688 - val_loss: 1.3084 - val_acc: 0.3750\n",
            "Epoch 7/100\n",
            " 6/32 [====>.........................] - ETA: 1s - loss: 0.8493 - acc: 0.6667"
          ],
          "name": "stdout"
        },
        {
          "output_type": "stream",
          "text": [
            "32/32 [==============================] - 2s 76ms/step - loss: 1.4462 - acc: 0.3438 - val_loss: 1.3801 - val_acc: 0.2500\n",
            "Epoch 8/100\n",
            "32/32 [==============================] - 2s 77ms/step - loss: 1.2453 - acc: 0.3438 - val_loss: 1.3030 - val_acc: 0.2500\n",
            "Epoch 9/100\n",
            "32/32 [==============================] - 2s 76ms/step - loss: 1.2084 - acc: 0.3750 - val_loss: 1.2681 - val_acc: 0.2500\n",
            "Epoch 10/100\n",
            "32/32 [==============================] - 2s 77ms/step - loss: 1.0846 - acc: 0.3750 - val_loss: 1.3686 - val_acc: 0.1250\n",
            "Epoch 11/100\n",
            "32/32 [==============================] - 2s 78ms/step - loss: 1.6420 - acc: 0.3750 - val_loss: 1.5620 - val_acc: 0.0000e+00\n",
            "Epoch 12/100\n",
            "32/32 [==============================] - 2s 77ms/step - loss: 1.3805 - acc: 0.3125 - val_loss: 1.3416 - val_acc: 0.2500\n",
            "Epoch 13/100\n",
            "21/32 [==================>...........] - ETA: 0s - loss: 1.4472 - acc: 0.1905"
          ],
          "name": "stdout"
        },
        {
          "output_type": "stream",
          "text": [
            "32/32 [==============================] - 3s 78ms/step - loss: 1.4059 - acc: 0.2188 - val_loss: 1.5587 - val_acc: 0.3750\n",
            "Epoch 14/100\n",
            "32/32 [==============================] - 2s 77ms/step - loss: 1.5703 - acc: 0.1875 - val_loss: 1.5598 - val_acc: 0.0000e+00\n",
            "Epoch 15/100\n",
            "32/32 [==============================] - 3s 79ms/step - loss: 1.4031 - acc: 0.3438 - val_loss: 1.3707 - val_acc: 0.1250\n",
            "Epoch 16/100\n",
            "32/32 [==============================] - 3s 79ms/step - loss: 1.2462 - acc: 0.4062 - val_loss: 1.2618 - val_acc: 0.3750\n",
            "Epoch 17/100\n",
            "32/32 [==============================] - 2s 78ms/step - loss: 1.1404 - acc: 0.4688 - val_loss: 1.3237 - val_acc: 0.3750\n",
            "Epoch 18/100\n",
            "32/32 [==============================] - 2s 78ms/step - loss: 1.1883 - acc: 0.4062 - val_loss: 1.3023 - val_acc: 0.1250\n",
            "Epoch 19/100\n",
            "23/32 [====================>.........] - ETA: 0s - loss: 1.4049 - acc: 0.3478"
          ],
          "name": "stdout"
        },
        {
          "output_type": "stream",
          "text": [
            "32/32 [==============================] - 3s 81ms/step - loss: 1.2136 - acc: 0.4375 - val_loss: 1.2801 - val_acc: 0.3750\n",
            "Epoch 20/100\n",
            "32/32 [==============================] - 3s 79ms/step - loss: 1.1271 - acc: 0.4062 - val_loss: 1.2890 - val_acc: 0.1250\n",
            "Epoch 21/100\n",
            "32/32 [==============================] - 3s 79ms/step - loss: 1.0790 - acc: 0.5000 - val_loss: 1.5297 - val_acc: 0.1250\n",
            "Epoch 22/100\n",
            "32/32 [==============================] - 3s 79ms/step - loss: 1.0874 - acc: 0.4688 - val_loss: 1.2822 - val_acc: 0.2500\n",
            "Epoch 23/100\n",
            "32/32 [==============================] - 3s 79ms/step - loss: 0.9841 - acc: 0.4688 - val_loss: 1.7280 - val_acc: 0.3750\n",
            "Epoch 24/100\n",
            "32/32 [==============================] - 3s 79ms/step - loss: 1.2943 - acc: 0.4688 - val_loss: 1.5243 - val_acc: 0.2500\n",
            "Epoch 25/100\n",
            "25/32 [======================>.......] - ETA: 0s - loss: 1.2838 - acc: 0.4400"
          ],
          "name": "stdout"
        },
        {
          "output_type": "stream",
          "text": [
            "32/32 [==============================] - 3s 80ms/step - loss: 1.2615 - acc: 0.4375 - val_loss: 1.1514 - val_acc: 0.2500\n",
            "Epoch 26/100\n",
            "32/32 [==============================] - 3s 79ms/step - loss: 1.3032 - acc: 0.3438 - val_loss: 1.3718 - val_acc: 0.2500\n",
            "Epoch 27/100\n",
            "32/32 [==============================] - 2s 78ms/step - loss: 1.1456 - acc: 0.4688 - val_loss: 1.2865 - val_acc: 0.1250\n",
            "Epoch 28/100\n",
            "32/32 [==============================] - 3s 79ms/step - loss: 1.0715 - acc: 0.4688 - val_loss: 1.1075 - val_acc: 0.2500\n",
            "Epoch 29/100\n",
            "32/32 [==============================] - 3s 80ms/step - loss: 0.9556 - acc: 0.5312 - val_loss: 1.0724 - val_acc: 0.2500\n",
            "Epoch 30/100\n",
            "32/32 [==============================] - 3s 79ms/step - loss: 0.9082 - acc: 0.5625 - val_loss: 0.9565 - val_acc: 0.2500\n",
            "Epoch 31/100\n",
            "26/32 [=======================>......] - ETA: 0s - loss: 1.2913 - acc: 0.5000"
          ],
          "name": "stdout"
        },
        {
          "output_type": "stream",
          "text": [
            "32/32 [==============================] - 2s 78ms/step - loss: 1.2773 - acc: 0.5000 - val_loss: 1.1168 - val_acc: 0.2500\n",
            "Epoch 32/100\n",
            "32/32 [==============================] - 2s 78ms/step - loss: 0.9592 - acc: 0.5938 - val_loss: 0.9785 - val_acc: 0.2500\n",
            "Epoch 33/100\n",
            "32/32 [==============================] - 2s 78ms/step - loss: 0.9020 - acc: 0.5938 - val_loss: 1.2155 - val_acc: 0.1250\n",
            "Epoch 34/100\n",
            "32/32 [==============================] - 3s 78ms/step - loss: 0.8531 - acc: 0.6562 - val_loss: 1.1829 - val_acc: 0.2500\n",
            "Epoch 35/100\n",
            "32/32 [==============================] - 3s 81ms/step - loss: 1.0900 - acc: 0.4062 - val_loss: 1.2243 - val_acc: 0.1250\n",
            "Epoch 36/100\n",
            "32/32 [==============================] - 3s 79ms/step - loss: 1.0592 - acc: 0.4375 - val_loss: 1.1790 - val_acc: 0.2500\n",
            "Epoch 37/100\n",
            "24/32 [=====================>........] - ETA: 0s - loss: 0.9128 - acc: 0.5417"
          ],
          "name": "stdout"
        },
        {
          "output_type": "stream",
          "text": [
            "32/32 [==============================] - 2s 78ms/step - loss: 0.8667 - acc: 0.5938 - val_loss: 0.9078 - val_acc: 0.2500\n",
            "Epoch 38/100\n",
            "32/32 [==============================] - 2s 77ms/step - loss: 0.8646 - acc: 0.5625 - val_loss: 0.8315 - val_acc: 0.2500\n",
            "Epoch 39/100\n",
            "32/32 [==============================] - 2s 78ms/step - loss: 0.7488 - acc: 0.5625 - val_loss: 0.8857 - val_acc: 0.2500\n",
            "Epoch 40/100\n",
            "32/32 [==============================] - 3s 78ms/step - loss: 1.3741 - acc: 0.4062 - val_loss: 1.5794 - val_acc: 0.1250\n",
            "Epoch 41/100\n",
            "32/32 [==============================] - 3s 79ms/step - loss: 1.3266 - acc: 0.3125 - val_loss: 1.6615 - val_acc: 0.0000e+00\n",
            "Epoch 42/100\n",
            "32/32 [==============================] - 3s 80ms/step - loss: 1.1061 - acc: 0.4375 - val_loss: 1.6735 - val_acc: 0.1250\n",
            "Epoch 43/100\n",
            "24/32 [=====================>........] - ETA: 0s - loss: 1.3274 - acc: 0.4167"
          ],
          "name": "stdout"
        },
        {
          "output_type": "stream",
          "text": [
            "32/32 [==============================] - 3s 78ms/step - loss: 1.1978 - acc: 0.5000 - val_loss: 1.1658 - val_acc: 0.3750\n",
            "Epoch 44/100\n",
            "32/32 [==============================] - 3s 79ms/step - loss: 1.4125 - acc: 0.2500 - val_loss: 1.5572 - val_acc: 0.2500\n",
            "Epoch 45/100\n",
            "32/32 [==============================] - 3s 78ms/step - loss: 1.6639 - acc: 0.1562 - val_loss: 1.4190 - val_acc: 0.2500\n",
            "Epoch 46/100\n",
            "32/32 [==============================] - 2s 78ms/step - loss: 1.4859 - acc: 0.0938 - val_loss: 1.3879 - val_acc: 0.2500\n",
            "Epoch 47/100\n",
            "32/32 [==============================] - 3s 79ms/step - loss: 1.4347 - acc: 0.0938 - val_loss: 1.3876 - val_acc: 0.2500\n",
            "Epoch 48/100\n",
            "32/32 [==============================] - 2s 77ms/step - loss: 1.4281 - acc: 0.0938 - val_loss: 1.3873 - val_acc: 0.2500\n",
            "Epoch 49/100\n",
            "23/32 [====================>.........] - ETA: 0s - loss: 1.4335 - acc: 0.0870"
          ],
          "name": "stdout"
        },
        {
          "output_type": "stream",
          "text": [
            "32/32 [==============================] - 2s 78ms/step - loss: 1.4235 - acc: 0.0938 - val_loss: 1.3871 - val_acc: 0.2500\n",
            "Epoch 50/100\n",
            "32/32 [==============================] - 2s 78ms/step - loss: 1.4198 - acc: 0.0938 - val_loss: 1.3870 - val_acc: 0.2500\n",
            "Epoch 51/100\n",
            "32/32 [==============================] - 2s 77ms/step - loss: 1.4170 - acc: 0.0938 - val_loss: 1.3869 - val_acc: 0.2500\n",
            "Epoch 52/100\n",
            "32/32 [==============================] - 2s 77ms/step - loss: 1.4148 - acc: 0.0938 - val_loss: 1.3868 - val_acc: 0.2500\n",
            "Epoch 53/100\n",
            "32/32 [==============================] - 3s 79ms/step - loss: 1.4130 - acc: 0.0938 - val_loss: 1.3868 - val_acc: 0.2500\n",
            "Epoch 54/100\n",
            "32/32 [==============================] - 2s 78ms/step - loss: 1.4114 - acc: 0.0938 - val_loss: 1.3868 - val_acc: 0.2500\n",
            "Epoch 55/100\n",
            "25/32 [======================>.......] - ETA: 0s - loss: 1.4163 - acc: 0.0800"
          ],
          "name": "stdout"
        },
        {
          "output_type": "stream",
          "text": [
            "32/32 [==============================] - 3s 78ms/step - loss: 1.4101 - acc: 0.0938 - val_loss: 1.3868 - val_acc: 0.2500\n",
            "Epoch 56/100\n",
            "32/32 [==============================] - 2s 77ms/step - loss: 1.4089 - acc: 0.1250 - val_loss: 1.3868 - val_acc: 0.2500\n",
            "Epoch 57/100\n",
            "32/32 [==============================] - 2s 77ms/step - loss: 1.4078 - acc: 0.1250 - val_loss: 1.3868 - val_acc: 0.2500\n",
            "Epoch 58/100\n",
            "32/32 [==============================] - 2s 77ms/step - loss: 1.4069 - acc: 0.1250 - val_loss: 1.3867 - val_acc: 0.2500\n",
            "Epoch 59/100\n",
            "32/32 [==============================] - 3s 79ms/step - loss: 1.4060 - acc: 0.1250 - val_loss: 1.3867 - val_acc: 0.2500\n",
            "Epoch 60/100\n",
            "32/32 [==============================] - 2s 77ms/step - loss: 1.4053 - acc: 0.1250 - val_loss: 1.3868 - val_acc: 0.2500\n",
            "Epoch 61/100\n",
            "25/32 [======================>.......] - ETA: 0s - loss: 1.4093 - acc: 0.0800"
          ],
          "name": "stdout"
        },
        {
          "output_type": "stream",
          "text": [
            "32/32 [==============================] - 2s 77ms/step - loss: 1.4046 - acc: 0.1250 - val_loss: 1.3868 - val_acc: 0.2500\n",
            "Epoch 62/100\n",
            "32/32 [==============================] - 2s 77ms/step - loss: 1.4039 - acc: 0.1250 - val_loss: 1.3868 - val_acc: 0.2500\n",
            "Epoch 63/100\n",
            "32/32 [==============================] - 2s 77ms/step - loss: 1.4033 - acc: 0.1250 - val_loss: 1.3868 - val_acc: 0.2500\n",
            "Epoch 64/100\n",
            "32/32 [==============================] - 3s 78ms/step - loss: 1.4027 - acc: 0.0938 - val_loss: 1.3868 - val_acc: 0.2500\n",
            "Epoch 65/100\n",
            "32/32 [==============================] - 2s 78ms/step - loss: 1.4022 - acc: 0.0938 - val_loss: 1.3868 - val_acc: 0.2500\n",
            "Epoch 66/100\n",
            "32/32 [==============================] - 3s 78ms/step - loss: 1.4017 - acc: 0.0625 - val_loss: 1.3868 - val_acc: 0.2500\n",
            "Epoch 67/100\n",
            "24/32 [=====================>........] - ETA: 0s - loss: 1.4056 - acc: 0.0000e+00"
          ],
          "name": "stdout"
        },
        {
          "output_type": "stream",
          "text": [
            "32/32 [==============================] - 2s 78ms/step - loss: 1.4012 - acc: 0.0625 - val_loss: 1.3868 - val_acc: 0.2500\n",
            "Epoch 68/100\n",
            "32/32 [==============================] - 3s 78ms/step - loss: 1.4008 - acc: 0.0625 - val_loss: 1.3868 - val_acc: 0.2500\n",
            "Epoch 69/100\n",
            "32/32 [==============================] - 2s 77ms/step - loss: 1.4004 - acc: 0.0625 - val_loss: 1.3868 - val_acc: 0.2500\n",
            "Epoch 70/100\n",
            "32/32 [==============================] - 2s 77ms/step - loss: 1.4000 - acc: 0.0625 - val_loss: 1.3868 - val_acc: 0.2500\n",
            "Epoch 71/100\n",
            "32/32 [==============================] - 2s 78ms/step - loss: 1.3996 - acc: 0.0312 - val_loss: 1.3868 - val_acc: 0.2500\n",
            "Epoch 72/100\n",
            "32/32 [==============================] - 3s 79ms/step - loss: 1.3992 - acc: 0.0312 - val_loss: 1.3869 - val_acc: 0.2500\n",
            "Epoch 73/100\n",
            "22/32 [===================>..........] - ETA: 0s - loss: 1.4013 - acc: 0.0000e+00"
          ],
          "name": "stdout"
        },
        {
          "output_type": "stream",
          "text": [
            "32/32 [==============================] - 2s 77ms/step - loss: 1.3989 - acc: 0.0312 - val_loss: 1.3869 - val_acc: 0.2500\n",
            "Epoch 74/100\n",
            "32/32 [==============================] - 2s 77ms/step - loss: 1.3985 - acc: 0.0312 - val_loss: 1.3869 - val_acc: 0.2500\n",
            "Epoch 75/100\n",
            "32/32 [==============================] - 2s 77ms/step - loss: 1.3982 - acc: 0.0312 - val_loss: 1.3869 - val_acc: 0.2500\n",
            "Epoch 76/100\n",
            "32/32 [==============================] - 2s 77ms/step - loss: 1.3979 - acc: 0.0312 - val_loss: 1.3869 - val_acc: 0.2500\n",
            "Epoch 77/100\n",
            "32/32 [==============================] - 2s 78ms/step - loss: 1.3976 - acc: 0.0312 - val_loss: 1.3869 - val_acc: 0.2500\n",
            "Epoch 78/100\n",
            "32/32 [==============================] - 3s 80ms/step - loss: 1.3973 - acc: 0.0312 - val_loss: 1.3870 - val_acc: 0.2500\n",
            "Epoch 79/100\n",
            "24/32 [=====================>........] - ETA: 0s - loss: 1.4003 - acc: 0.0000e+00"
          ],
          "name": "stdout"
        },
        {
          "output_type": "stream",
          "text": [
            "32/32 [==============================] - 3s 79ms/step - loss: 1.3971 - acc: 0.0312 - val_loss: 1.3870 - val_acc: 0.2500\n",
            "Epoch 80/100\n",
            "32/32 [==============================] - 2s 78ms/step - loss: 1.3968 - acc: 0.0312 - val_loss: 1.3870 - val_acc: 0.2500\n",
            "Epoch 81/100\n",
            "32/32 [==============================] - 2s 77ms/step - loss: 1.3965 - acc: 0.0312 - val_loss: 1.3870 - val_acc: 0.2500\n",
            "Epoch 82/100\n",
            "32/32 [==============================] - 2s 77ms/step - loss: 1.3963 - acc: 0.0312 - val_loss: 1.3870 - val_acc: 0.2500\n",
            "Epoch 83/100\n",
            "32/32 [==============================] - 2s 78ms/step - loss: 1.3960 - acc: 0.0312 - val_loss: 1.3870 - val_acc: 0.2500\n",
            "Epoch 84/100\n",
            "32/32 [==============================] - 2s 78ms/step - loss: 1.3958 - acc: 0.0312 - val_loss: 1.3871 - val_acc: 0.2500\n",
            "Epoch 85/100\n",
            "22/32 [===================>..........] - ETA: 0s - loss: 1.3975 - acc: 0.0000e+00"
          ],
          "name": "stdout"
        },
        {
          "output_type": "stream",
          "text": [
            "32/32 [==============================] - 2s 77ms/step - loss: 1.3955 - acc: 0.0312 - val_loss: 1.3871 - val_acc: 0.2500\n",
            "Epoch 86/100\n",
            "32/32 [==============================] - 3s 78ms/step - loss: 1.3953 - acc: 0.0312 - val_loss: 1.3871 - val_acc: 0.2500\n",
            "Epoch 87/100\n",
            "32/32 [==============================] - 3s 82ms/step - loss: 1.3950 - acc: 0.0312 - val_loss: 1.3872 - val_acc: 0.2500\n",
            "Epoch 88/100\n",
            "32/32 [==============================] - 2s 78ms/step - loss: 1.3947 - acc: 0.0312 - val_loss: 1.3872 - val_acc: 0.2500\n",
            "Epoch 89/100\n",
            "32/32 [==============================] - 2s 77ms/step - loss: 1.3944 - acc: 0.0938 - val_loss: 1.3872 - val_acc: 0.2500\n",
            "Epoch 90/100\n",
            "32/32 [==============================] - 3s 78ms/step - loss: 1.3940 - acc: 0.0938 - val_loss: 1.3873 - val_acc: 0.2500\n",
            "Epoch 91/100\n",
            "24/32 [=====================>........] - ETA: 0s - loss: 1.3968 - acc: 0.0417"
          ],
          "name": "stdout"
        },
        {
          "output_type": "stream",
          "text": [
            "32/32 [==============================] - 3s 78ms/step - loss: 1.3935 - acc: 0.0938 - val_loss: 1.3874 - val_acc: 0.2500\n",
            "Epoch 92/100\n",
            "32/32 [==============================] - 3s 78ms/step - loss: 1.3928 - acc: 0.1250 - val_loss: 1.3876 - val_acc: 0.2500\n",
            "Epoch 93/100\n",
            "32/32 [==============================] - 2s 78ms/step - loss: 1.3952 - acc: 0.1250 - val_loss: 1.3873 - val_acc: 0.2500\n",
            "Epoch 94/100\n",
            "32/32 [==============================] - 2s 78ms/step - loss: 1.3940 - acc: 0.1562 - val_loss: 1.3874 - val_acc: 0.2500\n",
            "Epoch 95/100\n",
            "32/32 [==============================] - 2s 78ms/step - loss: 1.3917 - acc: 0.1562 - val_loss: 1.3880 - val_acc: 0.2500\n",
            "Epoch 96/100\n",
            "32/32 [==============================] - 3s 79ms/step - loss: 1.3958 - acc: 0.1250 - val_loss: 1.3875 - val_acc: 0.2500\n",
            "Epoch 97/100\n",
            "25/32 [======================>.......] - ETA: 0s - loss: 1.3943 - acc: 0.0400"
          ],
          "name": "stdout"
        },
        {
          "output_type": "stream",
          "text": [
            "32/32 [==============================] - 2s 78ms/step - loss: 1.3905 - acc: 0.1250 - val_loss: 1.3881 - val_acc: 0.2500\n",
            "Epoch 98/100\n",
            "32/32 [==============================] - 2s 78ms/step - loss: 1.3919 - acc: 0.1562 - val_loss: 1.3888 - val_acc: 0.2500\n",
            "Epoch 99/100\n",
            "32/32 [==============================] - 2s 76ms/step - loss: 1.3944 - acc: 0.1250 - val_loss: 1.3879 - val_acc: 0.2500\n",
            "Epoch 100/100\n",
            "32/32 [==============================] - 2s 77ms/step - loss: 1.3891 - acc: 0.1875 - val_loss: 1.3889 - val_acc: 0.2500\n",
            "batch size : 1 -> 251 seconds for training with GPU\n"
          ],
          "name": "stdout"
        }
      ]
    },
    {
      "metadata": {
        "id": "3wfqYPKSh-c8",
        "colab_type": "code",
        "colab": {
          "base_uri": "https://localhost:8080/",
          "height": 3525
        },
        "outputId": "663ab6c5-82df-46ee-e7f3-f9b34e1bf034"
      },
      "cell_type": "code",
      "source": [
        "y_train_ = np.zeros((32,303,4))\n",
        "y_train_[:,0,:] = y_train\n",
        "\n",
        "y_test_ = np.zeros((8,303,4))\n",
        "y_test_[:,0,:] = y_test\n",
        "\n",
        "shuffle_data[:32,:,:6] = x_train\n",
        "shuffle_data[:32,:,6:] = y_train_\n",
        "\n",
        "shuffle_data[32:,:,:6] = x_test\n",
        "shuffle_data[32:,:,6:] = y_test_\n",
        "\n",
        "\n",
        "while True:\n",
        "  np.random.shuffle(shuffle_data)\n",
        "\n",
        "  x_train = shuffle_data[:32,:,:6]\n",
        "  x_test = shuffle_data[32:,:,:6]\n",
        "  y_train = shuffle_data[:32,0,6:].reshape(32,4)\n",
        "  y_test = shuffle_data[32:,0,6:].reshape(8,4)\n",
        "  if np.sum(y_test[:,0]) == 2:\n",
        "      if np.sum(y_test[:,1]) == 2:\n",
        "          if np.sum(y_test[:,2]) == 2:\n",
        "              if np.sum(y_test[:,3]) == 2:\n",
        "                  break\n",
        "\n",
        "\n",
        "batch_size = 8\n",
        "timesteps = SEQ_LENGTH\n",
        "data_dim = 6\n",
        "\n",
        "model = Sequential()\n",
        "model.add(CuDNNLSTM(128, return_sequences=True, \n",
        "               batch_input_shape=(batch_size, timesteps, data_dim)))\n",
        "model.add(CuDNNLSTM(64))\n",
        "model.add(Dense(32))\n",
        "model.add(Dense(4, activation='softmax'))\n",
        "\n",
        "model.compile(loss='categorical_crossentropy',\n",
        "              optimizer='adam',\n",
        "              metrics=['accuracy'])\n",
        "\n",
        "\n",
        "st = time.time()\n",
        "history = model.fit(x_train, y_train,\n",
        "          batch_size=batch_size, epochs=100, shuffle=False,\n",
        "          validation_data=(x_test, y_test),verbose=1)\n",
        "ft = time.time()\n",
        "\n",
        "print(\"batch size : %d -> %d seconds for training with CPU\"%(batch_size,ft-st))\n"
      ],
      "execution_count": 19,
      "outputs": [
        {
          "output_type": "stream",
          "text": [
            "Train on 32 samples, validate on 8 samples\n",
            "Epoch 1/100\n",
            "32/32 [==============================] - 1s 35ms/step - loss: 1.4376 - acc: 0.0938 - val_loss: 1.4336 - val_acc: 0.0000e+00\n",
            "Epoch 2/100\n",
            "32/32 [==============================] - 0s 15ms/step - loss: 1.3810 - acc: 0.3125 - val_loss: 1.4326 - val_acc: 0.0000e+00\n",
            "Epoch 3/100\n",
            "32/32 [==============================] - 0s 13ms/step - loss: 1.3540 - acc: 0.4062 - val_loss: 1.4155 - val_acc: 0.1250\n",
            "Epoch 4/100\n",
            "32/32 [==============================] - 0s 12ms/step - loss: 1.3227 - acc: 0.3438 - val_loss: 1.3817 - val_acc: 0.1250\n",
            "Epoch 5/100\n",
            "32/32 [==============================] - 0s 11ms/step - loss: 1.2591 - acc: 0.3750 - val_loss: 1.3227 - val_acc: 0.2500\n",
            "Epoch 6/100\n",
            "32/32 [==============================] - 0s 11ms/step - loss: 1.1022 - acc: 0.5000 - val_loss: 0.9888 - val_acc: 0.3750\n",
            "Epoch 7/100\n",
            "32/32 [==============================] - 0s 11ms/step - loss: 0.9167 - acc: 0.5312 - val_loss: 0.9442 - val_acc: 0.3750\n",
            "Epoch 8/100\n",
            "32/32 [==============================] - 0s 11ms/step - loss: 0.7312 - acc: 0.6562 - val_loss: 0.8456 - val_acc: 0.3750\n",
            "Epoch 9/100\n",
            "32/32 [==============================] - 0s 11ms/step - loss: 0.6755 - acc: 0.5625 - val_loss: 0.7515 - val_acc: 0.6250\n",
            "Epoch 10/100\n",
            "32/32 [==============================] - 0s 11ms/step - loss: 1.2327 - acc: 0.5625 - val_loss: 1.2495 - val_acc: 0.6250\n",
            "Epoch 11/100\n",
            "32/32 [==============================] - 0s 11ms/step - loss: 1.1983 - acc: 0.5000 - val_loss: 1.3122 - val_acc: 0.5000\n",
            "Epoch 12/100\n",
            "32/32 [==============================] - 0s 11ms/step - loss: 1.2598 - acc: 0.3750 - val_loss: 1.2969 - val_acc: 0.2500\n",
            "Epoch 13/100\n",
            "32/32 [==============================] - 0s 11ms/step - loss: 1.1038 - acc: 0.5312 - val_loss: 1.2041 - val_acc: 0.2500\n",
            "Epoch 14/100\n",
            "32/32 [==============================] - 0s 11ms/step - loss: 0.9463 - acc: 0.5625 - val_loss: 1.1149 - val_acc: 0.2500\n",
            "Epoch 15/100\n",
            "32/32 [==============================] - 0s 11ms/step - loss: 0.8729 - acc: 0.6562 - val_loss: 1.0678 - val_acc: 0.2500\n",
            "Epoch 16/100\n",
            "32/32 [==============================] - 0s 11ms/step - loss: 0.8440 - acc: 0.6875 - val_loss: 1.0327 - val_acc: 0.3750\n",
            "Epoch 17/100\n",
            "24/32 [=====================>........] - ETA: 0s - loss: 0.7471 - acc: 0.7500"
          ],
          "name": "stdout"
        },
        {
          "output_type": "stream",
          "text": [
            "\b\b\b\b\b\b\b\b\b\b\b\b\b\b\b\b\b\b\b\b\b\b\b\b\b\b\b\b\b\b\b\b\b\b\b\b\b\b\b\b\b\b\b\b\b\b\b\b\b\b\b\b\b\b\b\b\b\b\b\b\b\b\b\b\b\b\b\b\b\b\b\b\b\b\b\b\b\r32/32 [==============================] - 0s 11ms/step - loss: 0.7753 - acc: 0.7188 - val_loss: 1.0247 - val_acc: 0.5000\n",
            "Epoch 18/100\n",
            "32/32 [==============================] - 0s 11ms/step - loss: 0.6932 - acc: 0.7500 - val_loss: 0.9965 - val_acc: 0.5000\n",
            "Epoch 19/100\n",
            "32/32 [==============================] - 0s 11ms/step - loss: 0.6751 - acc: 0.6875 - val_loss: 1.0025 - val_acc: 0.5000\n",
            "Epoch 20/100\n",
            "32/32 [==============================] - 0s 11ms/step - loss: 0.6427 - acc: 0.6562 - val_loss: 1.0330 - val_acc: 0.5000\n",
            "Epoch 21/100\n",
            "32/32 [==============================] - 0s 11ms/step - loss: 0.5797 - acc: 0.7500 - val_loss: 0.9846 - val_acc: 0.5000\n",
            "Epoch 22/100\n",
            "32/32 [==============================] - 0s 11ms/step - loss: 0.5146 - acc: 0.8125 - val_loss: 0.9324 - val_acc: 0.5000\n",
            "Epoch 23/100\n",
            "32/32 [==============================] - 0s 11ms/step - loss: 0.5044 - acc: 0.7812 - val_loss: 0.8724 - val_acc: 0.5000\n",
            "Epoch 24/100\n",
            "32/32 [==============================] - 0s 11ms/step - loss: 0.4559 - acc: 0.8125 - val_loss: 0.8680 - val_acc: 0.5000\n",
            "Epoch 25/100\n",
            "32/32 [==============================] - 0s 11ms/step - loss: 0.4266 - acc: 0.8125 - val_loss: 0.9281 - val_acc: 0.5000\n",
            "Epoch 26/100\n",
            "32/32 [==============================] - 0s 11ms/step - loss: 0.3940 - acc: 0.8438 - val_loss: 0.9285 - val_acc: 0.5000\n",
            "Epoch 27/100\n",
            "32/32 [==============================] - 0s 11ms/step - loss: 0.5021 - acc: 0.8438 - val_loss: 0.8855 - val_acc: 0.5000\n",
            "Epoch 28/100\n",
            "32/32 [==============================] - 0s 11ms/step - loss: 0.3587 - acc: 0.8750 - val_loss: 0.9468 - val_acc: 0.5000\n",
            "Epoch 29/100\n",
            "32/32 [==============================] - 0s 11ms/step - loss: 0.5996 - acc: 0.7812 - val_loss: 1.0716 - val_acc: 0.3750\n",
            "Epoch 30/100\n",
            "32/32 [==============================] - 0s 11ms/step - loss: 0.8489 - acc: 0.7500 - val_loss: 0.7638 - val_acc: 0.5000\n",
            "Epoch 31/100\n",
            "32/32 [==============================] - 0s 11ms/step - loss: 0.4166 - acc: 0.8438 - val_loss: 1.0759 - val_acc: 0.3750\n",
            "Epoch 32/100\n",
            "32/32 [==============================] - 0s 11ms/step - loss: 0.4531 - acc: 0.7188 - val_loss: 1.2191 - val_acc: 0.6250\n",
            "Epoch 33/100\n",
            "16/32 [==============>...............] - ETA: 0s - loss: 0.2382 - acc: 0.8125"
          ],
          "name": "stdout"
        },
        {
          "output_type": "stream",
          "text": [
            "32/32 [==============================] - 0s 11ms/step - loss: 0.4237 - acc: 0.7500 - val_loss: 0.8394 - val_acc: 0.6250\n",
            "Epoch 34/100\n",
            "32/32 [==============================] - 0s 11ms/step - loss: 0.3631 - acc: 0.8750 - val_loss: 1.1322 - val_acc: 0.5000\n",
            "Epoch 35/100\n",
            "32/32 [==============================] - 0s 11ms/step - loss: 0.3750 - acc: 0.8438 - val_loss: 1.2769 - val_acc: 0.5000\n",
            "Epoch 36/100\n",
            "32/32 [==============================] - 0s 11ms/step - loss: 0.3418 - acc: 0.8438 - val_loss: 0.8781 - val_acc: 0.6250\n",
            "Epoch 37/100\n",
            "32/32 [==============================] - 0s 11ms/step - loss: 0.3134 - acc: 0.8750 - val_loss: 1.6383 - val_acc: 0.5000\n",
            "Epoch 38/100\n",
            "32/32 [==============================] - 0s 11ms/step - loss: 0.4014 - acc: 0.8125 - val_loss: 1.7264 - val_acc: 0.5000\n",
            "Epoch 39/100\n",
            "32/32 [==============================] - 0s 11ms/step - loss: 0.3127 - acc: 0.8438 - val_loss: 1.2229 - val_acc: 0.5000\n",
            "Epoch 40/100\n",
            "32/32 [==============================] - 0s 11ms/step - loss: 0.2960 - acc: 0.8438 - val_loss: 0.9511 - val_acc: 0.6250\n",
            "Epoch 41/100\n",
            "32/32 [==============================] - 0s 11ms/step - loss: 0.3041 - acc: 0.8438 - val_loss: 0.9341 - val_acc: 0.6250\n",
            "Epoch 42/100\n",
            "32/32 [==============================] - 0s 11ms/step - loss: 0.3227 - acc: 0.8438 - val_loss: 0.9713 - val_acc: 0.6250\n",
            "Epoch 43/100\n",
            "32/32 [==============================] - 0s 11ms/step - loss: 0.2625 - acc: 0.8750 - val_loss: 1.0852 - val_acc: 0.5000\n",
            "Epoch 44/100\n",
            "32/32 [==============================] - 0s 11ms/step - loss: 0.3122 - acc: 0.8438 - val_loss: 1.1605 - val_acc: 0.5000\n",
            "Epoch 45/100\n",
            "32/32 [==============================] - 0s 11ms/step - loss: 0.2741 - acc: 0.8438 - val_loss: 1.1525 - val_acc: 0.6250\n",
            "Epoch 46/100\n",
            "32/32 [==============================] - 0s 11ms/step - loss: 0.2901 - acc: 0.8438 - val_loss: 1.3364 - val_acc: 0.5000\n",
            "Epoch 47/100\n",
            "32/32 [==============================] - 0s 11ms/step - loss: 0.2392 - acc: 0.8750 - val_loss: 1.5346 - val_acc: 0.5000\n",
            "Epoch 48/100\n",
            "32/32 [==============================] - 0s 11ms/step - loss: 0.2598 - acc: 0.8438 - val_loss: 1.4258 - val_acc: 0.5000\n",
            "Epoch 49/100\n",
            "32/32 [==============================] - 0s 11ms/step - loss: 0.2358 - acc: 0.8750 - val_loss: 1.2743 - val_acc: 0.6250\n",
            "Epoch 50/100\n",
            " 8/32 [======>.......................] - ETA: 0s - loss: 0.0326 - acc: 1.0000"
          ],
          "name": "stdout"
        },
        {
          "output_type": "stream",
          "text": [
            "32/32 [==============================] - 0s 11ms/step - loss: 0.2272 - acc: 0.8750 - val_loss: 1.2455 - val_acc: 0.6250\n",
            "Epoch 51/100\n",
            "32/32 [==============================] - 0s 11ms/step - loss: 0.2092 - acc: 0.8750 - val_loss: 1.2801 - val_acc: 0.7500\n",
            "Epoch 52/100\n",
            "32/32 [==============================] - 0s 11ms/step - loss: 0.2043 - acc: 0.9062 - val_loss: 1.2728 - val_acc: 0.8750\n",
            "Epoch 53/100\n",
            "32/32 [==============================] - 0s 11ms/step - loss: 0.2086 - acc: 0.9062 - val_loss: 1.2403 - val_acc: 0.8750\n",
            "Epoch 54/100\n",
            "32/32 [==============================] - 0s 11ms/step - loss: 0.2056 - acc: 0.8750 - val_loss: 1.4477 - val_acc: 0.6250\n",
            "Epoch 55/100\n",
            "32/32 [==============================] - 0s 11ms/step - loss: 0.2887 - acc: 0.8750 - val_loss: 1.0200 - val_acc: 0.6250\n",
            "Epoch 56/100\n",
            "32/32 [==============================] - 0s 11ms/step - loss: 0.3289 - acc: 0.8438 - val_loss: 1.0063 - val_acc: 0.5000\n",
            "Epoch 57/100\n",
            "32/32 [==============================] - 0s 11ms/step - loss: 0.5697 - acc: 0.6875 - val_loss: 0.9546 - val_acc: 0.5000\n",
            "Epoch 58/100\n",
            "32/32 [==============================] - 0s 11ms/step - loss: 0.8627 - acc: 0.6875 - val_loss: 1.7822 - val_acc: 0.5000\n",
            "Epoch 59/100\n",
            "32/32 [==============================] - 0s 11ms/step - loss: 0.4549 - acc: 0.7812 - val_loss: 1.0557 - val_acc: 0.6250\n",
            "Epoch 60/100\n",
            "32/32 [==============================] - 0s 11ms/step - loss: 0.5109 - acc: 0.7500 - val_loss: 1.3848 - val_acc: 0.5000\n",
            "Epoch 61/100\n",
            "32/32 [==============================] - 0s 11ms/step - loss: 0.6979 - acc: 0.7188 - val_loss: 1.4025 - val_acc: 0.2500\n",
            "Epoch 62/100\n",
            "32/32 [==============================] - 0s 11ms/step - loss: 0.4283 - acc: 0.8438 - val_loss: 1.1745 - val_acc: 0.5000\n",
            "Epoch 63/100\n",
            "32/32 [==============================] - 0s 11ms/step - loss: 0.3704 - acc: 0.8750 - val_loss: 1.2805 - val_acc: 0.5000\n",
            "Epoch 64/100\n",
            "32/32 [==============================] - 0s 11ms/step - loss: 0.2951 - acc: 0.9062 - val_loss: 1.4622 - val_acc: 0.5000\n",
            "Epoch 65/100\n",
            "32/32 [==============================] - 0s 11ms/step - loss: 0.3124 - acc: 0.8438 - val_loss: 1.3780 - val_acc: 0.5000\n",
            "Epoch 66/100\n",
            "32/32 [==============================] - 0s 11ms/step - loss: 0.2456 - acc: 0.8750 - val_loss: 1.2244 - val_acc: 0.6250\n",
            "Epoch 67/100\n",
            " 8/32 [======>.......................] - ETA: 0s - loss: 0.0383 - acc: 1.0000"
          ],
          "name": "stdout"
        },
        {
          "output_type": "stream",
          "text": [
            "32/32 [==============================] - 0s 11ms/step - loss: 0.2415 - acc: 0.9375 - val_loss: 1.1598 - val_acc: 0.7500\n",
            "Epoch 68/100\n",
            "32/32 [==============================] - 0s 11ms/step - loss: 0.2196 - acc: 0.9375 - val_loss: 1.1601 - val_acc: 0.7500\n",
            "Epoch 69/100\n",
            "32/32 [==============================] - 0s 11ms/step - loss: 0.2047 - acc: 0.9062 - val_loss: 1.1596 - val_acc: 0.7500\n",
            "Epoch 70/100\n",
            "32/32 [==============================] - 0s 11ms/step - loss: 0.1983 - acc: 0.9375 - val_loss: 1.1553 - val_acc: 0.7500\n",
            "Epoch 71/100\n",
            "32/32 [==============================] - 0s 11ms/step - loss: 0.1786 - acc: 0.9375 - val_loss: 1.1648 - val_acc: 0.7500\n",
            "Epoch 72/100\n",
            "32/32 [==============================] - 0s 11ms/step - loss: 0.2647 - acc: 0.8438 - val_loss: 1.2557 - val_acc: 0.6250\n",
            "Epoch 73/100\n",
            "32/32 [==============================] - 0s 11ms/step - loss: 0.2016 - acc: 0.8750 - val_loss: 1.2453 - val_acc: 0.5000\n",
            "Epoch 74/100\n",
            "32/32 [==============================] - 0s 11ms/step - loss: 0.1833 - acc: 0.9062 - val_loss: 1.2480 - val_acc: 0.7500\n",
            "Epoch 75/100\n",
            "32/32 [==============================] - 0s 11ms/step - loss: 0.2058 - acc: 0.8750 - val_loss: 1.3075 - val_acc: 0.6250\n",
            "Epoch 76/100\n",
            "32/32 [==============================] - 0s 11ms/step - loss: 0.1880 - acc: 0.9375 - val_loss: 1.3943 - val_acc: 0.5000\n",
            "Epoch 77/100\n",
            "32/32 [==============================] - 0s 11ms/step - loss: 0.1516 - acc: 0.9375 - val_loss: 1.3465 - val_acc: 0.6250\n",
            "Epoch 78/100\n",
            "32/32 [==============================] - 0s 11ms/step - loss: 0.2334 - acc: 0.8750 - val_loss: 1.1920 - val_acc: 0.7500\n",
            "Epoch 79/100\n",
            "32/32 [==============================] - 0s 11ms/step - loss: 0.1501 - acc: 0.9375 - val_loss: 1.1886 - val_acc: 0.7500\n",
            "Epoch 80/100\n",
            "32/32 [==============================] - 0s 11ms/step - loss: 0.1757 - acc: 0.9375 - val_loss: 1.7539 - val_acc: 0.5000\n",
            "Epoch 81/100\n",
            "32/32 [==============================] - 0s 11ms/step - loss: 0.2048 - acc: 0.9062 - val_loss: 1.7926 - val_acc: 0.6250\n",
            "Epoch 82/100\n",
            "32/32 [==============================] - 0s 11ms/step - loss: 0.3527 - acc: 0.8438 - val_loss: 1.8266 - val_acc: 0.6250\n",
            "Epoch 83/100\n",
            "32/32 [==============================] - 0s 11ms/step - loss: 0.2972 - acc: 0.8438 - val_loss: 1.6406 - val_acc: 0.6250\n",
            "Epoch 84/100\n"
          ],
          "name": "stdout"
        },
        {
          "output_type": "stream",
          "text": [
            "32/32 [==============================] - 0s 11ms/step - loss: 0.3123 - acc: 0.8438 - val_loss: 1.6425 - val_acc: 0.5000\n",
            "Epoch 85/100\n",
            "32/32 [==============================] - 0s 11ms/step - loss: 0.2253 - acc: 0.8750 - val_loss: 1.7066 - val_acc: 0.5000\n",
            "Epoch 86/100\n",
            "32/32 [==============================] - 0s 11ms/step - loss: 0.2364 - acc: 0.8750 - val_loss: 1.5735 - val_acc: 0.5000\n",
            "Epoch 87/100\n",
            "32/32 [==============================] - 0s 11ms/step - loss: 0.2115 - acc: 0.8750 - val_loss: 1.4246 - val_acc: 0.5000\n",
            "Epoch 88/100\n",
            "32/32 [==============================] - 0s 11ms/step - loss: 0.2043 - acc: 0.9062 - val_loss: 1.3632 - val_acc: 0.6250\n",
            "Epoch 89/100\n",
            "32/32 [==============================] - 0s 11ms/step - loss: 0.2021 - acc: 0.9688 - val_loss: 1.4153 - val_acc: 0.6250\n",
            "Epoch 90/100\n",
            "32/32 [==============================] - 0s 11ms/step - loss: 0.1902 - acc: 0.9688 - val_loss: 1.4586 - val_acc: 0.6250\n",
            "Epoch 91/100\n",
            "32/32 [==============================] - 0s 11ms/step - loss: 0.1836 - acc: 0.9062 - val_loss: 1.4621 - val_acc: 0.6250\n",
            "Epoch 92/100\n",
            "32/32 [==============================] - 0s 11ms/step - loss: 0.1743 - acc: 0.9062 - val_loss: 1.4067 - val_acc: 0.7500\n",
            "Epoch 93/100\n",
            "32/32 [==============================] - 0s 11ms/step - loss: 0.1623 - acc: 0.9688 - val_loss: 1.3236 - val_acc: 0.7500\n",
            "Epoch 94/100\n",
            "32/32 [==============================] - 0s 11ms/step - loss: 0.1523 - acc: 0.9375 - val_loss: 1.2475 - val_acc: 0.7500\n",
            "Epoch 95/100\n",
            "32/32 [==============================] - 0s 11ms/step - loss: 0.1384 - acc: 0.9688 - val_loss: 1.1986 - val_acc: 0.7500\n",
            "Epoch 96/100\n",
            "32/32 [==============================] - 0s 11ms/step - loss: 0.1197 - acc: 0.9688 - val_loss: 1.1596 - val_acc: 0.7500\n",
            "Epoch 97/100\n",
            "32/32 [==============================] - 0s 11ms/step - loss: 0.1005 - acc: 0.9688 - val_loss: 1.1594 - val_acc: 0.7500\n",
            "Epoch 98/100\n",
            "32/32 [==============================] - 0s 11ms/step - loss: 0.0852 - acc: 0.9688 - val_loss: 1.1966 - val_acc: 0.7500\n",
            "Epoch 99/100\n",
            "32/32 [==============================] - 0s 11ms/step - loss: 0.0769 - acc: 0.9688 - val_loss: 1.2645 - val_acc: 0.7500\n",
            "Epoch 100/100\n",
            "32/32 [==============================] - 0s 11ms/step - loss: 0.0725 - acc: 0.9688 - val_loss: 1.3376 - val_acc: 0.7500\n",
            "batch size : 8 -> 36 seconds for training with CPU\n"
          ],
          "name": "stdout"
        }
      ]
    },
    {
      "metadata": {
        "id": "Gw9RYljZME6j",
        "colab_type": "code",
        "colab": {}
      },
      "cell_type": "code",
      "source": [
        ""
      ],
      "execution_count": 0,
      "outputs": []
    }
  ]
}