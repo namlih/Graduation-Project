{
 "cells": [
  {
   "cell_type": "code",
   "execution_count": 1,
   "metadata": {
    "colab": {},
    "colab_type": "code",
    "id": "jbI0tyUdo4YS"
   },
   "outputs": [
    {
     "name": "stderr",
     "output_type": "stream",
     "text": [
      "Using TensorFlow backend.\n"
     ]
    }
   ],
   "source": [
    "from keras.models import Sequential\n",
    "from keras.layers import Dense, LSTM, Dropout, Conv1D"
   ]
  },
  {
   "cell_type": "code",
   "execution_count": 5,
   "metadata": {},
   "outputs": [
    {
     "name": "stdout",
     "output_type": "stream",
     "text": [
      "_________________________________________________________________\n",
      "Layer (type)                 Output Shape              Param #   \n",
      "=================================================================\n",
      "lstm_7 (LSTM)                (32, 12, 24)              2784      \n",
      "_________________________________________________________________\n",
      "lstm_8 (LSTM)                (32, 12)                  1776      \n",
      "_________________________________________________________________\n",
      "dense_9 (Dense)              (32, 12)                  156       \n",
      "_________________________________________________________________\n",
      "dense_10 (Dense)             (32, 12)                  156       \n",
      "_________________________________________________________________\n",
      "dense_11 (Dense)             (32, 12)                  156       \n",
      "_________________________________________________________________\n",
      "dense_12 (Dense)             (32, 1)                   13        \n",
      "=================================================================\n",
      "Total params: 5,041\n",
      "Trainable params: 5,041\n",
      "Non-trainable params: 0\n",
      "_________________________________________________________________\n"
     ]
    }
   ],
   "source": [
    "model = Sequential()\n",
    "model.add(LSTM(24,batch_input_shape=(32,12,4),return_sequences=True))\n",
    "model.add(LSTM(12))\n",
    "model.add(Dense(12))\n",
    "model.add(Dense(12))\n",
    "model.add(Dense(12))\n",
    "model.add(Dense(1))\n",
    "model.summary()"
   ]
  },
  {
   "cell_type": "code",
   "execution_count": 8,
   "metadata": {},
   "outputs": [
    {
     "name": "stdout",
     "output_type": "stream",
     "text": [
      "_________________________________________________________________\n",
      "Layer (type)                 Output Shape              Param #   \n",
      "=================================================================\n",
      "lstm_13 (LSTM)               (32, 12, 24)              2784      \n",
      "_________________________________________________________________\n",
      "dropout_17 (Dropout)         (32, 12, 24)              0         \n",
      "_________________________________________________________________\n",
      "lstm_14 (LSTM)               (32, 12)                  1776      \n",
      "_________________________________________________________________\n",
      "dropout_18 (Dropout)         (32, 12)                  0         \n",
      "_________________________________________________________________\n",
      "dense_21 (Dense)             (32, 12)                  156       \n",
      "_________________________________________________________________\n",
      "dropout_19 (Dropout)         (32, 12)                  0         \n",
      "_________________________________________________________________\n",
      "dense_22 (Dense)             (32, 12)                  156       \n",
      "_________________________________________________________________\n",
      "dropout_20 (Dropout)         (32, 12)                  0         \n",
      "_________________________________________________________________\n",
      "dense_23 (Dense)             (32, 12)                  156       \n",
      "_________________________________________________________________\n",
      "dropout_21 (Dropout)         (32, 12)                  0         \n",
      "_________________________________________________________________\n",
      "dense_24 (Dense)             (32, 1)                   13        \n",
      "=================================================================\n",
      "Total params: 5,041\n",
      "Trainable params: 5,041\n",
      "Non-trainable params: 0\n",
      "_________________________________________________________________\n"
     ]
    }
   ],
   "source": [
    "model = Sequential()\n",
    "model.add(LSTM(24,batch_input_shape=(32,12,4),return_sequences=True,recurrent_dropout=0.1))\n",
    "model.add(Dropout(0.1))\n",
    "model.add(LSTM(12))\n",
    "model.add(Dropout(0.1))\n",
    "model.add(Dense(12))\n",
    "model.add(Dropout(0.1))\n",
    "model.add(Dense(12))\n",
    "model.add(Dropout(0.1))\n",
    "model.add(Dense(12))\n",
    "model.add(Dropout(0.1))\n",
    "model.add(Dense(1))\n",
    "model.summary()"
   ]
  },
  {
   "cell_type": "code",
   "execution_count": null,
   "metadata": {},
   "outputs": [],
   "source": []
  }
 ],
 "metadata": {
  "accelerator": "GPU",
  "colab": {
   "collapsed_sections": [],
   "name": "randomized_training_data_with_padding.ipynb",
   "provenance": [],
   "version": "0.3.2"
  },
  "kernelspec": {
   "display_name": "Python 3",
   "language": "python",
   "name": "python3"
  },
  "language_info": {
   "codemirror_mode": {
    "name": "ipython",
    "version": 3
   },
   "file_extension": ".py",
   "mimetype": "text/x-python",
   "name": "python",
   "nbconvert_exporter": "python",
   "pygments_lexer": "ipython3",
   "version": "3.6.3"
  }
 },
 "nbformat": 4,
 "nbformat_minor": 1
}
