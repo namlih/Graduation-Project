{
  "nbformat": 4,
  "nbformat_minor": 0,
  "metadata": {
    "colab": {
      "name": "CPU training.ipynb",
      "version": "0.3.2",
      "provenance": [],
      "collapsed_sections": []
    },
    "kernelspec": {
      "name": "python3",
      "display_name": "Python 3"
    }
  },
  "cells": [
    {
      "metadata": {
        "id": "X5rxzkp0o9X0",
        "colab_type": "code",
        "colab": {
          "base_uri": "https://localhost:8080/",
          "height": 105
        },
        "outputId": "4055a87d-1e9c-4e95-d068-96c246afee25"
      },
      "cell_type": "code",
      "source": [
        "!apt-get install -y -qq software-properties-common python-software-properties module-init-tools\n",
        "!add-apt-repository -y ppa:alessandro-strada/ppa 2>&1 > /dev/null\n",
        "!apt-get update -qq 2>&1 > /dev/null\n",
        "!apt-get -y install -qq google-drive-ocamlfuse fuse\n",
        "from google.colab import auth\n",
        "auth.authenticate_user()\n",
        "from oauth2client.client import GoogleCredentials\n",
        "creds = GoogleCredentials.get_application_default()\n",
        "import getpass\n",
        "!google-drive-ocamlfuse -headless -id={creds.client_id} -secret={creds.client_secret} < /dev/null 2>&1 | grep URL\n",
        "vcode = getpass.getpass()\n",
        "!echo {vcode} | google-drive-ocamlfuse -headless -id={creds.client_id} -secret={creds.client_secret}"
      ],
      "execution_count": 2,
      "outputs": [
        {
          "output_type": "stream",
          "text": [
            "Please, open the following URL in a web browser: https://accounts.google.com/o/oauth2/auth?client_id=32555940559.apps.googleusercontent.com&redirect_uri=urn%3Aietf%3Awg%3Aoauth%3A2.0%3Aoob&scope=https%3A%2F%2Fwww.googleapis.com%2Fauth%2Fdrive&response_type=code&access_type=offline&approval_prompt=force\r\n",
            "··········\n",
            "Please, open the following URL in a web browser: https://accounts.google.com/o/oauth2/auth?client_id=32555940559.apps.googleusercontent.com&redirect_uri=urn%3Aietf%3Awg%3Aoauth%3A2.0%3Aoob&scope=https%3A%2F%2Fwww.googleapis.com%2Fauth%2Fdrive&response_type=code&access_type=offline&approval_prompt=force\n",
            "Please enter the verification code: Access token retrieved correctly.\n"
          ],
          "name": "stdout"
        }
      ]
    },
    {
      "metadata": {
        "id": "W9uIKPexpc7I",
        "colab_type": "code",
        "colab": {}
      },
      "cell_type": "code",
      "source": [
        "!mkdir -p drive\n",
        "!google-drive-ocamlfuse drive"
      ],
      "execution_count": 0,
      "outputs": []
    },
    {
      "metadata": {
        "id": "SGKjLQHDqhxA",
        "colab_type": "code",
        "colab": {}
      },
      "cell_type": "code",
      "source": [
        "import sys\n",
        "sys.path.insert(0, 'drive/Graduation Project/Colaboratory')"
      ],
      "execution_count": 0,
      "outputs": []
    },
    {
      "metadata": {
        "id": "CjnI_FGostkq",
        "colab_type": "code",
        "colab": {
          "base_uri": "https://localhost:8080/",
          "height": 34
        },
        "outputId": "456c2c9d-28cf-4c10-e2cf-1aa8a16e3508"
      },
      "cell_type": "code",
      "source": [
        "import tensorflow as tf\n",
        "tf.test.gpu_device_name()"
      ],
      "execution_count": 5,
      "outputs": [
        {
          "output_type": "execute_result",
          "data": {
            "text/plain": [
              "''"
            ]
          },
          "metadata": {
            "tags": []
          },
          "execution_count": 5
        }
      ]
    },
    {
      "metadata": {
        "id": "F0jLbWcBsrKk",
        "colab_type": "code",
        "colab": {
          "base_uri": "https://localhost:8080/",
          "height": 119
        },
        "outputId": "8f2d2789-deda-45c8-c029-54388871bd45"
      },
      "cell_type": "code",
      "source": [
        "from tensorflow.python.client import device_lib\n",
        "device_lib.list_local_devices()"
      ],
      "execution_count": 6,
      "outputs": [
        {
          "output_type": "execute_result",
          "data": {
            "text/plain": [
              "[name: \"/device:CPU:0\"\n",
              " device_type: \"CPU\"\n",
              " memory_limit: 268435456\n",
              " locality {\n",
              " }\n",
              " incarnation: 1019807728111074635]"
            ]
          },
          "metadata": {
            "tags": []
          },
          "execution_count": 6
        }
      ]
    },
    {
      "metadata": {
        "id": "jbI0tyUdo4YS",
        "colab_type": "code",
        "colab": {}
      },
      "cell_type": "code",
      "source": [
        "import pandas as pd\n",
        "import numpy as np\n",
        "from matplotlib import pyplot as plt"
      ],
      "execution_count": 0,
      "outputs": []
    },
    {
      "metadata": {
        "id": "h2pasgJwhIjz",
        "colab_type": "code",
        "colab": {}
      },
      "cell_type": "code",
      "source": [
        "df = pd.read_csv('drive/Graduation Project/Colaboratory/user_data_anonymized.csv')\n",
        "df = df.drop([df.columns[0]],axis=1)"
      ],
      "execution_count": 0,
      "outputs": []
    },
    {
      "metadata": {
        "id": "uAlBQMoCGKtD",
        "colab_type": "code",
        "colab": {
          "base_uri": "https://localhost:8080/",
          "height": 204
        },
        "outputId": "39c2c571-2f64-425c-c4a2-5961dab44ebe"
      },
      "cell_type": "code",
      "source": [
        "df.head()"
      ],
      "execution_count": 9,
      "outputs": [
        {
          "output_type": "execute_result",
          "data": {
            "text/html": [
              "<div>\n",
              "<style scoped>\n",
              "    .dataframe tbody tr th:only-of-type {\n",
              "        vertical-align: middle;\n",
              "    }\n",
              "\n",
              "    .dataframe tbody tr th {\n",
              "        vertical-align: top;\n",
              "    }\n",
              "\n",
              "    .dataframe thead th {\n",
              "        text-align: right;\n",
              "    }\n",
              "</style>\n",
              "<table border=\"1\" class=\"dataframe\">\n",
              "  <thead>\n",
              "    <tr style=\"text-align: right;\">\n",
              "      <th></th>\n",
              "      <th>user_id</th>\n",
              "      <th>username</th>\n",
              "      <th>acc_x</th>\n",
              "      <th>acc_y</th>\n",
              "      <th>acc_z</th>\n",
              "      <th>gyro_x</th>\n",
              "      <th>gyro_y</th>\n",
              "      <th>gyro_z</th>\n",
              "      <th>type</th>\n",
              "      <th>ntrial</th>\n",
              "      <th>timestamp</th>\n",
              "    </tr>\n",
              "  </thead>\n",
              "  <tbody>\n",
              "    <tr>\n",
              "      <th>0</th>\n",
              "      <td>0</td>\n",
              "      <td>User_1</td>\n",
              "      <td>0.032867</td>\n",
              "      <td>-0.011398</td>\n",
              "      <td>-0.989441</td>\n",
              "      <td>0.001340</td>\n",
              "      <td>-0.004726</td>\n",
              "      <td>0.000653</td>\n",
              "      <td>0</td>\n",
              "      <td>3</td>\n",
              "      <td>2018-03-15 21:49:02.853</td>\n",
              "    </tr>\n",
              "    <tr>\n",
              "      <th>1</th>\n",
              "      <td>0</td>\n",
              "      <td>User_1</td>\n",
              "      <td>0.036270</td>\n",
              "      <td>-0.646866</td>\n",
              "      <td>-0.749863</td>\n",
              "      <td>0.001340</td>\n",
              "      <td>-0.004726</td>\n",
              "      <td>0.000653</td>\n",
              "      <td>0</td>\n",
              "      <td>3</td>\n",
              "      <td>2018-03-15 21:49:02.876</td>\n",
              "    </tr>\n",
              "    <tr>\n",
              "      <th>2</th>\n",
              "      <td>0</td>\n",
              "      <td>User_1</td>\n",
              "      <td>0.036270</td>\n",
              "      <td>-0.646866</td>\n",
              "      <td>-0.749863</td>\n",
              "      <td>0.001340</td>\n",
              "      <td>-0.004726</td>\n",
              "      <td>0.000653</td>\n",
              "      <td>0</td>\n",
              "      <td>3</td>\n",
              "      <td>2018-03-15 21:49:02.903</td>\n",
              "    </tr>\n",
              "    <tr>\n",
              "      <th>3</th>\n",
              "      <td>0</td>\n",
              "      <td>User_1</td>\n",
              "      <td>-0.061005</td>\n",
              "      <td>-0.691040</td>\n",
              "      <td>-0.748917</td>\n",
              "      <td>0.320133</td>\n",
              "      <td>0.039149</td>\n",
              "      <td>-0.234852</td>\n",
              "      <td>0</td>\n",
              "      <td>3</td>\n",
              "      <td>2018-03-15 21:49:03.052</td>\n",
              "    </tr>\n",
              "    <tr>\n",
              "      <th>4</th>\n",
              "      <td>0</td>\n",
              "      <td>User_1</td>\n",
              "      <td>-0.140427</td>\n",
              "      <td>-0.746765</td>\n",
              "      <td>-0.741333</td>\n",
              "      <td>0.381414</td>\n",
              "      <td>0.046364</td>\n",
              "      <td>-0.343133</td>\n",
              "      <td>0</td>\n",
              "      <td>3</td>\n",
              "      <td>2018-03-15 21:49:03.074</td>\n",
              "    </tr>\n",
              "  </tbody>\n",
              "</table>\n",
              "</div>"
            ],
            "text/plain": [
              "   user_id username     acc_x     acc_y     acc_z    gyro_x    gyro_y  \\\n",
              "0        0   User_1  0.032867 -0.011398 -0.989441  0.001340 -0.004726   \n",
              "1        0   User_1  0.036270 -0.646866 -0.749863  0.001340 -0.004726   \n",
              "2        0   User_1  0.036270 -0.646866 -0.749863  0.001340 -0.004726   \n",
              "3        0   User_1 -0.061005 -0.691040 -0.748917  0.320133  0.039149   \n",
              "4        0   User_1 -0.140427 -0.746765 -0.741333  0.381414  0.046364   \n",
              "\n",
              "     gyro_z  type  ntrial                timestamp  \n",
              "0  0.000653     0       3  2018-03-15 21:49:02.853  \n",
              "1  0.000653     0       3  2018-03-15 21:49:02.876  \n",
              "2  0.000653     0       3  2018-03-15 21:49:02.903  \n",
              "3 -0.234852     0       3  2018-03-15 21:49:03.052  \n",
              "4 -0.343133     0       3  2018-03-15 21:49:03.074  "
            ]
          },
          "metadata": {
            "tags": []
          },
          "execution_count": 9
        }
      ]
    },
    {
      "metadata": {
        "id": "9Ii5dscyo4cI",
        "colab_type": "code",
        "colab": {}
      },
      "cell_type": "code",
      "source": [
        "cols = ['sensor_type','trial','name','type','set']\n",
        "SEQ_LENGTH = 303\n",
        "OVERLAP = 0\n",
        "for i in range(SEQ_LENGTH):\n",
        "    cols.append('x'+str(i))\n",
        "moving_window_x = pd.DataFrame(columns = cols)\n",
        "\n",
        "label = pd.DataFrame(columns = ['sensor_type','set','type1','type2','type3','type4'])\n",
        "s_index = 0\n",
        "for trial in np.sort(df['ntrial'].unique()):\n",
        "    nt = df.loc[df['ntrial'] == trial]\n",
        "\n",
        "    names = df['username'].unique()\n",
        "    for name in names:\n",
        "        n = nt.loc[nt['username'] == name]\n",
        "        \n",
        "        types = np.array([1,2,3,4])\n",
        "        for type_ in types:\n",
        "            t = n.loc[n['type'] == type_]\n",
        "            \n",
        "            sensors = t.columns[2:8]\n",
        "            for sensor in sensors:  \n",
        "                s = t\n",
        "                \n",
        "                if trial == 5: text=\"test\"\n",
        "                else: text=\"train\"\n",
        "                    \n",
        "                row = np.array([sensor])\n",
        "                row = np.append(row,[trial])\n",
        "                row = np.append(row,[name])\n",
        "                row = np.append(row,[type_])\n",
        "                row = np.append(row,[text])\n",
        "                if s[sensor].values.shape[0] > SEQ_LENGTH:\n",
        "                    row = np.append(row,s[sensor].values[:SEQ_LENGTH].astype(float))\n",
        "                    #print(s[sensor].values[:SEQ_LENGTH])\n",
        "                elif s[sensor].values.shape[0] <= SEQ_LENGTH:\n",
        "                    padded_row = np.append(s[sensor].values[:].astype(float),np.array([s[sensor].values[-1].astype(float) for i in range(SEQ_LENGTH-s[sensor].values.shape[0])]))\n",
        "                    row = np.append(row,padded_row)\n",
        "                moving_window_x = moving_window_x.append(pd.DataFrame([row],columns=moving_window_x.columns))\n",
        "                \n",
        "                row_label = np.array([sensor])\n",
        "                row_label = np.append(row_label,[text])\n",
        "                row_label = np.append(row_label,np.zeros((types.shape[0],)))\n",
        "                row_label[type_+1] = 1.0\n",
        "                label = label.append(pd.DataFrame([row_label],columns=label.columns))\n",
        "                \n",
        "    s_index += s[sensor].shape[0]"
      ],
      "execution_count": 0,
      "outputs": []
    },
    {
      "metadata": {
        "id": "nxxJ5wa6o4fG",
        "colab_type": "code",
        "colab": {}
      },
      "cell_type": "code",
      "source": [
        "moving_window_x['index'] = [i for i in range(moving_window_x.shape[0])]\n",
        "moving_window_x = moving_window_x.set_index(['index'])\n",
        "\n",
        "label['index'] = [i for i in range(label.shape[0])]\n",
        "label = label.set_index(['index'])"
      ],
      "execution_count": 0,
      "outputs": []
    },
    {
      "metadata": {
        "id": "yIkdGcPHo4hK",
        "colab_type": "code",
        "colab": {}
      },
      "cell_type": "code",
      "source": [
        "train_len = int(moving_window_x.loc[moving_window_x['set'] == 'train'].shape[0]/6)\n",
        "test_len = int(moving_window_x.loc[moving_window_x['set'] == 'test'].shape[0]/6)"
      ],
      "execution_count": 0,
      "outputs": []
    },
    {
      "metadata": {
        "id": "fhR2eFAKo4hY",
        "colab_type": "code",
        "colab": {}
      },
      "cell_type": "code",
      "source": [
        "x_train = np.zeros((train_len,SEQ_LENGTH,6))\n",
        "y_train = np.zeros((train_len,4))\n",
        "\n",
        "x_test = np.zeros((test_len,SEQ_LENGTH,6))\n",
        "y_test = np.zeros((test_len,4))"
      ],
      "execution_count": 0,
      "outputs": []
    },
    {
      "metadata": {
        "id": "x2PdDR_Bo4he",
        "colab_type": "code",
        "colab": {}
      },
      "cell_type": "code",
      "source": [
        "shuffle_data = np.zeros((train_len+test_len,SEQ_LENGTH,6+4))"
      ],
      "execution_count": 0,
      "outputs": []
    },
    {
      "metadata": {
        "id": "3Y2dqKSio4ho",
        "colab_type": "code",
        "colab": {
          "base_uri": "https://localhost:8080/",
          "height": 85
        },
        "outputId": "bbb86f83-42df-49ac-f737-274e3f7b897c"
      },
      "cell_type": "code",
      "source": [
        "for i,sensor in enumerate(moving_window_x['sensor_type'].unique()):\n",
        "    s_train = moving_window_x.loc[moving_window_x['sensor_type'] == sensor]\n",
        "    s_train = s_train.loc[s_train['set'] == \"train\"]\n",
        "    s_test = moving_window_x.loc[moving_window_x['sensor_type'] == sensor]\n",
        "    s_test = s_test.loc[s_test['set'] == \"test\"]\n",
        "\n",
        "    x_train[:,:,i] = s_train.drop(['sensor_type','trial','name','type','set'],axis=1)\n",
        "    x_test[:,:,i] = s_test.drop(['sensor_type','trial','name','type','set'],axis=1)\n",
        "    if i == 0:\n",
        "        l = label.loc[label['sensor_type'] == sensor]\n",
        "        l_train = l.loc[l['set'] == \"train\"]\n",
        "        l_test = l.loc[l['set'] == \"test\"]\n",
        "        \n",
        "        y_train[:,:] = l_train.drop(['sensor_type','set'],axis=1)\n",
        "        y_test[:,:] = l_test.drop(['sensor_type','set'],axis=1)\n",
        "\n",
        "print(\"x_train.shape: \"+str(x_train.shape))\n",
        "print(\"y_train.shape: \"+str(y_train.shape))\n",
        "print(\"x_test.shape: \"+str(x_test.shape))\n",
        "print(\"y_test.shape: \"+str(y_test.shape))"
      ],
      "execution_count": 15,
      "outputs": [
        {
          "output_type": "stream",
          "text": [
            "x_train.shape: (32, 303, 6)\n",
            "y_train.shape: (32, 4)\n",
            "x_test.shape: (8, 303, 6)\n",
            "y_test.shape: (8, 4)\n"
          ],
          "name": "stdout"
        }
      ]
    },
    {
      "metadata": {
        "id": "0ecd71Oeo4mK",
        "colab_type": "code",
        "colab": {
          "base_uri": "https://localhost:8080/",
          "height": 34
        },
        "outputId": "ff95fcc4-cccf-45af-9016-7950f5ebeea0"
      },
      "cell_type": "code",
      "source": [
        "from keras.models import Sequential\n",
        "from keras.layers import Dense, LSTM\n",
        "from keras.callbacks import History\n",
        "import seaborn as sn\n",
        "import time"
      ],
      "execution_count": 16,
      "outputs": [
        {
          "output_type": "stream",
          "text": [
            "Using TensorFlow backend.\n"
          ],
          "name": "stderr"
        }
      ]
    },
    {
      "metadata": {
        "id": "lLWBP-ojcBzI",
        "colab_type": "code",
        "colab": {
          "base_uri": "https://localhost:8080/",
          "height": 3471
        },
        "outputId": "597afdd3-7731-466a-9a0c-1081914fd790"
      },
      "cell_type": "code",
      "source": [
        "y_train_ = np.zeros((32,303,4))\n",
        "y_train_[:,0,:] = y_train\n",
        "\n",
        "y_test_ = np.zeros((8,303,4))\n",
        "y_test_[:,0,:] = y_test\n",
        "\n",
        "shuffle_data[:32,:,:6] = x_train\n",
        "shuffle_data[:32,:,6:] = y_train_\n",
        "\n",
        "shuffle_data[32:,:,:6] = x_test\n",
        "shuffle_data[32:,:,6:] = y_test_\n",
        "\n",
        "\n",
        "while True:\n",
        "  np.random.shuffle(shuffle_data)\n",
        "\n",
        "  x_train = shuffle_data[:32,:,:6]\n",
        "  x_test = shuffle_data[32:,:,:6]\n",
        "  y_train = shuffle_data[:32,0,6:].reshape(32,4)\n",
        "  y_test = shuffle_data[32:,0,6:].reshape(8,4)\n",
        "  if np.sum(y_test[:,0]) == 2:\n",
        "      if np.sum(y_test[:,1]) == 2:\n",
        "          if np.sum(y_test[:,2]) == 2:\n",
        "              if np.sum(y_test[:,3]) == 2:\n",
        "                  break\n",
        "\n",
        "\n",
        "batch_size = 1\n",
        "timesteps = SEQ_LENGTH\n",
        "data_dim = 6\n",
        "\n",
        "model = Sequential()\n",
        "model.add(LSTM(128, return_sequences=True, \n",
        "               batch_input_shape=(batch_size, timesteps, data_dim)))\n",
        "model.add(LSTM(64))\n",
        "model.add(Dense(32))\n",
        "model.add(Dense(4, activation='softmax'))\n",
        "\n",
        "model.compile(loss='categorical_crossentropy',\n",
        "              optimizer='adam',\n",
        "              metrics=['accuracy'])\n",
        "\n",
        "\n",
        "st = time.time()\n",
        "history = model.fit(x_train, y_train,\n",
        "          batch_size=batch_size, epochs=100, shuffle=False,\n",
        "          validation_data=(x_test, y_test),verbose=1)\n",
        "ft = time.time()\n",
        "\n",
        "print(\"batch size : %d -> %d seconds for training with CPU\"%(batch_size,ft-st))\n"
      ],
      "execution_count": 18,
      "outputs": [
        {
          "output_type": "stream",
          "text": [
            "Train on 32 samples, validate on 8 samples\n",
            "Epoch 1/100\n",
            "32/32 [==============================] - 8s 261ms/step - loss: 1.4872 - acc: 0.1562 - val_loss: 1.4585 - val_acc: 0.1250\n",
            "Epoch 2/100\n",
            "32/32 [==============================] - 7s 222ms/step - loss: 1.3743 - acc: 0.2812 - val_loss: 1.4401 - val_acc: 0.0000e+00\n",
            "Epoch 3/100\n",
            "32/32 [==============================] - 7s 224ms/step - loss: 1.4050 - acc: 0.3438 - val_loss: 1.4673 - val_acc: 0.0000e+00\n",
            "Epoch 4/100\n",
            "32/32 [==============================] - 7s 222ms/step - loss: 1.3124 - acc: 0.3750 - val_loss: 1.4486 - val_acc: 0.0000e+00\n",
            "Epoch 5/100\n",
            "32/32 [==============================] - 7s 223ms/step - loss: 1.3181 - acc: 0.4688 - val_loss: 1.4844 - val_acc: 0.1250\n",
            "Epoch 6/100\n",
            "32/32 [==============================] - 7s 224ms/step - loss: 1.0655 - acc: 0.3750 - val_loss: 0.9584 - val_acc: 0.3750\n",
            "Epoch 7/100\n",
            " 6/32 [====>.........................] - ETA: 5s - loss: 1.8252 - acc: 0.3333"
          ],
          "name": "stdout"
        },
        {
          "output_type": "stream",
          "text": [
            "32/32 [==============================] - 7s 222ms/step - loss: 1.4889 - acc: 0.2812 - val_loss: 1.3412 - val_acc: 0.1250\n",
            "Epoch 8/100\n",
            "32/32 [==============================] - 7s 223ms/step - loss: 1.0210 - acc: 0.5000 - val_loss: 0.9280 - val_acc: 0.3750\n",
            "Epoch 9/100\n",
            "32/32 [==============================] - 7s 225ms/step - loss: 1.2870 - acc: 0.4688 - val_loss: 1.5933 - val_acc: 0.3750\n",
            "Epoch 10/100\n",
            "32/32 [==============================] - 7s 225ms/step - loss: 1.1685 - acc: 0.4062 - val_loss: 1.0533 - val_acc: 0.3750\n",
            "Epoch 11/100\n",
            "32/32 [==============================] - 7s 222ms/step - loss: 0.8645 - acc: 0.6875 - val_loss: 1.1243 - val_acc: 0.5000\n",
            "Epoch 12/100\n",
            "32/32 [==============================] - 7s 221ms/step - loss: 0.9824 - acc: 0.4062 - val_loss: 1.8043 - val_acc: 0.2500\n",
            "Epoch 13/100\n",
            "21/32 [==================>...........] - ETA: 2s - loss: 1.0551 - acc: 0.6667"
          ],
          "name": "stdout"
        },
        {
          "output_type": "stream",
          "text": [
            "32/32 [==============================] - 7s 225ms/step - loss: 1.2876 - acc: 0.4688 - val_loss: 1.5222 - val_acc: 0.1250\n",
            "Epoch 14/100\n",
            "32/32 [==============================] - 7s 223ms/step - loss: 0.9990 - acc: 0.5938 - val_loss: 1.2074 - val_acc: 0.3750\n",
            "Epoch 15/100\n",
            "32/32 [==============================] - 7s 224ms/step - loss: 0.9093 - acc: 0.6250 - val_loss: 0.9587 - val_acc: 0.3750\n",
            "Epoch 16/100\n",
            "32/32 [==============================] - 7s 224ms/step - loss: 0.8906 - acc: 0.5312 - val_loss: 0.8046 - val_acc: 0.3750\n",
            "Epoch 17/100\n",
            "32/32 [==============================] - 7s 222ms/step - loss: 0.7296 - acc: 0.5312 - val_loss: 0.7649 - val_acc: 0.5000\n",
            "Epoch 18/100\n",
            "32/32 [==============================] - 7s 223ms/step - loss: 0.6940 - acc: 0.5938 - val_loss: 1.2184 - val_acc: 0.5000\n",
            "Epoch 19/100\n",
            "21/32 [==================>...........] - ETA: 2s - loss: 0.7929 - acc: 0.4762"
          ],
          "name": "stdout"
        },
        {
          "output_type": "stream",
          "text": [
            "32/32 [==============================] - 7s 223ms/step - loss: 0.9216 - acc: 0.4062 - val_loss: 1.1941 - val_acc: 0.3750\n",
            "Epoch 20/100\n",
            "32/32 [==============================] - 7s 224ms/step - loss: 0.9402 - acc: 0.5625 - val_loss: 1.3834 - val_acc: 0.5000\n",
            "Epoch 21/100\n",
            "32/32 [==============================] - 7s 229ms/step - loss: 0.6943 - acc: 0.5312 - val_loss: 0.7997 - val_acc: 0.3750\n",
            "Epoch 22/100\n",
            "32/32 [==============================] - 7s 225ms/step - loss: 0.7012 - acc: 0.6250 - val_loss: 0.9147 - val_acc: 0.5000\n",
            "Epoch 23/100\n",
            "32/32 [==============================] - 7s 225ms/step - loss: 0.6786 - acc: 0.6562 - val_loss: 0.8891 - val_acc: 0.3750\n",
            "Epoch 24/100\n",
            "32/32 [==============================] - 7s 224ms/step - loss: 0.8284 - acc: 0.5625 - val_loss: 0.8627 - val_acc: 0.3750\n",
            "Epoch 25/100\n",
            "21/32 [==================>...........] - ETA: 2s - loss: 0.7297 - acc: 0.6667"
          ],
          "name": "stdout"
        },
        {
          "output_type": "stream",
          "text": [
            "32/32 [==============================] - 7s 227ms/step - loss: 0.7657 - acc: 0.6562 - val_loss: 0.8248 - val_acc: 0.3750\n",
            "Epoch 26/100\n",
            "32/32 [==============================] - 7s 224ms/step - loss: 1.4650 - acc: 0.4688 - val_loss: 1.2446 - val_acc: 0.3750\n",
            "Epoch 27/100\n",
            "32/32 [==============================] - 7s 225ms/step - loss: 1.2931 - acc: 0.2812 - val_loss: 1.1241 - val_acc: 0.1250\n",
            "Epoch 28/100\n",
            "32/32 [==============================] - 7s 227ms/step - loss: 1.1743 - acc: 0.4688 - val_loss: 1.0947 - val_acc: 0.2500\n",
            "Epoch 29/100\n",
            "32/32 [==============================] - 7s 224ms/step - loss: 1.0885 - acc: 0.4375 - val_loss: 1.0473 - val_acc: 0.2500\n",
            "Epoch 30/100\n",
            "32/32 [==============================] - 7s 227ms/step - loss: 1.0758 - acc: 0.4688 - val_loss: 1.1679 - val_acc: 0.1250\n",
            "Epoch 31/100\n",
            "21/32 [==================>...........] - ETA: 2s - loss: 0.9274 - acc: 0.6667"
          ],
          "name": "stdout"
        },
        {
          "output_type": "stream",
          "text": [
            "32/32 [==============================] - 7s 225ms/step - loss: 1.1463 - acc: 0.5000 - val_loss: 1.3374 - val_acc: 0.3750\n",
            "Epoch 32/100\n",
            "32/32 [==============================] - 7s 227ms/step - loss: 1.1086 - acc: 0.4688 - val_loss: 1.2719 - val_acc: 0.3750\n",
            "Epoch 33/100\n",
            "32/32 [==============================] - 7s 223ms/step - loss: 1.0562 - acc: 0.4062 - val_loss: 1.0801 - val_acc: 0.2500\n",
            "Epoch 34/100\n",
            "32/32 [==============================] - 7s 227ms/step - loss: 0.9585 - acc: 0.4688 - val_loss: 0.9207 - val_acc: 0.3750\n",
            "Epoch 35/100\n",
            "32/32 [==============================] - 7s 227ms/step - loss: 0.9713 - acc: 0.5000 - val_loss: 0.9837 - val_acc: 0.3750\n",
            "Epoch 36/100\n",
            "32/32 [==============================] - 7s 225ms/step - loss: 0.8333 - acc: 0.5312 - val_loss: 0.9936 - val_acc: 0.1250\n",
            "Epoch 37/100\n",
            "21/32 [==================>...........] - ETA: 2s - loss: 1.4800 - acc: 0.4762"
          ],
          "name": "stdout"
        },
        {
          "output_type": "stream",
          "text": [
            "32/32 [==============================] - 7s 226ms/step - loss: 1.6004 - acc: 0.3125 - val_loss: 1.5295 - val_acc: 0.2500\n",
            "Epoch 38/100\n",
            "32/32 [==============================] - 7s 227ms/step - loss: 1.5166 - acc: 0.1562 - val_loss: 1.4774 - val_acc: 0.2500\n",
            "Epoch 39/100\n",
            "32/32 [==============================] - 7s 226ms/step - loss: 1.4005 - acc: 0.1875 - val_loss: 1.7070 - val_acc: 0.2500\n",
            "Epoch 40/100\n",
            "32/32 [==============================] - 7s 225ms/step - loss: 1.3634 - acc: 0.2812 - val_loss: 1.7187 - val_acc: 0.2500\n",
            "Epoch 41/100\n",
            "32/32 [==============================] - 7s 225ms/step - loss: 1.3338 - acc: 0.3750 - val_loss: 1.7341 - val_acc: 0.2500\n",
            "Epoch 42/100\n",
            "32/32 [==============================] - 7s 226ms/step - loss: 1.3027 - acc: 0.4062 - val_loss: 1.7494 - val_acc: 0.2500\n",
            "Epoch 43/100\n",
            "21/32 [==================>...........] - ETA: 2s - loss: 1.1637 - acc: 0.4286"
          ],
          "name": "stdout"
        },
        {
          "output_type": "stream",
          "text": [
            "32/32 [==============================] - 7s 229ms/step - loss: 1.2772 - acc: 0.3438 - val_loss: 1.7793 - val_acc: 0.2500\n",
            "Epoch 44/100\n",
            "32/32 [==============================] - 7s 229ms/step - loss: 1.2538 - acc: 0.3750 - val_loss: 1.8151 - val_acc: 0.2500\n",
            "Epoch 45/100\n",
            "32/32 [==============================] - 7s 227ms/step - loss: 1.2419 - acc: 0.3750 - val_loss: 1.8392 - val_acc: 0.1250\n",
            "Epoch 46/100\n",
            "32/32 [==============================] - 7s 230ms/step - loss: 1.2346 - acc: 0.4062 - val_loss: 1.8541 - val_acc: 0.2500\n",
            "Epoch 47/100\n",
            "32/32 [==============================] - 7s 230ms/step - loss: 1.2289 - acc: 0.4375 - val_loss: 1.8793 - val_acc: 0.2500\n",
            "Epoch 48/100\n",
            "32/32 [==============================] - 7s 229ms/step - loss: 1.2192 - acc: 0.4062 - val_loss: 1.9145 - val_acc: 0.1250\n",
            "Epoch 49/100\n",
            "21/32 [==================>...........] - ETA: 2s - loss: 1.1034 - acc: 0.4762"
          ],
          "name": "stdout"
        },
        {
          "output_type": "stream",
          "text": [
            "32/32 [==============================] - 7s 230ms/step - loss: 1.2076 - acc: 0.3750 - val_loss: 1.9128 - val_acc: 0.2500\n",
            "Epoch 50/100\n",
            "32/32 [==============================] - 7s 228ms/step - loss: 1.3122 - acc: 0.3750 - val_loss: 1.5206 - val_acc: 0.2500\n",
            "Epoch 51/100\n",
            "32/32 [==============================] - 7s 232ms/step - loss: 1.3638 - acc: 0.4375 - val_loss: 1.5080 - val_acc: 0.0000e+00\n",
            "Epoch 52/100\n",
            "32/32 [==============================] - 7s 228ms/step - loss: 1.2767 - acc: 0.3438 - val_loss: 1.5211 - val_acc: 0.0000e+00\n",
            "Epoch 53/100\n",
            "32/32 [==============================] - 7s 227ms/step - loss: 1.2392 - acc: 0.4062 - val_loss: 1.4482 - val_acc: 0.2500\n",
            "Epoch 54/100\n",
            "32/32 [==============================] - 7s 224ms/step - loss: 1.2697 - acc: 0.3438 - val_loss: 1.4340 - val_acc: 0.0000e+00\n",
            "Epoch 55/100\n",
            "20/32 [=================>............] - ETA: 2s - loss: 1.1178 - acc: 0.3500"
          ],
          "name": "stdout"
        },
        {
          "output_type": "stream",
          "text": [
            "32/32 [==============================] - 7s 226ms/step - loss: 1.2002 - acc: 0.3750 - val_loss: 1.4357 - val_acc: 0.2500\n",
            "Epoch 56/100\n",
            "32/32 [==============================] - 7s 228ms/step - loss: 1.3067 - acc: 0.3750 - val_loss: 1.4974 - val_acc: 0.0000e+00\n",
            "Epoch 57/100\n",
            "32/32 [==============================] - 7s 229ms/step - loss: 1.1777 - acc: 0.4062 - val_loss: 1.3533 - val_acc: 0.2500\n",
            "Epoch 58/100\n",
            "32/32 [==============================] - 7s 228ms/step - loss: 1.2527 - acc: 0.4062 - val_loss: 1.3888 - val_acc: 0.2500\n",
            "Epoch 59/100\n",
            "32/32 [==============================] - 7s 232ms/step - loss: 1.5053 - acc: 0.3750 - val_loss: 1.7242 - val_acc: 0.0000e+00\n",
            "Epoch 60/100\n",
            "32/32 [==============================] - 7s 228ms/step - loss: 1.2309 - acc: 0.4375 - val_loss: 1.3861 - val_acc: 0.2500\n",
            "Epoch 61/100\n",
            "20/32 [=================>............] - ETA: 2s - loss: 1.1242 - acc: 0.5000"
          ],
          "name": "stdout"
        },
        {
          "output_type": "stream",
          "text": [
            "32/32 [==============================] - 7s 229ms/step - loss: 1.1616 - acc: 0.4375 - val_loss: 1.3569 - val_acc: 0.2500\n",
            "Epoch 62/100\n",
            "32/32 [==============================] - 7s 229ms/step - loss: 1.1868 - acc: 0.4062 - val_loss: 1.3151 - val_acc: 0.2500\n",
            "Epoch 63/100\n",
            "32/32 [==============================] - 7s 230ms/step - loss: 1.1498 - acc: 0.2812 - val_loss: 1.2701 - val_acc: 0.0000e+00\n",
            "Epoch 64/100\n",
            "32/32 [==============================] - 7s 228ms/step - loss: 1.0666 - acc: 0.2812 - val_loss: 1.1833 - val_acc: 0.2500\n",
            "Epoch 65/100\n",
            "32/32 [==============================] - 7s 228ms/step - loss: 1.2848 - acc: 0.4062 - val_loss: 1.6194 - val_acc: 0.0000e+00\n",
            "Epoch 66/100\n",
            "32/32 [==============================] - 7s 230ms/step - loss: 1.4336 - acc: 0.3125 - val_loss: 1.4765 - val_acc: 0.0000e+00\n",
            "Epoch 67/100\n",
            "20/32 [=================>............] - ETA: 2s - loss: 1.3852 - acc: 0.3000"
          ],
          "name": "stdout"
        },
        {
          "output_type": "stream",
          "text": [
            "32/32 [==============================] - 7s 227ms/step - loss: 1.3977 - acc: 0.1875 - val_loss: 1.4919 - val_acc: 0.0000e+00\n",
            "Epoch 68/100\n",
            "32/32 [==============================] - 7s 224ms/step - loss: 1.3918 - acc: 0.1875 - val_loss: 1.5064 - val_acc: 0.0000e+00\n",
            "Epoch 69/100\n",
            "32/32 [==============================] - 7s 223ms/step - loss: 1.3833 - acc: 0.2188 - val_loss: 1.5226 - val_acc: 0.0000e+00\n",
            "Epoch 70/100\n",
            "32/32 [==============================] - 7s 224ms/step - loss: 1.3773 - acc: 0.2812 - val_loss: 1.5234 - val_acc: 0.0000e+00\n",
            "Epoch 71/100\n",
            "32/32 [==============================] - 7s 223ms/step - loss: 1.3719 - acc: 0.2812 - val_loss: 1.5141 - val_acc: 0.0000e+00\n",
            "Epoch 72/100\n",
            "32/32 [==============================] - 7s 224ms/step - loss: 1.3632 - acc: 0.2812 - val_loss: 1.5168 - val_acc: 0.0000e+00\n",
            "Epoch 73/100\n",
            "18/32 [===============>..............] - ETA: 3s - loss: 1.2703 - acc: 0.4444"
          ],
          "name": "stdout"
        },
        {
          "output_type": "stream",
          "text": [
            "32/32 [==============================] - 7s 225ms/step - loss: 1.3496 - acc: 0.3438 - val_loss: 1.4865 - val_acc: 0.0000e+00\n",
            "Epoch 74/100\n",
            "32/32 [==============================] - 7s 225ms/step - loss: 1.3405 - acc: 0.3438 - val_loss: 1.4977 - val_acc: 0.0000e+00\n",
            "Epoch 75/100\n",
            "32/32 [==============================] - 7s 227ms/step - loss: 1.3227 - acc: 0.4062 - val_loss: 1.4734 - val_acc: 0.0000e+00\n",
            "Epoch 76/100\n",
            "32/32 [==============================] - 7s 224ms/step - loss: 1.3099 - acc: 0.3750 - val_loss: 1.4621 - val_acc: 0.0000e+00\n",
            "Epoch 77/100\n",
            "32/32 [==============================] - 7s 222ms/step - loss: 1.3115 - acc: 0.4062 - val_loss: 1.4537 - val_acc: 0.0000e+00\n",
            "Epoch 78/100\n",
            "32/32 [==============================] - 7s 224ms/step - loss: 1.3018 - acc: 0.3750 - val_loss: 1.5012 - val_acc: 0.0000e+00\n",
            "Epoch 79/100\n",
            "18/32 [===============>..............] - ETA: 2s - loss: 1.1919 - acc: 0.4444"
          ],
          "name": "stdout"
        },
        {
          "output_type": "stream",
          "text": [
            "32/32 [==============================] - 7s 222ms/step - loss: 1.2649 - acc: 0.4375 - val_loss: 1.4994 - val_acc: 0.0000e+00\n",
            "Epoch 80/100\n",
            "32/32 [==============================] - 7s 222ms/step - loss: 1.2453 - acc: 0.4375 - val_loss: 1.5275 - val_acc: 0.0000e+00\n",
            "Epoch 81/100\n",
            "32/32 [==============================] - 7s 225ms/step - loss: 1.2191 - acc: 0.4375 - val_loss: 1.3827 - val_acc: 0.2500\n",
            "Epoch 82/100\n",
            "32/32 [==============================] - 7s 227ms/step - loss: 1.2833 - acc: 0.3438 - val_loss: 1.4416 - val_acc: 0.2500\n",
            "Epoch 83/100\n",
            "32/32 [==============================] - 7s 225ms/step - loss: 1.2329 - acc: 0.3125 - val_loss: 1.5632 - val_acc: 0.0000e+00\n",
            "Epoch 84/100\n",
            "32/32 [==============================] - 7s 228ms/step - loss: 1.2032 - acc: 0.4375 - val_loss: 1.4086 - val_acc: 0.2500\n",
            "Epoch 85/100\n",
            "19/32 [================>.............] - ETA: 2s - loss: 1.0713 - acc: 0.4737"
          ],
          "name": "stdout"
        },
        {
          "output_type": "stream",
          "text": [
            "32/32 [==============================] - 7s 223ms/step - loss: 1.1577 - acc: 0.4688 - val_loss: 1.2797 - val_acc: 0.2500\n",
            "Epoch 86/100\n",
            "32/32 [==============================] - 7s 226ms/step - loss: 1.1880 - acc: 0.4375 - val_loss: 1.5481 - val_acc: 0.0000e+00\n",
            "Epoch 87/100\n",
            "32/32 [==============================] - 7s 225ms/step - loss: 1.3929 - acc: 0.1562 - val_loss: 1.3979 - val_acc: 0.2500\n",
            "Epoch 88/100\n",
            "32/32 [==============================] - 7s 227ms/step - loss: 1.3159 - acc: 0.2812 - val_loss: 1.4258 - val_acc: 0.2500\n",
            "Epoch 89/100\n",
            "32/32 [==============================] - 7s 229ms/step - loss: 1.2668 - acc: 0.2500 - val_loss: 1.4503 - val_acc: 0.0000e+00\n",
            "Epoch 90/100\n",
            "32/32 [==============================] - 7s 225ms/step - loss: 1.2333 - acc: 0.4375 - val_loss: 1.4862 - val_acc: 0.0000e+00\n",
            "Epoch 91/100\n",
            "20/32 [=================>............] - ETA: 2s - loss: 1.1105 - acc: 0.4500"
          ],
          "name": "stdout"
        },
        {
          "output_type": "stream",
          "text": [
            "32/32 [==============================] - 7s 229ms/step - loss: 1.2197 - acc: 0.4375 - val_loss: 1.4365 - val_acc: 0.2500\n",
            "Epoch 92/100\n",
            "32/32 [==============================] - 7s 227ms/step - loss: 1.2232 - acc: 0.4062 - val_loss: 1.5582 - val_acc: 0.0000e+00\n",
            "Epoch 93/100\n",
            "32/32 [==============================] - 7s 226ms/step - loss: 1.2019 - acc: 0.4375 - val_loss: 1.3582 - val_acc: 0.2500\n",
            "Epoch 94/100\n",
            "32/32 [==============================] - 7s 223ms/step - loss: 1.1592 - acc: 0.5000 - val_loss: 1.4322 - val_acc: 0.2500\n",
            "Epoch 95/100\n",
            "32/32 [==============================] - 7s 225ms/step - loss: 1.2458 - acc: 0.3750 - val_loss: 1.5552 - val_acc: 0.0000e+00\n",
            "Epoch 96/100\n",
            "32/32 [==============================] - 7s 229ms/step - loss: 1.1711 - acc: 0.5000 - val_loss: 1.2961 - val_acc: 0.2500\n",
            "Epoch 97/100\n",
            "20/32 [=================>............] - ETA: 2s - loss: 1.0822 - acc: 0.4000"
          ],
          "name": "stdout"
        },
        {
          "output_type": "stream",
          "text": [
            "32/32 [==============================] - 7s 223ms/step - loss: 1.1936 - acc: 0.3750 - val_loss: 1.4353 - val_acc: 0.1250\n",
            "Epoch 98/100\n",
            "32/32 [==============================] - 7s 223ms/step - loss: 1.4235 - acc: 0.3125 - val_loss: 1.4189 - val_acc: 0.2500\n",
            "Epoch 99/100\n",
            "32/32 [==============================] - 7s 225ms/step - loss: 1.3629 - acc: 0.1875 - val_loss: 1.4335 - val_acc: 0.0000e+00\n",
            "Epoch 100/100\n",
            "32/32 [==============================] - 7s 226ms/step - loss: 1.3161 - acc: 0.2500 - val_loss: 1.4836 - val_acc: 0.0000e+00\n",
            "batch size : 1 -> 724 seconds for training with CPU\n"
          ],
          "name": "stdout"
        }
      ]
    },
    {
      "metadata": {
        "id": "3wfqYPKSh-c8",
        "colab_type": "code",
        "colab": {
          "base_uri": "https://localhost:8080/",
          "height": 3471
        },
        "outputId": "5daa81b2-12a8-4470-9e2a-acdfb0e6cacf"
      },
      "cell_type": "code",
      "source": [
        "y_train_ = np.zeros((32,303,4))\n",
        "y_train_[:,0,:] = y_train\n",
        "\n",
        "y_test_ = np.zeros((8,303,4))\n",
        "y_test_[:,0,:] = y_test\n",
        "\n",
        "shuffle_data[:32,:,:6] = x_train\n",
        "shuffle_data[:32,:,6:] = y_train_\n",
        "\n",
        "shuffle_data[32:,:,:6] = x_test\n",
        "shuffle_data[32:,:,6:] = y_test_\n",
        "\n",
        "\n",
        "while True:\n",
        "  np.random.shuffle(shuffle_data)\n",
        "\n",
        "  x_train = shuffle_data[:32,:,:6]\n",
        "  x_test = shuffle_data[32:,:,:6]\n",
        "  y_train = shuffle_data[:32,0,6:].reshape(32,4)\n",
        "  y_test = shuffle_data[32:,0,6:].reshape(8,4)\n",
        "  if np.sum(y_test[:,0]) == 2:\n",
        "      if np.sum(y_test[:,1]) == 2:\n",
        "          if np.sum(y_test[:,2]) == 2:\n",
        "              if np.sum(y_test[:,3]) == 2:\n",
        "                  break\n",
        "\n",
        "\n",
        "batch_size = 8\n",
        "timesteps = SEQ_LENGTH\n",
        "data_dim = 6\n",
        "\n",
        "model = Sequential()\n",
        "model.add(LSTM(128, return_sequences=True, \n",
        "               batch_input_shape=(batch_size, timesteps, data_dim)))\n",
        "model.add(LSTM(64))\n",
        "model.add(Dense(32))\n",
        "model.add(Dense(4, activation='softmax'))\n",
        "\n",
        "model.compile(loss='categorical_crossentropy',\n",
        "              optimizer='adam',\n",
        "              metrics=['accuracy'])\n",
        "\n",
        "\n",
        "st = time.time()\n",
        "history = model.fit(x_train, y_train,\n",
        "          batch_size=batch_size, epochs=100, shuffle=False,\n",
        "          validation_data=(x_test, y_test),verbose=1)\n",
        "ft = time.time()\n",
        "\n",
        "print(\"batch size : %d -> %d seconds for training with CPU\"%(batch_size,ft-st))\n"
      ],
      "execution_count": 19,
      "outputs": [
        {
          "output_type": "stream",
          "text": [
            "Train on 32 samples, validate on 8 samples\n",
            "Epoch 1/100\n",
            "32/32 [==============================] - 2s 64ms/step - loss: 1.4193 - acc: 0.0938 - val_loss: 1.3552 - val_acc: 0.2500\n",
            "Epoch 2/100\n",
            "32/32 [==============================] - 1s 36ms/step - loss: 1.3729 - acc: 0.2812 - val_loss: 1.3438 - val_acc: 0.3750\n",
            "Epoch 3/100\n",
            "32/32 [==============================] - 1s 36ms/step - loss: 1.3499 - acc: 0.3125 - val_loss: 1.3270 - val_acc: 0.3750\n",
            "Epoch 4/100\n",
            "32/32 [==============================] - 1s 35ms/step - loss: 1.3219 - acc: 0.3125 - val_loss: 1.2893 - val_acc: 0.3750\n",
            "Epoch 5/100\n",
            "32/32 [==============================] - 1s 36ms/step - loss: 1.2793 - acc: 0.3438 - val_loss: 1.2213 - val_acc: 0.3750\n",
            "Epoch 6/100\n",
            "32/32 [==============================] - 1s 36ms/step - loss: 1.2156 - acc: 0.5000 - val_loss: 1.1464 - val_acc: 0.2500\n",
            "Epoch 7/100\n",
            "32/32 [==============================] - 1s 36ms/step - loss: 1.1297 - acc: 0.5312 - val_loss: 1.0099 - val_acc: 0.5000\n",
            "Epoch 8/100\n",
            "32/32 [==============================] - 1s 35ms/step - loss: 1.0779 - acc: 0.5938 - val_loss: 0.8675 - val_acc: 0.6250\n",
            "Epoch 9/100\n",
            "32/32 [==============================] - 1s 36ms/step - loss: 0.8011 - acc: 0.5625 - val_loss: 0.9156 - val_acc: 0.5000\n",
            "Epoch 10/100\n",
            "32/32 [==============================] - 1s 36ms/step - loss: 0.8300 - acc: 0.5625 - val_loss: 0.8180 - val_acc: 0.3750\n",
            "Epoch 11/100\n",
            "32/32 [==============================] - 1s 36ms/step - loss: 0.7160 - acc: 0.5625 - val_loss: 0.7031 - val_acc: 0.6250\n",
            "Epoch 12/100\n",
            "32/32 [==============================] - 1s 36ms/step - loss: 0.7773 - acc: 0.5938 - val_loss: 0.8305 - val_acc: 0.6250\n",
            "Epoch 13/100\n",
            "32/32 [==============================] - 1s 35ms/step - loss: 0.9801 - acc: 0.6562 - val_loss: 0.7212 - val_acc: 0.6250\n",
            "Epoch 14/100\n",
            "32/32 [==============================] - 1s 36ms/step - loss: 0.7663 - acc: 0.6250 - val_loss: 0.7808 - val_acc: 0.3750\n",
            "Epoch 15/100\n",
            "32/32 [==============================] - 1s 35ms/step - loss: 0.7434 - acc: 0.5938 - val_loss: 0.7811 - val_acc: 0.3750\n",
            "Epoch 16/100\n",
            "32/32 [==============================] - 1s 35ms/step - loss: 0.6105 - acc: 0.7812 - val_loss: 0.6311 - val_acc: 0.6250\n",
            "Epoch 17/100\n",
            "24/32 [=====================>........] - ETA: 0s - loss: 0.6179 - acc: 0.6667"
          ],
          "name": "stdout"
        },
        {
          "output_type": "stream",
          "text": [
            "\b\b\b\b\b\b\b\b\b\b\b\b\b\b\b\b\b\b\b\b\b\b\b\b\b\b\b\b\b\b\b\b\b\b\b\b\b\b\b\b\b\b\b\b\b\b\b\b\b\b\b\b\b\b\b\b\b\b\b\b\b\b\b\b\b\b\b\b\b\b\b\b\b\b\b\b\b\r32/32 [==============================] - 1s 35ms/step - loss: 0.5828 - acc: 0.6875 - val_loss: 0.5921 - val_acc: 0.7500\n",
            "Epoch 18/100\n",
            "32/32 [==============================] - 1s 36ms/step - loss: 0.5638 - acc: 0.6875 - val_loss: 0.6104 - val_acc: 0.5000\n",
            "Epoch 19/100\n",
            "32/32 [==============================] - 1s 36ms/step - loss: 0.5065 - acc: 0.7812 - val_loss: 0.5448 - val_acc: 0.5000\n",
            "Epoch 20/100\n",
            "32/32 [==============================] - 1s 36ms/step - loss: 0.4624 - acc: 0.8438 - val_loss: 0.5168 - val_acc: 0.6250\n",
            "Epoch 21/100\n",
            "32/32 [==============================] - 1s 35ms/step - loss: 0.4244 - acc: 0.8438 - val_loss: 0.5063 - val_acc: 0.6250\n",
            "Epoch 22/100\n",
            "32/32 [==============================] - 1s 36ms/step - loss: 0.3199 - acc: 0.9375 - val_loss: 0.4269 - val_acc: 0.7500\n",
            "Epoch 23/100\n",
            "32/32 [==============================] - 1s 36ms/step - loss: 0.2202 - acc: 0.9688 - val_loss: 0.3639 - val_acc: 0.8750\n",
            "Epoch 24/100\n",
            "32/32 [==============================] - 1s 36ms/step - loss: 0.1852 - acc: 0.9688 - val_loss: 0.6558 - val_acc: 0.8750\n",
            "Epoch 25/100\n",
            "32/32 [==============================] - 1s 36ms/step - loss: 0.4747 - acc: 0.8438 - val_loss: 0.7045 - val_acc: 0.8750\n",
            "Epoch 26/100\n",
            "32/32 [==============================] - 1s 36ms/step - loss: 0.2509 - acc: 0.9375 - val_loss: 1.4107 - val_acc: 0.6250\n",
            "Epoch 27/100\n",
            "32/32 [==============================] - 1s 35ms/step - loss: 0.9738 - acc: 0.7188 - val_loss: 1.0630 - val_acc: 0.6250\n",
            "Epoch 28/100\n",
            "32/32 [==============================] - 1s 35ms/step - loss: 0.6818 - acc: 0.7812 - val_loss: 0.7920 - val_acc: 0.6250\n",
            "Epoch 29/100\n",
            "32/32 [==============================] - 1s 35ms/step - loss: 0.3882 - acc: 0.7812 - val_loss: 0.7538 - val_acc: 0.3750\n",
            "Epoch 30/100\n",
            "32/32 [==============================] - 1s 36ms/step - loss: 0.3169 - acc: 0.8750 - val_loss: 0.7977 - val_acc: 0.6250\n",
            "Epoch 31/100\n",
            "32/32 [==============================] - 1s 36ms/step - loss: 0.3702 - acc: 0.7500 - val_loss: 0.7518 - val_acc: 0.6250\n",
            "Epoch 32/100\n",
            "32/32 [==============================] - 1s 36ms/step - loss: 0.3164 - acc: 0.7812 - val_loss: 0.6033 - val_acc: 0.3750\n",
            "Epoch 33/100\n",
            "16/32 [==============>...............] - ETA: 0s - loss: 0.3131 - acc: 0.9375"
          ],
          "name": "stdout"
        },
        {
          "output_type": "stream",
          "text": [
            "32/32 [==============================] - 1s 36ms/step - loss: 0.3071 - acc: 0.9062 - val_loss: 0.5880 - val_acc: 0.7500\n",
            "Epoch 34/100\n",
            "32/32 [==============================] - 1s 36ms/step - loss: 0.2208 - acc: 0.9688 - val_loss: 0.4453 - val_acc: 0.7500\n",
            "Epoch 35/100\n",
            "32/32 [==============================] - 1s 36ms/step - loss: 0.1648 - acc: 0.9688 - val_loss: 0.4548 - val_acc: 0.7500\n",
            "Epoch 36/100\n",
            "32/32 [==============================] - 1s 35ms/step - loss: 0.1532 - acc: 0.9688 - val_loss: 0.3361 - val_acc: 0.8750\n",
            "Epoch 37/100\n",
            "32/32 [==============================] - 1s 36ms/step - loss: 0.4329 - acc: 0.9062 - val_loss: 0.6081 - val_acc: 0.6250\n",
            "Epoch 38/100\n",
            "32/32 [==============================] - 1s 35ms/step - loss: 1.5176 - acc: 0.6875 - val_loss: 1.8702 - val_acc: 0.5000\n",
            "Epoch 39/100\n",
            "32/32 [==============================] - 1s 35ms/step - loss: 1.2948 - acc: 0.6562 - val_loss: 1.3497 - val_acc: 0.6250\n",
            "Epoch 40/100\n",
            "32/32 [==============================] - 1s 36ms/step - loss: 1.0239 - acc: 0.6875 - val_loss: 1.0641 - val_acc: 0.6250\n",
            "Epoch 41/100\n",
            "32/32 [==============================] - 1s 36ms/step - loss: 0.6924 - acc: 0.8750 - val_loss: 0.8639 - val_acc: 0.7500\n",
            "Epoch 42/100\n",
            "32/32 [==============================] - 1s 36ms/step - loss: 0.5864 - acc: 0.8125 - val_loss: 0.8838 - val_acc: 0.5000\n",
            "Epoch 43/100\n",
            "32/32 [==============================] - 1s 36ms/step - loss: 0.5058 - acc: 0.8125 - val_loss: 0.7951 - val_acc: 0.5000\n",
            "Epoch 44/100\n",
            "32/32 [==============================] - 1s 35ms/step - loss: 0.4440 - acc: 0.8125 - val_loss: 0.7342 - val_acc: 0.6250\n",
            "Epoch 45/100\n",
            "32/32 [==============================] - 1s 35ms/step - loss: 0.4030 - acc: 0.8125 - val_loss: 0.7022 - val_acc: 0.6250\n",
            "Epoch 46/100\n",
            "32/32 [==============================] - 1s 35ms/step - loss: 0.3718 - acc: 0.9062 - val_loss: 0.6510 - val_acc: 0.5000\n",
            "Epoch 47/100\n",
            "32/32 [==============================] - 1s 35ms/step - loss: 0.3369 - acc: 0.8750 - val_loss: 0.5633 - val_acc: 0.7500\n",
            "Epoch 48/100\n",
            "32/32 [==============================] - 1s 36ms/step - loss: 0.2806 - acc: 0.9062 - val_loss: 0.4696 - val_acc: 0.8750\n",
            "Epoch 49/100\n",
            "32/32 [==============================] - 1s 36ms/step - loss: 0.2765 - acc: 0.9062 - val_loss: 0.7395 - val_acc: 0.6250\n",
            "Epoch 50/100\n"
          ],
          "name": "stdout"
        },
        {
          "output_type": "stream",
          "text": [
            "32/32 [==============================] - 1s 36ms/step - loss: 0.4502 - acc: 0.8750 - val_loss: 0.8892 - val_acc: 0.6250\n",
            "Epoch 51/100\n",
            "32/32 [==============================] - 1s 36ms/step - loss: 0.2690 - acc: 0.9375 - val_loss: 0.4592 - val_acc: 0.7500\n",
            "Epoch 52/100\n",
            "32/32 [==============================] - 1s 36ms/step - loss: 0.3583 - acc: 0.8750 - val_loss: 0.7392 - val_acc: 0.3750\n",
            "Epoch 53/100\n",
            "32/32 [==============================] - 1s 36ms/step - loss: 0.6371 - acc: 0.8125 - val_loss: 0.8615 - val_acc: 0.5000\n",
            "Epoch 54/100\n",
            "32/32 [==============================] - 1s 36ms/step - loss: 0.4061 - acc: 0.8438 - val_loss: 1.1447 - val_acc: 0.6250\n",
            "Epoch 55/100\n",
            "32/32 [==============================] - 1s 36ms/step - loss: 0.1730 - acc: 0.9688 - val_loss: 0.4448 - val_acc: 0.7500\n",
            "Epoch 56/100\n",
            "32/32 [==============================] - 1s 36ms/step - loss: 0.2133 - acc: 0.9375 - val_loss: 0.4318 - val_acc: 0.7500\n",
            "Epoch 57/100\n",
            "32/32 [==============================] - 1s 36ms/step - loss: 0.1252 - acc: 1.0000 - val_loss: 0.6441 - val_acc: 0.7500\n",
            "Epoch 58/100\n",
            "32/32 [==============================] - 1s 35ms/step - loss: 0.1195 - acc: 0.9688 - val_loss: 0.7240 - val_acc: 0.7500\n",
            "Epoch 59/100\n",
            "32/32 [==============================] - 1s 36ms/step - loss: 0.2701 - acc: 0.9688 - val_loss: 1.9106 - val_acc: 0.6250\n",
            "Epoch 60/100\n",
            "32/32 [==============================] - 1s 36ms/step - loss: 0.8182 - acc: 0.9062 - val_loss: 1.6662 - val_acc: 0.6250\n",
            "Epoch 61/100\n",
            "32/32 [==============================] - 1s 36ms/step - loss: 1.2314 - acc: 0.7812 - val_loss: 1.3053 - val_acc: 0.6250\n",
            "Epoch 62/100\n",
            "32/32 [==============================] - 1s 36ms/step - loss: 1.0818 - acc: 0.8125 - val_loss: 1.0471 - val_acc: 0.6250\n",
            "Epoch 63/100\n",
            "32/32 [==============================] - 1s 35ms/step - loss: 1.5976 - acc: 0.6562 - val_loss: 1.1645 - val_acc: 0.6250\n",
            "Epoch 64/100\n",
            "32/32 [==============================] - 1s 36ms/step - loss: 1.5734 - acc: 0.5312 - val_loss: 1.2808 - val_acc: 0.5000\n",
            "Epoch 65/100\n",
            "32/32 [==============================] - 1s 36ms/step - loss: 0.6014 - acc: 0.8438 - val_loss: 1.1337 - val_acc: 0.6250\n",
            "Epoch 66/100\n",
            "32/32 [==============================] - 1s 35ms/step - loss: 0.3864 - acc: 0.8438 - val_loss: 0.8798 - val_acc: 0.6250\n",
            "Epoch 67/100\n"
          ],
          "name": "stdout"
        },
        {
          "output_type": "stream",
          "text": [
            "32/32 [==============================] - 1s 36ms/step - loss: 0.5325 - acc: 0.7812 - val_loss: 0.6269 - val_acc: 0.6250\n",
            "Epoch 68/100\n",
            "32/32 [==============================] - 1s 36ms/step - loss: 0.3574 - acc: 0.9062 - val_loss: 0.9512 - val_acc: 0.6250\n",
            "Epoch 69/100\n",
            "32/32 [==============================] - 1s 36ms/step - loss: 0.3547 - acc: 0.9375 - val_loss: 0.8849 - val_acc: 0.7500\n",
            "Epoch 70/100\n",
            "32/32 [==============================] - 1s 36ms/step - loss: 0.3257 - acc: 0.8438 - val_loss: 0.7215 - val_acc: 0.7500\n",
            "Epoch 71/100\n",
            "32/32 [==============================] - 1s 36ms/step - loss: 0.3033 - acc: 0.8438 - val_loss: 0.8126 - val_acc: 0.6250\n",
            "Epoch 72/100\n",
            "32/32 [==============================] - 1s 36ms/step - loss: 0.3335 - acc: 0.9062 - val_loss: 0.9451 - val_acc: 0.5000\n",
            "Epoch 73/100\n",
            "32/32 [==============================] - 1s 36ms/step - loss: 0.3976 - acc: 0.8750 - val_loss: 0.8221 - val_acc: 0.5000\n",
            "Epoch 74/100\n",
            "32/32 [==============================] - 1s 36ms/step - loss: 0.4513 - acc: 0.8438 - val_loss: 0.7955 - val_acc: 0.5000\n",
            "Epoch 75/100\n",
            "32/32 [==============================] - 1s 36ms/step - loss: 0.4223 - acc: 0.8750 - val_loss: 1.0512 - val_acc: 0.6250\n",
            "Epoch 76/100\n",
            "32/32 [==============================] - 1s 36ms/step - loss: 0.5587 - acc: 0.8438 - val_loss: 1.0857 - val_acc: 0.6250\n",
            "Epoch 77/100\n",
            "32/32 [==============================] - 1s 36ms/step - loss: 0.4331 - acc: 0.7812 - val_loss: 0.8025 - val_acc: 0.7500\n",
            "Epoch 78/100\n",
            "32/32 [==============================] - 1s 36ms/step - loss: 0.3321 - acc: 0.8750 - val_loss: 0.8706 - val_acc: 0.7500\n",
            "Epoch 79/100\n",
            "32/32 [==============================] - 1s 36ms/step - loss: 0.3364 - acc: 0.8750 - val_loss: 1.0022 - val_acc: 0.7500\n",
            "Epoch 80/100\n",
            "32/32 [==============================] - 1s 36ms/step - loss: 0.3457 - acc: 0.7812 - val_loss: 0.9436 - val_acc: 0.6250\n",
            "Epoch 81/100\n",
            "32/32 [==============================] - 1s 36ms/step - loss: 0.3341 - acc: 0.9062 - val_loss: 1.0211 - val_acc: 0.6250\n",
            "Epoch 82/100\n",
            "32/32 [==============================] - 1s 36ms/step - loss: 0.2981 - acc: 0.8438 - val_loss: 0.9983 - val_acc: 0.6250\n",
            "Epoch 83/100\n",
            "32/32 [==============================] - 1s 36ms/step - loss: 0.3507 - acc: 0.9375 - val_loss: 1.1946 - val_acc: 0.6250\n",
            "Epoch 84/100\n"
          ],
          "name": "stdout"
        },
        {
          "output_type": "stream",
          "text": [
            "32/32 [==============================] - 1s 36ms/step - loss: 0.2898 - acc: 0.8750 - val_loss: 0.9562 - val_acc: 0.6250\n",
            "Epoch 85/100\n",
            "32/32 [==============================] - 1s 36ms/step - loss: 0.2840 - acc: 0.9062 - val_loss: 0.8155 - val_acc: 0.6250\n",
            "Epoch 86/100\n",
            "32/32 [==============================] - 1s 36ms/step - loss: 0.1713 - acc: 1.0000 - val_loss: 0.4425 - val_acc: 0.8750\n",
            "Epoch 87/100\n",
            "32/32 [==============================] - 1s 35ms/step - loss: 0.1444 - acc: 0.9688 - val_loss: 0.5054 - val_acc: 0.7500\n",
            "Epoch 88/100\n",
            "32/32 [==============================] - 1s 36ms/step - loss: 0.1353 - acc: 0.9688 - val_loss: 0.6386 - val_acc: 0.6250\n",
            "Epoch 89/100\n",
            "32/32 [==============================] - 1s 36ms/step - loss: 0.1293 - acc: 0.9688 - val_loss: 0.7505 - val_acc: 0.5000\n",
            "Epoch 90/100\n",
            "32/32 [==============================] - 1s 35ms/step - loss: 0.1638 - acc: 0.9688 - val_loss: 0.4679 - val_acc: 0.8750\n",
            "Epoch 91/100\n",
            "32/32 [==============================] - 1s 35ms/step - loss: 0.2588 - acc: 0.9062 - val_loss: 0.7013 - val_acc: 0.7500\n",
            "Epoch 92/100\n",
            "32/32 [==============================] - 1s 36ms/step - loss: 0.3087 - acc: 0.8750 - val_loss: 1.2024 - val_acc: 0.6250\n",
            "Epoch 93/100\n",
            "32/32 [==============================] - 1s 36ms/step - loss: 0.5851 - acc: 0.8125 - val_loss: 1.5763 - val_acc: 0.6250\n",
            "Epoch 94/100\n",
            "32/32 [==============================] - 1s 35ms/step - loss: 0.5947 - acc: 0.7812 - val_loss: 0.8778 - val_acc: 0.7500\n",
            "Epoch 95/100\n",
            "32/32 [==============================] - 1s 36ms/step - loss: 0.3870 - acc: 0.8750 - val_loss: 1.1475 - val_acc: 0.6250\n",
            "Epoch 96/100\n",
            "32/32 [==============================] - 1s 36ms/step - loss: 0.3128 - acc: 0.9062 - val_loss: 0.9794 - val_acc: 0.6250\n",
            "Epoch 97/100\n",
            "32/32 [==============================] - 1s 36ms/step - loss: 0.1383 - acc: 0.9688 - val_loss: 0.8430 - val_acc: 0.7500\n",
            "Epoch 98/100\n",
            "32/32 [==============================] - 1s 36ms/step - loss: 0.1107 - acc: 0.9688 - val_loss: 0.5612 - val_acc: 0.7500\n",
            "Epoch 99/100\n",
            "32/32 [==============================] - 1s 36ms/step - loss: 0.1034 - acc: 1.0000 - val_loss: 0.5035 - val_acc: 0.7500\n",
            "Epoch 100/100\n",
            "32/32 [==============================] - 1s 35ms/step - loss: 0.0903 - acc: 1.0000 - val_loss: 0.6337 - val_acc: 0.7500\n",
            "batch size : 8 -> 116 seconds for training with CPU\n"
          ],
          "name": "stdout"
        }
      ]
    },
    {
      "metadata": {
        "id": "QD_5nMeOGm1b",
        "colab_type": "code",
        "colab": {}
      },
      "cell_type": "code",
      "source": [
        ""
      ],
      "execution_count": 0,
      "outputs": []
    }
  ]
}